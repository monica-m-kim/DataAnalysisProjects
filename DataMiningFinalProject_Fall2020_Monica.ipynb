{
 "cells": [
  {
   "cell_type": "markdown",
   "metadata": {},
   "source": [
    "#### December, 2020\n",
    "## BQOM 2578 Data Mining Final Project :\n",
    "### Predicting Subscribers and Trialists with MUBI Data\n",
    "_____________________________________\n",
    "#### Monica Kim\n",
    "#### MS in Marketing Science and Business Analytics, University of Pittsburgh"
   ]
  },
  {
   "cell_type": "markdown",
   "metadata": {},
   "source": [
    "This final project was done for Data Mining course(Fall 2020) at the University of Pittsburgh. The data used in the project was retrieved from Kaggle (https://www.kaggle.com/clementmsika/mubi-sqlite-database-for-movie-lovers) <br>\n",
    "For questions regarding the project and final paper, please send me an email to monicakim@pitt.edu"
   ]
  },
  {
   "cell_type": "markdown",
   "metadata": {},
   "source": [
    "***\n",
    "### Data Preprocessing and Exploratory Analysis\n",
    "***"
   ]
  },
  {
   "cell_type": "code",
   "execution_count": 1,
   "metadata": {},
   "outputs": [],
   "source": [
    "import pandas as pd\n",
    "import numpy as np\n",
    "import seaborn as sns\n",
    "import matplotlib.pyplot as plt\n",
    "from sklearn.linear_model import LogisticRegressionCV\n",
    "from sklearn import metrics\n",
    "pd.set_option(\"display.max_columns\", None)"
   ]
  },
  {
   "cell_type": "code",
   "execution_count": 2,
   "metadata": {},
   "outputs": [
    {
     "name": "stderr",
     "output_type": "stream",
     "text": [
      "/opt/anaconda3/lib/python3.7/site-packages/IPython/core/interactiveshell.py:3058: DtypeWarning: Columns (9,10,11,12) have mixed types. Specify dtype option on import or set low_memory=False.\n",
      "  interactivity=interactivity, compiler=compiler, result=result)\n"
     ]
    }
   ],
   "source": [
    "listdf = pd.read_csv('mubi_lists_data.csv')\n",
    "moviedf = pd.read_csv('mubi_movie_data.csv')\n",
    "ratingsdf = pd.read_csv('mubi_ratings_data.csv', error_bad_lines=False)"
   ]
  },
  {
   "cell_type": "code",
   "execution_count": 3,
   "metadata": {},
   "outputs": [
    {
     "data": {
      "text/html": [
       "<div>\n",
       "<style scoped>\n",
       "    .dataframe tbody tr th:only-of-type {\n",
       "        vertical-align: middle;\n",
       "    }\n",
       "\n",
       "    .dataframe tbody tr th {\n",
       "        vertical-align: top;\n",
       "    }\n",
       "\n",
       "    .dataframe thead th {\n",
       "        text-align: right;\n",
       "    }\n",
       "</style>\n",
       "<table border=\"1\" class=\"dataframe\">\n",
       "  <thead>\n",
       "    <tr style=\"text-align: right;\">\n",
       "      <th></th>\n",
       "      <th>user_id</th>\n",
       "      <th>list_id</th>\n",
       "      <th>list_title</th>\n",
       "      <th>list_movie_number</th>\n",
       "      <th>list_update_timestamp_utc</th>\n",
       "      <th>list_creation_timestamp_utc</th>\n",
       "      <th>list_followers</th>\n",
       "      <th>list_url</th>\n",
       "      <th>list_comments</th>\n",
       "      <th>list_description</th>\n",
       "      <th>list_cover_image_url</th>\n",
       "      <th>list_first_image_url</th>\n",
       "      <th>list_second_image_url</th>\n",
       "      <th>list_third_image_url</th>\n",
       "    </tr>\n",
       "  </thead>\n",
       "  <tbody>\n",
       "    <tr>\n",
       "      <td>0</td>\n",
       "      <td>85981819</td>\n",
       "      <td>1969</td>\n",
       "      <td>250 Favourite Films</td>\n",
       "      <td>250</td>\n",
       "      <td>2019-11-26 03:20:17</td>\n",
       "      <td>2009-12-18 13:04:48</td>\n",
       "      <td>23</td>\n",
       "      <td>http://mubi.com/lists/250-favourite-films</td>\n",
       "      <td>5</td>\n",
       "      <td>&lt;p&gt;In a loose order, but an order nonetheless....</td>\n",
       "      <td>https://assets.mubicdn.net/images/film/115/ima...</td>\n",
       "      <td>https://assets.mubicdn.net/images/film/115/ima...</td>\n",
       "      <td>https://assets.mubicdn.net/images/film/3664/im...</td>\n",
       "      <td>https://assets.mubicdn.net/images/film/187/ima...</td>\n",
       "    </tr>\n",
       "    <tr>\n",
       "      <td>1</td>\n",
       "      <td>85981819</td>\n",
       "      <td>3946</td>\n",
       "      <td>Films that should be better known</td>\n",
       "      <td>181</td>\n",
       "      <td>2020-05-01 05:54:39</td>\n",
       "      <td>2010-01-30 16:27:27</td>\n",
       "      <td>308</td>\n",
       "      <td>http://mubi.com/lists/films-that-should-be-bet...</td>\n",
       "      <td>11</td>\n",
       "      <td>&lt;p&gt;These are the films that need to be in more...</td>\n",
       "      <td>https://assets.mubicdn.net/images/film/20780/i...</td>\n",
       "      <td>https://assets.mubicdn.net/images/film/20780/i...</td>\n",
       "      <td>https://assets.mubicdn.net/images/film/19167/i...</td>\n",
       "      <td>https://assets.mubicdn.net/images/film/23056/i...</td>\n",
       "    </tr>\n",
       "    <tr>\n",
       "      <td>2</td>\n",
       "      <td>85981819</td>\n",
       "      <td>6683</td>\n",
       "      <td>Films by country (completely stolen from Glemaud)</td>\n",
       "      <td>179</td>\n",
       "      <td>2020-04-12 08:31:35</td>\n",
       "      <td>2010-03-31 08:55:10</td>\n",
       "      <td>32</td>\n",
       "      <td>http://mubi.com/lists/films-by-country-complet...</td>\n",
       "      <td>5</td>\n",
       "      <td>&lt;p&gt;Being a compulsive listmaker, cinéphile and...</td>\n",
       "      <td>https://assets.mubicdn.net/images/film/40676/i...</td>\n",
       "      <td>https://assets.mubicdn.net/images/film/40676/i...</td>\n",
       "      <td>https://assets.mubicdn.net/images/film/99891/i...</td>\n",
       "      <td>https://assets.mubicdn.net/images/film/32597/i...</td>\n",
       "    </tr>\n",
       "    <tr>\n",
       "      <td>3</td>\n",
       "      <td>85981819</td>\n",
       "      <td>8865</td>\n",
       "      <td>Play it cool.</td>\n",
       "      <td>56</td>\n",
       "      <td>2018-12-14 14:53:41</td>\n",
       "      <td>2010-05-10 08:18:40</td>\n",
       "      <td>10</td>\n",
       "      <td>http://mubi.com/lists/play-it-cool</td>\n",
       "      <td>1</td>\n",
       "      <td>&lt;p&gt;A work in progress…&lt;/p&gt;\\n&lt;p&gt;This is intende...</td>\n",
       "      <td>https://assets.mubicdn.net/images/film/11573/i...</td>\n",
       "      <td>https://assets.mubicdn.net/images/film/11573/i...</td>\n",
       "      <td>https://assets.mubicdn.net/images/film/25451/i...</td>\n",
       "      <td>https://assets.mubicdn.net/images/film/1418/im...</td>\n",
       "    </tr>\n",
       "    <tr>\n",
       "      <td>4</td>\n",
       "      <td>85981819</td>\n",
       "      <td>13796</td>\n",
       "      <td>Cinemalism (work in progress)</td>\n",
       "      <td>121</td>\n",
       "      <td>2019-11-26 03:20:23</td>\n",
       "      <td>2010-08-25 14:23:56</td>\n",
       "      <td>43</td>\n",
       "      <td>http://mubi.com/lists/cinemalism-work-in-progress</td>\n",
       "      <td>3</td>\n",
       "      <td>&lt;p&gt;An ongoing list collecting the best in mini...</td>\n",
       "      <td>https://assets.mubicdn.net/images/film/113749/...</td>\n",
       "      <td>https://assets.mubicdn.net/images/film/113749/...</td>\n",
       "      <td>https://assets.mubicdn.net/images/film/160533/...</td>\n",
       "      <td>https://assets.mubicdn.net/images/film/95112/i...</td>\n",
       "    </tr>\n",
       "  </tbody>\n",
       "</table>\n",
       "</div>"
      ],
      "text/plain": [
       "    user_id  list_id                                         list_title  \\\n",
       "0  85981819     1969                                250 Favourite Films   \n",
       "1  85981819     3946                  Films that should be better known   \n",
       "2  85981819     6683  Films by country (completely stolen from Glemaud)   \n",
       "3  85981819     8865                                      Play it cool.   \n",
       "4  85981819    13796                      Cinemalism (work in progress)   \n",
       "\n",
       "   list_movie_number list_update_timestamp_utc list_creation_timestamp_utc  \\\n",
       "0                250       2019-11-26 03:20:17         2009-12-18 13:04:48   \n",
       "1                181       2020-05-01 05:54:39         2010-01-30 16:27:27   \n",
       "2                179       2020-04-12 08:31:35         2010-03-31 08:55:10   \n",
       "3                 56       2018-12-14 14:53:41         2010-05-10 08:18:40   \n",
       "4                121       2019-11-26 03:20:23         2010-08-25 14:23:56   \n",
       "\n",
       "   list_followers                                           list_url  \\\n",
       "0              23          http://mubi.com/lists/250-favourite-films   \n",
       "1             308  http://mubi.com/lists/films-that-should-be-bet...   \n",
       "2              32  http://mubi.com/lists/films-by-country-complet...   \n",
       "3              10                 http://mubi.com/lists/play-it-cool   \n",
       "4              43  http://mubi.com/lists/cinemalism-work-in-progress   \n",
       "\n",
       "   list_comments                                   list_description  \\\n",
       "0              5  <p>In a loose order, but an order nonetheless....   \n",
       "1             11  <p>These are the films that need to be in more...   \n",
       "2              5  <p>Being a compulsive listmaker, cinéphile and...   \n",
       "3              1  <p>A work in progress…</p>\\n<p>This is intende...   \n",
       "4              3  <p>An ongoing list collecting the best in mini...   \n",
       "\n",
       "                                list_cover_image_url  \\\n",
       "0  https://assets.mubicdn.net/images/film/115/ima...   \n",
       "1  https://assets.mubicdn.net/images/film/20780/i...   \n",
       "2  https://assets.mubicdn.net/images/film/40676/i...   \n",
       "3  https://assets.mubicdn.net/images/film/11573/i...   \n",
       "4  https://assets.mubicdn.net/images/film/113749/...   \n",
       "\n",
       "                                list_first_image_url  \\\n",
       "0  https://assets.mubicdn.net/images/film/115/ima...   \n",
       "1  https://assets.mubicdn.net/images/film/20780/i...   \n",
       "2  https://assets.mubicdn.net/images/film/40676/i...   \n",
       "3  https://assets.mubicdn.net/images/film/11573/i...   \n",
       "4  https://assets.mubicdn.net/images/film/113749/...   \n",
       "\n",
       "                               list_second_image_url  \\\n",
       "0  https://assets.mubicdn.net/images/film/3664/im...   \n",
       "1  https://assets.mubicdn.net/images/film/19167/i...   \n",
       "2  https://assets.mubicdn.net/images/film/99891/i...   \n",
       "3  https://assets.mubicdn.net/images/film/25451/i...   \n",
       "4  https://assets.mubicdn.net/images/film/160533/...   \n",
       "\n",
       "                                list_third_image_url  \n",
       "0  https://assets.mubicdn.net/images/film/187/ima...  \n",
       "1  https://assets.mubicdn.net/images/film/23056/i...  \n",
       "2  https://assets.mubicdn.net/images/film/32597/i...  \n",
       "3  https://assets.mubicdn.net/images/film/1418/im...  \n",
       "4  https://assets.mubicdn.net/images/film/95112/i...  "
      ]
     },
     "execution_count": 3,
     "metadata": {},
     "output_type": "execute_result"
    }
   ],
   "source": [
    "listdf.head()"
   ]
  },
  {
   "cell_type": "code",
   "execution_count": 4,
   "metadata": {},
   "outputs": [
    {
     "data": {
      "text/plain": [
       "23118"
      ]
     },
     "execution_count": 4,
     "metadata": {},
     "output_type": "execute_result"
    }
   ],
   "source": [
    "listdf['user_id'].nunique()"
   ]
  },
  {
   "cell_type": "code",
   "execution_count": 5,
   "metadata": {},
   "outputs": [
    {
     "data": {
      "text/plain": [
       "80311"
      ]
     },
     "execution_count": 5,
     "metadata": {},
     "output_type": "execute_result"
    }
   ],
   "source": [
    "listdf['list_id'].nunique()"
   ]
  },
  {
   "cell_type": "code",
   "execution_count": 6,
   "metadata": {},
   "outputs": [
    {
     "data": {
      "text/plain": [
       "37.65771812080537"
      ]
     },
     "execution_count": 6,
     "metadata": {},
     "output_type": "execute_result"
    }
   ],
   "source": [
    "listdf['list_movie_number'].mean()"
   ]
  },
  {
   "cell_type": "code",
   "execution_count": 7,
   "metadata": {},
   "outputs": [
    {
     "data": {
      "text/plain": [
       "10915"
      ]
     },
     "execution_count": 7,
     "metadata": {},
     "output_type": "execute_result"
    }
   ],
   "source": [
    "listdf['list_movie_number'].max()"
   ]
  },
  {
   "cell_type": "code",
   "execution_count": 8,
   "metadata": {},
   "outputs": [
    {
     "data": {
      "text/plain": [
       "0"
      ]
     },
     "execution_count": 8,
     "metadata": {},
     "output_type": "execute_result"
    }
   ],
   "source": [
    "listdf['list_movie_number'].min()"
   ]
  },
  {
   "cell_type": "code",
   "execution_count": 9,
   "metadata": {},
   "outputs": [],
   "source": [
    "import datetime as dt\n",
    "\n",
    "listdf['list_creation_timestamp_utc'] = pd.to_datetime(listdf.list_creation_timestamp_utc,format='%Y-%m-%d %H:%M:%S')\n",
    "listdf['list_update_timestamp_utc'] = pd.to_datetime(listdf.list_update_timestamp_utc,format='%Y-%m-%d %H:%M:%S')\n",
    "\n",
    "listdf['Creation_to_update_time'] = (listdf['list_update_timestamp_utc'] - listdf['list_creation_timestamp_utc']).dt.days\n",
    "listdf = listdf.astype({'Creation_to_update_time': object})"
   ]
  },
  {
   "cell_type": "code",
   "execution_count": 10,
   "metadata": {},
   "outputs": [],
   "source": [
    "listdf1=pd.pivot_table(listdf, index=['user_id'],values=['list_id'],aggfunc=len)\n",
    "listdf2=pd.pivot_table(listdf, index=['user_id'],values=['list_followers','list_comments','list_movie_number'],aggfunc=np.sum)\n",
    "listdf3=pd.pivot_table(listdf, index=['user_id'],values=['Creation_to_update_time'],aggfunc=max)\n",
    "listdf4=pd.concat([listdf1,listdf2,listdf3], axis=1, sort=False).reset_index()"
   ]
  },
  {
   "cell_type": "code",
   "execution_count": 11,
   "metadata": {},
   "outputs": [],
   "source": [
    "listdf4 = listdf4.rename(columns={'list_id':'list_count','list_comments':'comments_sum','list_followers':'followers_sum'})"
   ]
  },
  {
   "cell_type": "code",
   "execution_count": 12,
   "metadata": {},
   "outputs": [
    {
     "data": {
      "text/plain": [
       "11558       1\n",
       "13604       1\n",
       "13608       1\n",
       "13609       1\n",
       "13611       1\n",
       "         ... \n",
       "6244      308\n",
       "14305     330\n",
       "4226      434\n",
       "10997    1097\n",
       "4144     1263\n",
       "Name: list_count, Length: 23118, dtype: int64"
      ]
     },
     "execution_count": 12,
     "metadata": {},
     "output_type": "execute_result"
    }
   ],
   "source": [
    "listdf4['list_count'].sort_values()"
   ]
  },
  {
   "cell_type": "code",
   "execution_count": 13,
   "metadata": {},
   "outputs": [
    {
     "data": {
      "text/html": [
       "<div>\n",
       "<style scoped>\n",
       "    .dataframe tbody tr th:only-of-type {\n",
       "        vertical-align: middle;\n",
       "    }\n",
       "\n",
       "    .dataframe tbody tr th {\n",
       "        vertical-align: top;\n",
       "    }\n",
       "\n",
       "    .dataframe thead th {\n",
       "        text-align: right;\n",
       "    }\n",
       "</style>\n",
       "<table border=\"1\" class=\"dataframe\">\n",
       "  <thead>\n",
       "    <tr style=\"text-align: right;\">\n",
       "      <th></th>\n",
       "      <th>list_movie_number</th>\n",
       "      <th>list_followers</th>\n",
       "      <th>list_comments</th>\n",
       "    </tr>\n",
       "    <tr>\n",
       "      <th>user_id</th>\n",
       "      <th></th>\n",
       "      <th></th>\n",
       "      <th></th>\n",
       "    </tr>\n",
       "  </thead>\n",
       "  <tbody>\n",
       "    <tr>\n",
       "      <td>61596227</td>\n",
       "      <td>34805</td>\n",
       "      <td>46415</td>\n",
       "      <td>3438</td>\n",
       "    </tr>\n",
       "    <tr>\n",
       "      <td>18285316</td>\n",
       "      <td>12252</td>\n",
       "      <td>9537</td>\n",
       "      <td>1441</td>\n",
       "    </tr>\n",
       "    <tr>\n",
       "      <td>86799281</td>\n",
       "      <td>17155</td>\n",
       "      <td>6597</td>\n",
       "      <td>476</td>\n",
       "    </tr>\n",
       "    <tr>\n",
       "      <td>43266750</td>\n",
       "      <td>4313</td>\n",
       "      <td>6130</td>\n",
       "      <td>334</td>\n",
       "    </tr>\n",
       "    <tr>\n",
       "      <td>7614253</td>\n",
       "      <td>3247</td>\n",
       "      <td>5304</td>\n",
       "      <td>62</td>\n",
       "    </tr>\n",
       "    <tr>\n",
       "      <td>...</td>\n",
       "      <td>...</td>\n",
       "      <td>...</td>\n",
       "      <td>...</td>\n",
       "    </tr>\n",
       "    <tr>\n",
       "      <td>40008160</td>\n",
       "      <td>134</td>\n",
       "      <td>0</td>\n",
       "      <td>0</td>\n",
       "    </tr>\n",
       "    <tr>\n",
       "      <td>39987903</td>\n",
       "      <td>12</td>\n",
       "      <td>0</td>\n",
       "      <td>0</td>\n",
       "    </tr>\n",
       "    <tr>\n",
       "      <td>39972537</td>\n",
       "      <td>5</td>\n",
       "      <td>0</td>\n",
       "      <td>0</td>\n",
       "    </tr>\n",
       "    <tr>\n",
       "      <td>39958940</td>\n",
       "      <td>32</td>\n",
       "      <td>0</td>\n",
       "      <td>0</td>\n",
       "    </tr>\n",
       "    <tr>\n",
       "      <td>99997323</td>\n",
       "      <td>2</td>\n",
       "      <td>0</td>\n",
       "      <td>0</td>\n",
       "    </tr>\n",
       "  </tbody>\n",
       "</table>\n",
       "<p>23118 rows × 3 columns</p>\n",
       "</div>"
      ],
      "text/plain": [
       "          list_movie_number  list_followers  list_comments\n",
       "user_id                                                   \n",
       "61596227              34805           46415           3438\n",
       "18285316              12252            9537           1441\n",
       "86799281              17155            6597            476\n",
       "43266750               4313            6130            334\n",
       "7614253                3247            5304             62\n",
       "...                     ...             ...            ...\n",
       "40008160                134               0              0\n",
       "39987903                 12               0              0\n",
       "39972537                  5               0              0\n",
       "39958940                 32               0              0\n",
       "99997323                  2               0              0\n",
       "\n",
       "[23118 rows x 3 columns]"
      ]
     },
     "execution_count": 13,
     "metadata": {},
     "output_type": "execute_result"
    }
   ],
   "source": [
    "listdf5 = listdf.groupby('user_id')[['list_movie_number','list_followers','list_comments']].sum()\n",
    "listdf5.sort_values('list_followers', ascending = False)"
   ]
  },
  {
   "cell_type": "code",
   "execution_count": 14,
   "metadata": {},
   "outputs": [
    {
     "data": {
      "text/html": [
       "<div>\n",
       "<style scoped>\n",
       "    .dataframe tbody tr th:only-of-type {\n",
       "        vertical-align: middle;\n",
       "    }\n",
       "\n",
       "    .dataframe tbody tr th {\n",
       "        vertical-align: top;\n",
       "    }\n",
       "\n",
       "    .dataframe thead th {\n",
       "        text-align: right;\n",
       "    }\n",
       "</style>\n",
       "<table border=\"1\" class=\"dataframe\">\n",
       "  <thead>\n",
       "    <tr style=\"text-align: right;\">\n",
       "      <th></th>\n",
       "      <th>movie_id</th>\n",
       "      <th>movie_title</th>\n",
       "      <th>movie_release_year</th>\n",
       "      <th>movie_url</th>\n",
       "      <th>movie_title_language</th>\n",
       "      <th>movie_popularity</th>\n",
       "      <th>movie_image_url</th>\n",
       "      <th>director_id</th>\n",
       "      <th>director_name</th>\n",
       "      <th>director_url</th>\n",
       "    </tr>\n",
       "  </thead>\n",
       "  <tbody>\n",
       "    <tr>\n",
       "      <td>0</td>\n",
       "      <td>1</td>\n",
       "      <td>La Antena</td>\n",
       "      <td>2007.0</td>\n",
       "      <td>http://mubi.com/films/la-antena</td>\n",
       "      <td>en</td>\n",
       "      <td>105</td>\n",
       "      <td>https://images.mubicdn.net/images/film/1/cache...</td>\n",
       "      <td>131</td>\n",
       "      <td>Esteban Sapir</td>\n",
       "      <td>http://mubi.com/cast/esteban-sapir</td>\n",
       "    </tr>\n",
       "    <tr>\n",
       "      <td>1</td>\n",
       "      <td>2</td>\n",
       "      <td>Elementary Particles</td>\n",
       "      <td>2006.0</td>\n",
       "      <td>http://mubi.com/films/elementary-particles</td>\n",
       "      <td>en</td>\n",
       "      <td>23</td>\n",
       "      <td>https://images.mubicdn.net/images/film/2/cache...</td>\n",
       "      <td>73</td>\n",
       "      <td>Oskar Roehler</td>\n",
       "      <td>http://mubi.com/cast/oskar-roehler</td>\n",
       "    </tr>\n",
       "    <tr>\n",
       "      <td>2</td>\n",
       "      <td>3</td>\n",
       "      <td>It's Winter</td>\n",
       "      <td>2006.0</td>\n",
       "      <td>http://mubi.com/films/its-winter</td>\n",
       "      <td>en</td>\n",
       "      <td>21</td>\n",
       "      <td>https://images.mubicdn.net/images/film/3/cache...</td>\n",
       "      <td>82</td>\n",
       "      <td>Rafi Pitts</td>\n",
       "      <td>http://mubi.com/cast/rafi-pitts</td>\n",
       "    </tr>\n",
       "    <tr>\n",
       "      <td>3</td>\n",
       "      <td>4</td>\n",
       "      <td>Kirikou and the Wild Beasts</td>\n",
       "      <td>2005.0</td>\n",
       "      <td>http://mubi.com/films/kirikou-and-the-wild-beasts</td>\n",
       "      <td>en</td>\n",
       "      <td>46</td>\n",
       "      <td>https://images.mubicdn.net/images/film/4/cache...</td>\n",
       "      <td>89, 90</td>\n",
       "      <td>Michel Ocelot, Bénédicte Galup</td>\n",
       "      <td>http://mubi.com/cast/michel-ocelot, http://mub...</td>\n",
       "    </tr>\n",
       "    <tr>\n",
       "      <td>4</td>\n",
       "      <td>5</td>\n",
       "      <td>Padre Nuestro</td>\n",
       "      <td>2007.0</td>\n",
       "      <td>http://mubi.com/films/padre-nuestro</td>\n",
       "      <td>en</td>\n",
       "      <td>7</td>\n",
       "      <td>https://images.mubicdn.net/images/film/5/cache...</td>\n",
       "      <td>92</td>\n",
       "      <td>Christopher Zalla</td>\n",
       "      <td>http://mubi.com/cast/christopher-zalla</td>\n",
       "    </tr>\n",
       "  </tbody>\n",
       "</table>\n",
       "</div>"
      ],
      "text/plain": [
       "   movie_id                  movie_title  movie_release_year  \\\n",
       "0         1                    La Antena              2007.0   \n",
       "1         2         Elementary Particles              2006.0   \n",
       "2         3                  It's Winter              2006.0   \n",
       "3         4  Kirikou and the Wild Beasts              2005.0   \n",
       "4         5                Padre Nuestro              2007.0   \n",
       "\n",
       "                                           movie_url movie_title_language  \\\n",
       "0                    http://mubi.com/films/la-antena                   en   \n",
       "1         http://mubi.com/films/elementary-particles                   en   \n",
       "2                   http://mubi.com/films/its-winter                   en   \n",
       "3  http://mubi.com/films/kirikou-and-the-wild-beasts                   en   \n",
       "4                http://mubi.com/films/padre-nuestro                   en   \n",
       "\n",
       "   movie_popularity                                    movie_image_url  \\\n",
       "0               105  https://images.mubicdn.net/images/film/1/cache...   \n",
       "1                23  https://images.mubicdn.net/images/film/2/cache...   \n",
       "2                21  https://images.mubicdn.net/images/film/3/cache...   \n",
       "3                46  https://images.mubicdn.net/images/film/4/cache...   \n",
       "4                 7  https://images.mubicdn.net/images/film/5/cache...   \n",
       "\n",
       "  director_id                   director_name  \\\n",
       "0         131                   Esteban Sapir   \n",
       "1          73                   Oskar Roehler   \n",
       "2          82                      Rafi Pitts   \n",
       "3      89, 90  Michel Ocelot, Bénédicte Galup   \n",
       "4          92               Christopher Zalla   \n",
       "\n",
       "                                        director_url  \n",
       "0                 http://mubi.com/cast/esteban-sapir  \n",
       "1                 http://mubi.com/cast/oskar-roehler  \n",
       "2                    http://mubi.com/cast/rafi-pitts  \n",
       "3  http://mubi.com/cast/michel-ocelot, http://mub...  \n",
       "4             http://mubi.com/cast/christopher-zalla  "
      ]
     },
     "execution_count": 14,
     "metadata": {},
     "output_type": "execute_result"
    }
   ],
   "source": [
    "moviedf.head()"
   ]
  },
  {
   "cell_type": "code",
   "execution_count": 15,
   "metadata": {},
   "outputs": [
    {
     "data": {
      "text/plain": [
       "226575"
      ]
     },
     "execution_count": 15,
     "metadata": {},
     "output_type": "execute_result"
    }
   ],
   "source": [
    "moviedf['movie_id'].nunique()"
   ]
  },
  {
   "cell_type": "code",
   "execution_count": 16,
   "metadata": {},
   "outputs": [
    {
     "data": {
      "text/plain": [
       "13989"
      ]
     },
     "execution_count": 16,
     "metadata": {},
     "output_type": "execute_result"
    }
   ],
   "source": [
    "moviedf['movie_popularity'].max()"
   ]
  },
  {
   "cell_type": "code",
   "execution_count": 17,
   "metadata": {},
   "outputs": [
    {
     "data": {
      "text/plain": [
       "95645"
      ]
     },
     "execution_count": 17,
     "metadata": {},
     "output_type": "execute_result"
    }
   ],
   "source": [
    "moviedf['director_name'].nunique()"
   ]
  },
  {
   "cell_type": "code",
   "execution_count": 18,
   "metadata": {},
   "outputs": [
    {
     "data": {
      "text/html": [
       "<div>\n",
       "<style scoped>\n",
       "    .dataframe tbody tr th:only-of-type {\n",
       "        vertical-align: middle;\n",
       "    }\n",
       "\n",
       "    .dataframe tbody tr th {\n",
       "        vertical-align: top;\n",
       "    }\n",
       "\n",
       "    .dataframe thead th {\n",
       "        text-align: right;\n",
       "    }\n",
       "</style>\n",
       "<table border=\"1\" class=\"dataframe\">\n",
       "  <thead>\n",
       "    <tr style=\"text-align: right;\">\n",
       "      <th></th>\n",
       "      <th>movie_id</th>\n",
       "      <th>rating_id</th>\n",
       "      <th>rating_url</th>\n",
       "      <th>rating_score</th>\n",
       "      <th>rating_timestamp_utc</th>\n",
       "      <th>critic</th>\n",
       "      <th>critic_likes</th>\n",
       "      <th>critic_comments</th>\n",
       "      <th>user_id</th>\n",
       "      <th>user_trialist</th>\n",
       "      <th>user_subscriber</th>\n",
       "      <th>user_eligible_for_trial</th>\n",
       "      <th>user_has_payment_method</th>\n",
       "    </tr>\n",
       "  </thead>\n",
       "  <tbody>\n",
       "    <tr>\n",
       "      <td>0</td>\n",
       "      <td>1066</td>\n",
       "      <td>15610495</td>\n",
       "      <td>http://mubi.com/films/pavee-lackeen-the-travel...</td>\n",
       "      <td>3.0</td>\n",
       "      <td>2017-06-10 12:38:33</td>\n",
       "      <td>NaN</td>\n",
       "      <td>0</td>\n",
       "      <td>0</td>\n",
       "      <td>41579158</td>\n",
       "      <td>False</td>\n",
       "      <td>False</td>\n",
       "      <td>True</td>\n",
       "      <td>False</td>\n",
       "    </tr>\n",
       "    <tr>\n",
       "      <td>1</td>\n",
       "      <td>1066</td>\n",
       "      <td>10704606</td>\n",
       "      <td>http://mubi.com/films/pavee-lackeen-the-travel...</td>\n",
       "      <td>2.0</td>\n",
       "      <td>2014-08-15 23:42:31</td>\n",
       "      <td>NaN</td>\n",
       "      <td>0</td>\n",
       "      <td>0</td>\n",
       "      <td>85981819</td>\n",
       "      <td>True</td>\n",
       "      <td>True</td>\n",
       "      <td>False</td>\n",
       "      <td>True</td>\n",
       "    </tr>\n",
       "    <tr>\n",
       "      <td>2</td>\n",
       "      <td>1066</td>\n",
       "      <td>10177114</td>\n",
       "      <td>http://mubi.com/films/pavee-lackeen-the-travel...</td>\n",
       "      <td>2.0</td>\n",
       "      <td>2014-01-30 13:21:57</td>\n",
       "      <td>NaN</td>\n",
       "      <td>0</td>\n",
       "      <td>0</td>\n",
       "      <td>4208563</td>\n",
       "      <td>False</td>\n",
       "      <td>False</td>\n",
       "      <td>True</td>\n",
       "      <td>True</td>\n",
       "    </tr>\n",
       "    <tr>\n",
       "      <td>3</td>\n",
       "      <td>1066</td>\n",
       "      <td>10130280</td>\n",
       "      <td>http://mubi.com/films/pavee-lackeen-the-travel...</td>\n",
       "      <td>3.0</td>\n",
       "      <td>2014-01-19 01:04:23</td>\n",
       "      <td>I am a bit disappointed by this documentary fi...</td>\n",
       "      <td>0</td>\n",
       "      <td>0</td>\n",
       "      <td>9820140</td>\n",
       "      <td>False</td>\n",
       "      <td>False</td>\n",
       "      <td>True</td>\n",
       "      <td>False</td>\n",
       "    </tr>\n",
       "    <tr>\n",
       "      <td>4</td>\n",
       "      <td>1066</td>\n",
       "      <td>8357049</td>\n",
       "      <td>http://mubi.com/films/pavee-lackeen-the-travel...</td>\n",
       "      <td>4.0</td>\n",
       "      <td>2012-10-02 18:28:47</td>\n",
       "      <td>NaN</td>\n",
       "      <td>0</td>\n",
       "      <td>0</td>\n",
       "      <td>68654088</td>\n",
       "      <td>False</td>\n",
       "      <td>False</td>\n",
       "      <td>True</td>\n",
       "      <td>True</td>\n",
       "    </tr>\n",
       "  </tbody>\n",
       "</table>\n",
       "</div>"
      ],
      "text/plain": [
       "   movie_id  rating_id                                         rating_url  \\\n",
       "0      1066   15610495  http://mubi.com/films/pavee-lackeen-the-travel...   \n",
       "1      1066   10704606  http://mubi.com/films/pavee-lackeen-the-travel...   \n",
       "2      1066   10177114  http://mubi.com/films/pavee-lackeen-the-travel...   \n",
       "3      1066   10130280  http://mubi.com/films/pavee-lackeen-the-travel...   \n",
       "4      1066    8357049  http://mubi.com/films/pavee-lackeen-the-travel...   \n",
       "\n",
       "   rating_score rating_timestamp_utc  \\\n",
       "0           3.0  2017-06-10 12:38:33   \n",
       "1           2.0  2014-08-15 23:42:31   \n",
       "2           2.0  2014-01-30 13:21:57   \n",
       "3           3.0  2014-01-19 01:04:23   \n",
       "4           4.0  2012-10-02 18:28:47   \n",
       "\n",
       "                                              critic  critic_likes  \\\n",
       "0                                                NaN             0   \n",
       "1                                                NaN             0   \n",
       "2                                                NaN             0   \n",
       "3  I am a bit disappointed by this documentary fi...             0   \n",
       "4                                                NaN             0   \n",
       "\n",
       "   critic_comments   user_id user_trialist user_subscriber  \\\n",
       "0                0  41579158         False           False   \n",
       "1                0  85981819          True            True   \n",
       "2                0   4208563         False           False   \n",
       "3                0   9820140         False           False   \n",
       "4                0  68654088         False           False   \n",
       "\n",
       "  user_eligible_for_trial user_has_payment_method  \n",
       "0                    True                   False  \n",
       "1                   False                    True  \n",
       "2                    True                    True  \n",
       "3                    True                   False  \n",
       "4                    True                    True  "
      ]
     },
     "execution_count": 18,
     "metadata": {},
     "output_type": "execute_result"
    }
   ],
   "source": [
    "ratingsdf.head()"
   ]
  },
  {
   "cell_type": "code",
   "execution_count": 19,
   "metadata": {},
   "outputs": [],
   "source": [
    "ratingsdf['rating_timestamp_utc'] = pd.to_datetime(ratingsdf.rating_timestamp_utc,format='%Y-%m-%d %H:%M:%S').dt.date"
   ]
  },
  {
   "cell_type": "code",
   "execution_count": 20,
   "metadata": {},
   "outputs": [
    {
     "data": {
      "text/plain": [
       "15519997"
      ]
     },
     "execution_count": 20,
     "metadata": {},
     "output_type": "execute_result"
    }
   ],
   "source": [
    "ratingsdf['rating_id'].nunique()"
   ]
  },
  {
   "cell_type": "code",
   "execution_count": 21,
   "metadata": {},
   "outputs": [
    {
     "data": {
      "text/plain": [
       "142698"
      ]
     },
     "execution_count": 21,
     "metadata": {},
     "output_type": "execute_result"
    }
   ],
   "source": [
    "ratingsdf['movie_id'].nunique()"
   ]
  },
  {
   "cell_type": "code",
   "execution_count": 22,
   "metadata": {},
   "outputs": [
    {
     "data": {
      "text/plain": [
       "4.0    5271049\n",
       "3.0    4156587\n",
       "5.0    3570838\n",
       "2.0    1723743\n",
       "1.0     771057\n",
       "Name: rating_score, dtype: int64"
      ]
     },
     "execution_count": 22,
     "metadata": {},
     "output_type": "execute_result"
    }
   ],
   "source": [
    "ratingsdf['rating_score'].value_counts()"
   ]
  },
  {
   "cell_type": "code",
   "execution_count": 23,
   "metadata": {},
   "outputs": [
    {
     "data": {
      "text/plain": [
       "3.590376701528676"
      ]
     },
     "execution_count": 23,
     "metadata": {},
     "output_type": "execute_result"
    }
   ],
   "source": [
    "ratingsdf['rating_score'].mean()"
   ]
  },
  {
   "cell_type": "code",
   "execution_count": 24,
   "metadata": {},
   "outputs": [],
   "source": [
    "peakratings = ratingsdf.loc[ratingsdf['rating_timestamp_utc'] == dt.date(2019, 1, 24)]"
   ]
  },
  {
   "cell_type": "code",
   "execution_count": 25,
   "metadata": {},
   "outputs": [
    {
     "data": {
      "text/html": [
       "<div>\n",
       "<style scoped>\n",
       "    .dataframe tbody tr th:only-of-type {\n",
       "        vertical-align: middle;\n",
       "    }\n",
       "\n",
       "    .dataframe tbody tr th {\n",
       "        vertical-align: top;\n",
       "    }\n",
       "\n",
       "    .dataframe thead th {\n",
       "        text-align: right;\n",
       "    }\n",
       "</style>\n",
       "<table border=\"1\" class=\"dataframe\">\n",
       "  <thead>\n",
       "    <tr style=\"text-align: right;\">\n",
       "      <th></th>\n",
       "      <th>movie_id</th>\n",
       "      <th>rating_id</th>\n",
       "      <th>rating_url</th>\n",
       "      <th>rating_score</th>\n",
       "      <th>rating_timestamp_utc</th>\n",
       "      <th>critic</th>\n",
       "      <th>critic_likes</th>\n",
       "      <th>critic_comments</th>\n",
       "      <th>user_id</th>\n",
       "      <th>user_trialist</th>\n",
       "      <th>user_subscriber</th>\n",
       "      <th>user_eligible_for_trial</th>\n",
       "      <th>user_has_payment_method</th>\n",
       "    </tr>\n",
       "  </thead>\n",
       "  <tbody>\n",
       "    <tr>\n",
       "      <td>387</td>\n",
       "      <td>1069</td>\n",
       "      <td>10803157</td>\n",
       "      <td>http://mubi.com/films/patti-smith-dream-of-lif...</td>\n",
       "      <td>5.0</td>\n",
       "      <td>2019-01-24</td>\n",
       "      <td>She don't fuck much with the past but she fuck...</td>\n",
       "      <td>4</td>\n",
       "      <td>0</td>\n",
       "      <td>50254920</td>\n",
       "      <td>False</td>\n",
       "      <td>False</td>\n",
       "      <td>True</td>\n",
       "      <td>True</td>\n",
       "    </tr>\n",
       "    <tr>\n",
       "      <td>770</td>\n",
       "      <td>1071</td>\n",
       "      <td>9023319</td>\n",
       "      <td>http://mubi.com/films/the-fall-of-berlin/ratin...</td>\n",
       "      <td>2.0</td>\n",
       "      <td>2019-01-24</td>\n",
       "      <td>\"The only difference between Stalin and Tarzan...</td>\n",
       "      <td>4</td>\n",
       "      <td>0</td>\n",
       "      <td>75013057</td>\n",
       "      <td>False</td>\n",
       "      <td>True</td>\n",
       "      <td>False</td>\n",
       "      <td>True</td>\n",
       "    </tr>\n",
       "    <tr>\n",
       "      <td>842</td>\n",
       "      <td>1073</td>\n",
       "      <td>17875080</td>\n",
       "      <td>http://mubi.com/films/innocence-unprotected/ra...</td>\n",
       "      <td>3.0</td>\n",
       "      <td>2019-01-24</td>\n",
       "      <td>NaN</td>\n",
       "      <td>0</td>\n",
       "      <td>0</td>\n",
       "      <td>7974237</td>\n",
       "      <td>False</td>\n",
       "      <td>False</td>\n",
       "      <td>True</td>\n",
       "      <td>False</td>\n",
       "    </tr>\n",
       "    <tr>\n",
       "      <td>901</td>\n",
       "      <td>1073</td>\n",
       "      <td>9262010</td>\n",
       "      <td>http://mubi.com/films/innocence-unprotected/ra...</td>\n",
       "      <td>5.0</td>\n",
       "      <td>2019-01-24</td>\n",
       "      <td>The energy of everyone involved, as well in th...</td>\n",
       "      <td>3</td>\n",
       "      <td>0</td>\n",
       "      <td>10664019</td>\n",
       "      <td>False</td>\n",
       "      <td>False</td>\n",
       "      <td>True</td>\n",
       "      <td>True</td>\n",
       "    </tr>\n",
       "    <tr>\n",
       "      <td>1343</td>\n",
       "      <td>1076</td>\n",
       "      <td>16705138</td>\n",
       "      <td>http://mubi.com/films/the-exterminating-angel/...</td>\n",
       "      <td>5.0</td>\n",
       "      <td>2019-01-24</td>\n",
       "      <td>Buñuel and his impenetrable ambiguity -  cruel...</td>\n",
       "      <td>5</td>\n",
       "      <td>0</td>\n",
       "      <td>49633234</td>\n",
       "      <td>False</td>\n",
       "      <td>False</td>\n",
       "      <td>True</td>\n",
       "      <td>True</td>\n",
       "    </tr>\n",
       "  </tbody>\n",
       "</table>\n",
       "</div>"
      ],
      "text/plain": [
       "      movie_id  rating_id                                         rating_url  \\\n",
       "387       1069   10803157  http://mubi.com/films/patti-smith-dream-of-lif...   \n",
       "770       1071    9023319  http://mubi.com/films/the-fall-of-berlin/ratin...   \n",
       "842       1073   17875080  http://mubi.com/films/innocence-unprotected/ra...   \n",
       "901       1073    9262010  http://mubi.com/films/innocence-unprotected/ra...   \n",
       "1343      1076   16705138  http://mubi.com/films/the-exterminating-angel/...   \n",
       "\n",
       "      rating_score rating_timestamp_utc  \\\n",
       "387            5.0           2019-01-24   \n",
       "770            2.0           2019-01-24   \n",
       "842            3.0           2019-01-24   \n",
       "901            5.0           2019-01-24   \n",
       "1343           5.0           2019-01-24   \n",
       "\n",
       "                                                 critic  critic_likes  \\\n",
       "387   She don't fuck much with the past but she fuck...             4   \n",
       "770   \"The only difference between Stalin and Tarzan...             4   \n",
       "842                                                 NaN             0   \n",
       "901   The energy of everyone involved, as well in th...             3   \n",
       "1343  Buñuel and his impenetrable ambiguity -  cruel...             5   \n",
       "\n",
       "      critic_comments   user_id user_trialist user_subscriber  \\\n",
       "387                 0  50254920         False           False   \n",
       "770                 0  75013057         False            True   \n",
       "842                 0   7974237         False           False   \n",
       "901                 0  10664019         False           False   \n",
       "1343                0  49633234         False           False   \n",
       "\n",
       "     user_eligible_for_trial user_has_payment_method  \n",
       "387                     True                    True  \n",
       "770                    False                    True  \n",
       "842                     True                   False  \n",
       "901                     True                    True  \n",
       "1343                    True                    True  "
      ]
     },
     "execution_count": 25,
     "metadata": {},
     "output_type": "execute_result"
    }
   ],
   "source": [
    "peakratings.head()"
   ]
  },
  {
   "cell_type": "code",
   "execution_count": 26,
   "metadata": {},
   "outputs": [
    {
     "data": {
      "text/plain": [
       "4.0    14232\n",
       "5.0    12275\n",
       "3.0     8138\n",
       "2.0     4414\n",
       "1.0     2271\n",
       "Name: rating_score, dtype: int64"
      ]
     },
     "execution_count": 26,
     "metadata": {},
     "output_type": "execute_result"
    }
   ],
   "source": [
    "peakratings['rating_score'].value_counts()"
   ]
  },
  {
   "cell_type": "code",
   "execution_count": 27,
   "metadata": {},
   "outputs": [
    {
     "data": {
      "text/plain": [
       "133187    131\n",
       "113049     89\n",
       "154583     87\n",
       "36141      80\n",
       "119764     79\n",
       "         ... \n",
       "23744       1\n",
       "102469      1\n",
       "153660      1\n",
       "97508       1\n",
       "2049        1\n",
       "Name: movie_id, Length: 12057, dtype: int64"
      ]
     },
     "execution_count": 27,
     "metadata": {},
     "output_type": "execute_result"
    }
   ],
   "source": [
    "peakratings['movie_id'].value_counts()"
   ]
  },
  {
   "cell_type": "code",
   "execution_count": 28,
   "metadata": {},
   "outputs": [
    {
     "data": {
      "text/html": [
       "<div>\n",
       "<style scoped>\n",
       "    .dataframe tbody tr th:only-of-type {\n",
       "        vertical-align: middle;\n",
       "    }\n",
       "\n",
       "    .dataframe tbody tr th {\n",
       "        vertical-align: top;\n",
       "    }\n",
       "\n",
       "    .dataframe thead th {\n",
       "        text-align: right;\n",
       "    }\n",
       "</style>\n",
       "<table border=\"1\" class=\"dataframe\">\n",
       "  <thead>\n",
       "    <tr style=\"text-align: right;\">\n",
       "      <th></th>\n",
       "      <th>index</th>\n",
       "      <th>user_id</th>\n",
       "    </tr>\n",
       "  </thead>\n",
       "  <tbody>\n",
       "    <tr>\n",
       "      <td>0</td>\n",
       "      <td>54587196</td>\n",
       "      <td>655</td>\n",
       "    </tr>\n",
       "    <tr>\n",
       "      <td>1</td>\n",
       "      <td>89084901</td>\n",
       "      <td>561</td>\n",
       "    </tr>\n",
       "    <tr>\n",
       "      <td>2</td>\n",
       "      <td>92084264</td>\n",
       "      <td>559</td>\n",
       "    </tr>\n",
       "    <tr>\n",
       "      <td>3</td>\n",
       "      <td>40004838</td>\n",
       "      <td>433</td>\n",
       "    </tr>\n",
       "    <tr>\n",
       "      <td>4</td>\n",
       "      <td>7974237</td>\n",
       "      <td>402</td>\n",
       "    </tr>\n",
       "    <tr>\n",
       "      <td>5</td>\n",
       "      <td>25605230</td>\n",
       "      <td>338</td>\n",
       "    </tr>\n",
       "    <tr>\n",
       "      <td>6</td>\n",
       "      <td>11754234</td>\n",
       "      <td>319</td>\n",
       "    </tr>\n",
       "    <tr>\n",
       "      <td>7</td>\n",
       "      <td>34343917</td>\n",
       "      <td>310</td>\n",
       "    </tr>\n",
       "    <tr>\n",
       "      <td>8</td>\n",
       "      <td>21323284</td>\n",
       "      <td>308</td>\n",
       "    </tr>\n",
       "    <tr>\n",
       "      <td>9</td>\n",
       "      <td>63068315</td>\n",
       "      <td>249</td>\n",
       "    </tr>\n",
       "    <tr>\n",
       "      <td>10</td>\n",
       "      <td>44779729</td>\n",
       "      <td>247</td>\n",
       "    </tr>\n",
       "    <tr>\n",
       "      <td>11</td>\n",
       "      <td>8561386</td>\n",
       "      <td>240</td>\n",
       "    </tr>\n",
       "    <tr>\n",
       "      <td>12</td>\n",
       "      <td>20258246</td>\n",
       "      <td>216</td>\n",
       "    </tr>\n",
       "    <tr>\n",
       "      <td>13</td>\n",
       "      <td>23268973</td>\n",
       "      <td>199</td>\n",
       "    </tr>\n",
       "    <tr>\n",
       "      <td>14</td>\n",
       "      <td>15535668</td>\n",
       "      <td>193</td>\n",
       "    </tr>\n",
       "    <tr>\n",
       "      <td>15</td>\n",
       "      <td>65881745</td>\n",
       "      <td>189</td>\n",
       "    </tr>\n",
       "    <tr>\n",
       "      <td>16</td>\n",
       "      <td>87214607</td>\n",
       "      <td>187</td>\n",
       "    </tr>\n",
       "    <tr>\n",
       "      <td>17</td>\n",
       "      <td>86143444</td>\n",
       "      <td>183</td>\n",
       "    </tr>\n",
       "    <tr>\n",
       "      <td>18</td>\n",
       "      <td>2780539</td>\n",
       "      <td>179</td>\n",
       "    </tr>\n",
       "    <tr>\n",
       "      <td>19</td>\n",
       "      <td>49217330</td>\n",
       "      <td>176</td>\n",
       "    </tr>\n",
       "  </tbody>\n",
       "</table>\n",
       "</div>"
      ],
      "text/plain": [
       "       index  user_id\n",
       "0   54587196      655\n",
       "1   89084901      561\n",
       "2   92084264      559\n",
       "3   40004838      433\n",
       "4    7974237      402\n",
       "5   25605230      338\n",
       "6   11754234      319\n",
       "7   34343917      310\n",
       "8   21323284      308\n",
       "9   63068315      249\n",
       "10  44779729      247\n",
       "11   8561386      240\n",
       "12  20258246      216\n",
       "13  23268973      199\n",
       "14  15535668      193\n",
       "15  65881745      189\n",
       "16  87214607      187\n",
       "17  86143444      183\n",
       "18   2780539      179\n",
       "19  49217330      176"
      ]
     },
     "execution_count": 28,
     "metadata": {},
     "output_type": "execute_result"
    }
   ],
   "source": [
    "peakratings['user_id'].value_counts().reset_index().head(20)"
   ]
  },
  {
   "cell_type": "code",
   "execution_count": 29,
   "metadata": {},
   "outputs": [
    {
     "data": {
      "text/plain": [
       "False    25736\n",
       "True     15594\n",
       "Name: user_subscriber, dtype: int64"
      ]
     },
     "execution_count": 29,
     "metadata": {},
     "output_type": "execute_result"
    }
   ],
   "source": [
    "peakratings['user_subscriber'].value_counts()"
   ]
  },
  {
   "cell_type": "code",
   "execution_count": 30,
   "metadata": {},
   "outputs": [
    {
     "data": {
      "text/plain": [
       "5.840045216899816"
      ]
     },
     "execution_count": 30,
     "metadata": {},
     "output_type": "execute_result"
    }
   ],
   "source": [
    "peakratings['user_id'].count() / peakratings['user_id'].nunique()"
   ]
  },
  {
   "cell_type": "code",
   "execution_count": 31,
   "metadata": {},
   "outputs": [
    {
     "data": {
      "text/html": [
       "<div>\n",
       "<style scoped>\n",
       "    .dataframe tbody tr th:only-of-type {\n",
       "        vertical-align: middle;\n",
       "    }\n",
       "\n",
       "    .dataframe tbody tr th {\n",
       "        vertical-align: top;\n",
       "    }\n",
       "\n",
       "    .dataframe thead th {\n",
       "        text-align: right;\n",
       "    }\n",
       "</style>\n",
       "<table border=\"1\" class=\"dataframe\">\n",
       "  <thead>\n",
       "    <tr style=\"text-align: right;\">\n",
       "      <th></th>\n",
       "      <th>rating_timestamp_utc</th>\n",
       "      <th>user_id</th>\n",
       "    </tr>\n",
       "  </thead>\n",
       "  <tbody>\n",
       "    <tr>\n",
       "      <td>3997</td>\n",
       "      <td>2019-01-24</td>\n",
       "      <td>7077</td>\n",
       "    </tr>\n",
       "    <tr>\n",
       "      <td>4447</td>\n",
       "      <td>2020-04-18</td>\n",
       "      <td>6087</td>\n",
       "    </tr>\n",
       "    <tr>\n",
       "      <td>4441</td>\n",
       "      <td>2020-04-12</td>\n",
       "      <td>6043</td>\n",
       "    </tr>\n",
       "    <tr>\n",
       "      <td>4442</td>\n",
       "      <td>2020-04-13</td>\n",
       "      <td>5850</td>\n",
       "    </tr>\n",
       "    <tr>\n",
       "      <td>4427</td>\n",
       "      <td>2020-03-29</td>\n",
       "      <td>5663</td>\n",
       "    </tr>\n",
       "    <tr>\n",
       "      <td>4440</td>\n",
       "      <td>2020-04-11</td>\n",
       "      <td>5627</td>\n",
       "    </tr>\n",
       "    <tr>\n",
       "      <td>4448</td>\n",
       "      <td>2020-04-19</td>\n",
       "      <td>5618</td>\n",
       "    </tr>\n",
       "    <tr>\n",
       "      <td>4446</td>\n",
       "      <td>2020-04-17</td>\n",
       "      <td>5497</td>\n",
       "    </tr>\n",
       "    <tr>\n",
       "      <td>4439</td>\n",
       "      <td>2020-04-10</td>\n",
       "      <td>5215</td>\n",
       "    </tr>\n",
       "    <tr>\n",
       "      <td>4426</td>\n",
       "      <td>2020-03-28</td>\n",
       "      <td>5102</td>\n",
       "    </tr>\n",
       "    <tr>\n",
       "      <td>4444</td>\n",
       "      <td>2020-04-15</td>\n",
       "      <td>5092</td>\n",
       "    </tr>\n",
       "    <tr>\n",
       "      <td>4434</td>\n",
       "      <td>2020-04-05</td>\n",
       "      <td>5065</td>\n",
       "    </tr>\n",
       "    <tr>\n",
       "      <td>4445</td>\n",
       "      <td>2020-04-16</td>\n",
       "      <td>5026</td>\n",
       "    </tr>\n",
       "    <tr>\n",
       "      <td>4443</td>\n",
       "      <td>2020-04-14</td>\n",
       "      <td>4877</td>\n",
       "    </tr>\n",
       "    <tr>\n",
       "      <td>4433</td>\n",
       "      <td>2020-04-04</td>\n",
       "      <td>4761</td>\n",
       "    </tr>\n",
       "    <tr>\n",
       "      <td>4420</td>\n",
       "      <td>2020-03-22</td>\n",
       "      <td>4618</td>\n",
       "    </tr>\n",
       "    <tr>\n",
       "      <td>4428</td>\n",
       "      <td>2020-03-30</td>\n",
       "      <td>4526</td>\n",
       "    </tr>\n",
       "    <tr>\n",
       "      <td>4429</td>\n",
       "      <td>2020-03-31</td>\n",
       "      <td>4364</td>\n",
       "    </tr>\n",
       "    <tr>\n",
       "      <td>4435</td>\n",
       "      <td>2020-04-06</td>\n",
       "      <td>4246</td>\n",
       "    </tr>\n",
       "    <tr>\n",
       "      <td>4438</td>\n",
       "      <td>2020-04-09</td>\n",
       "      <td>4206</td>\n",
       "    </tr>\n",
       "  </tbody>\n",
       "</table>\n",
       "</div>"
      ],
      "text/plain": [
       "     rating_timestamp_utc  user_id\n",
       "3997           2019-01-24     7077\n",
       "4447           2020-04-18     6087\n",
       "4441           2020-04-12     6043\n",
       "4442           2020-04-13     5850\n",
       "4427           2020-03-29     5663\n",
       "4440           2020-04-11     5627\n",
       "4448           2020-04-19     5618\n",
       "4446           2020-04-17     5497\n",
       "4439           2020-04-10     5215\n",
       "4426           2020-03-28     5102\n",
       "4444           2020-04-15     5092\n",
       "4434           2020-04-05     5065\n",
       "4445           2020-04-16     5026\n",
       "4443           2020-04-14     4877\n",
       "4433           2020-04-04     4761\n",
       "4420           2020-03-22     4618\n",
       "4428           2020-03-30     4526\n",
       "4429           2020-03-31     4364\n",
       "4435           2020-04-06     4246\n",
       "4438           2020-04-09     4206"
      ]
     },
     "execution_count": 31,
     "metadata": {},
     "output_type": "execute_result"
    }
   ],
   "source": [
    "ratingsdf.groupby(['rating_timestamp_utc'])['user_id'].nunique().reset_index().sort_values('user_id', ascending=False).head(20)"
   ]
  },
  {
   "cell_type": "code",
   "execution_count": 32,
   "metadata": {},
   "outputs": [
    {
     "data": {
      "text/html": [
       "<div>\n",
       "<style scoped>\n",
       "    .dataframe tbody tr th:only-of-type {\n",
       "        vertical-align: middle;\n",
       "    }\n",
       "\n",
       "    .dataframe tbody tr th {\n",
       "        vertical-align: top;\n",
       "    }\n",
       "\n",
       "    .dataframe thead th {\n",
       "        text-align: right;\n",
       "    }\n",
       "</style>\n",
       "<table border=\"1\" class=\"dataframe\">\n",
       "  <thead>\n",
       "    <tr style=\"text-align: right;\">\n",
       "      <th></th>\n",
       "      <th>rating_timestamp_utc</th>\n",
       "      <th>avgratingnum</th>\n",
       "    </tr>\n",
       "  </thead>\n",
       "  <tbody>\n",
       "    <tr>\n",
       "      <td>259</td>\n",
       "      <td>2008-10-30</td>\n",
       "      <td>38.500000</td>\n",
       "    </tr>\n",
       "    <tr>\n",
       "      <td>46</td>\n",
       "      <td>2008-03-30</td>\n",
       "      <td>35.777778</td>\n",
       "    </tr>\n",
       "    <tr>\n",
       "      <td>468</td>\n",
       "      <td>2009-05-27</td>\n",
       "      <td>35.409091</td>\n",
       "    </tr>\n",
       "    <tr>\n",
       "      <td>463</td>\n",
       "      <td>2009-05-22</td>\n",
       "      <td>31.584000</td>\n",
       "    </tr>\n",
       "    <tr>\n",
       "      <td>485</td>\n",
       "      <td>2009-06-13</td>\n",
       "      <td>29.507614</td>\n",
       "    </tr>\n",
       "    <tr>\n",
       "      <td>436</td>\n",
       "      <td>2009-04-25</td>\n",
       "      <td>29.075758</td>\n",
       "    </tr>\n",
       "    <tr>\n",
       "      <td>558</td>\n",
       "      <td>2009-08-25</td>\n",
       "      <td>28.791878</td>\n",
       "    </tr>\n",
       "    <tr>\n",
       "      <td>425</td>\n",
       "      <td>2009-04-14</td>\n",
       "      <td>28.474576</td>\n",
       "    </tr>\n",
       "    <tr>\n",
       "      <td>428</td>\n",
       "      <td>2009-04-17</td>\n",
       "      <td>28.258065</td>\n",
       "    </tr>\n",
       "    <tr>\n",
       "      <td>464</td>\n",
       "      <td>2009-05-23</td>\n",
       "      <td>28.094828</td>\n",
       "    </tr>\n",
       "    <tr>\n",
       "      <td>407</td>\n",
       "      <td>2009-03-27</td>\n",
       "      <td>27.206897</td>\n",
       "    </tr>\n",
       "    <tr>\n",
       "      <td>469</td>\n",
       "      <td>2009-05-28</td>\n",
       "      <td>27.141243</td>\n",
       "    </tr>\n",
       "    <tr>\n",
       "      <td>489</td>\n",
       "      <td>2009-06-17</td>\n",
       "      <td>27.013274</td>\n",
       "    </tr>\n",
       "    <tr>\n",
       "      <td>453</td>\n",
       "      <td>2009-05-12</td>\n",
       "      <td>26.790909</td>\n",
       "    </tr>\n",
       "    <tr>\n",
       "      <td>526</td>\n",
       "      <td>2009-07-24</td>\n",
       "      <td>26.315000</td>\n",
       "    </tr>\n",
       "    <tr>\n",
       "      <td>521</td>\n",
       "      <td>2009-07-19</td>\n",
       "      <td>26.086420</td>\n",
       "    </tr>\n",
       "    <tr>\n",
       "      <td>430</td>\n",
       "      <td>2009-04-19</td>\n",
       "      <td>26.000000</td>\n",
       "    </tr>\n",
       "    <tr>\n",
       "      <td>108</td>\n",
       "      <td>2008-05-31</td>\n",
       "      <td>26.000000</td>\n",
       "    </tr>\n",
       "    <tr>\n",
       "      <td>479</td>\n",
       "      <td>2009-06-07</td>\n",
       "      <td>25.715278</td>\n",
       "    </tr>\n",
       "    <tr>\n",
       "      <td>442</td>\n",
       "      <td>2009-05-01</td>\n",
       "      <td>25.611940</td>\n",
       "    </tr>\n",
       "    <tr>\n",
       "      <td>254</td>\n",
       "      <td>2008-10-25</td>\n",
       "      <td>25.500000</td>\n",
       "    </tr>\n",
       "    <tr>\n",
       "      <td>532</td>\n",
       "      <td>2009-07-30</td>\n",
       "      <td>25.170854</td>\n",
       "    </tr>\n",
       "    <tr>\n",
       "      <td>542</td>\n",
       "      <td>2009-08-09</td>\n",
       "      <td>25.168421</td>\n",
       "    </tr>\n",
       "    <tr>\n",
       "      <td>554</td>\n",
       "      <td>2009-08-21</td>\n",
       "      <td>25.142222</td>\n",
       "    </tr>\n",
       "    <tr>\n",
       "      <td>358</td>\n",
       "      <td>2009-02-06</td>\n",
       "      <td>24.777778</td>\n",
       "    </tr>\n",
       "    <tr>\n",
       "      <td>454</td>\n",
       "      <td>2009-05-13</td>\n",
       "      <td>24.766355</td>\n",
       "    </tr>\n",
       "    <tr>\n",
       "      <td>286</td>\n",
       "      <td>2008-11-26</td>\n",
       "      <td>24.691318</td>\n",
       "    </tr>\n",
       "    <tr>\n",
       "      <td>426</td>\n",
       "      <td>2009-04-15</td>\n",
       "      <td>24.588235</td>\n",
       "    </tr>\n",
       "    <tr>\n",
       "      <td>195</td>\n",
       "      <td>2008-08-26</td>\n",
       "      <td>24.500000</td>\n",
       "    </tr>\n",
       "    <tr>\n",
       "      <td>525</td>\n",
       "      <td>2009-07-23</td>\n",
       "      <td>24.351598</td>\n",
       "    </tr>\n",
       "  </tbody>\n",
       "</table>\n",
       "</div>"
      ],
      "text/plain": [
       "    rating_timestamp_utc  avgratingnum\n",
       "259           2008-10-30     38.500000\n",
       "46            2008-03-30     35.777778\n",
       "468           2009-05-27     35.409091\n",
       "463           2009-05-22     31.584000\n",
       "485           2009-06-13     29.507614\n",
       "436           2009-04-25     29.075758\n",
       "558           2009-08-25     28.791878\n",
       "425           2009-04-14     28.474576\n",
       "428           2009-04-17     28.258065\n",
       "464           2009-05-23     28.094828\n",
       "407           2009-03-27     27.206897\n",
       "469           2009-05-28     27.141243\n",
       "489           2009-06-17     27.013274\n",
       "453           2009-05-12     26.790909\n",
       "526           2009-07-24     26.315000\n",
       "521           2009-07-19     26.086420\n",
       "430           2009-04-19     26.000000\n",
       "108           2008-05-31     26.000000\n",
       "479           2009-06-07     25.715278\n",
       "442           2009-05-01     25.611940\n",
       "254           2008-10-25     25.500000\n",
       "532           2009-07-30     25.170854\n",
       "542           2009-08-09     25.168421\n",
       "554           2009-08-21     25.142222\n",
       "358           2009-02-06     24.777778\n",
       "454           2009-05-13     24.766355\n",
       "286           2008-11-26     24.691318\n",
       "426           2009-04-15     24.588235\n",
       "195           2008-08-26     24.500000\n",
       "525           2009-07-23     24.351598"
      ]
     },
     "execution_count": 32,
     "metadata": {},
     "output_type": "execute_result"
    }
   ],
   "source": [
    "ratingsdf.groupby(['rating_timestamp_utc']).apply(lambda x: (x['user_id'].count() / x['user_id'].nunique())\n",
    "  ).reset_index(name='avgratingnum').sort_values('avgratingnum', ascending=False).head(30)"
   ]
  },
  {
   "cell_type": "code",
   "execution_count": 33,
   "metadata": {},
   "outputs": [],
   "source": [
    "#Top 10 by Popularity Score\n",
    "top10movie = [161,303,488,147,204,405,1537,92,148,315]"
   ]
  },
  {
   "cell_type": "code",
   "execution_count": 34,
   "metadata": {},
   "outputs": [
    {
     "data": {
      "text/html": [
       "<div>\n",
       "<style scoped>\n",
       "    .dataframe tbody tr th:only-of-type {\n",
       "        vertical-align: middle;\n",
       "    }\n",
       "\n",
       "    .dataframe tbody tr th {\n",
       "        vertical-align: top;\n",
       "    }\n",
       "\n",
       "    .dataframe thead th {\n",
       "        text-align: right;\n",
       "    }\n",
       "</style>\n",
       "<table border=\"1\" class=\"dataframe\">\n",
       "  <thead>\n",
       "    <tr style=\"text-align: right;\">\n",
       "      <th></th>\n",
       "      <th>user_id</th>\n",
       "      <th>top10count</th>\n",
       "    </tr>\n",
       "  </thead>\n",
       "  <tbody>\n",
       "    <tr>\n",
       "      <td>0</td>\n",
       "      <td>181</td>\n",
       "      <td>1</td>\n",
       "    </tr>\n",
       "    <tr>\n",
       "      <td>1</td>\n",
       "      <td>2941</td>\n",
       "      <td>10</td>\n",
       "    </tr>\n",
       "    <tr>\n",
       "      <td>2</td>\n",
       "      <td>12546</td>\n",
       "      <td>5</td>\n",
       "    </tr>\n",
       "    <tr>\n",
       "      <td>3</td>\n",
       "      <td>12704</td>\n",
       "      <td>1</td>\n",
       "    </tr>\n",
       "    <tr>\n",
       "      <td>4</td>\n",
       "      <td>12972</td>\n",
       "      <td>1</td>\n",
       "    </tr>\n",
       "  </tbody>\n",
       "</table>\n",
       "</div>"
      ],
      "text/plain": [
       "   user_id  top10count\n",
       "0      181           1\n",
       "1     2941          10\n",
       "2    12546           5\n",
       "3    12704           1\n",
       "4    12972           1"
      ]
     },
     "execution_count": 34,
     "metadata": {},
     "output_type": "execute_result"
    }
   ],
   "source": [
    "ratingsdf2 = ratingsdf[ratingsdf['movie_id'].isin(top10movie)]\n",
    "ratingsdf3 = ratingsdf2.groupby(['user_id'])['movie_id'].count().reset_index(name='top10count')\n",
    "ratingsdf3.head()"
   ]
  },
  {
   "cell_type": "code",
   "execution_count": 35,
   "metadata": {},
   "outputs": [
    {
     "data": {
      "text/html": [
       "<div>\n",
       "<style scoped>\n",
       "    .dataframe tbody tr th:only-of-type {\n",
       "        vertical-align: middle;\n",
       "    }\n",
       "\n",
       "    .dataframe tbody tr th {\n",
       "        vertical-align: top;\n",
       "    }\n",
       "\n",
       "    .dataframe thead th {\n",
       "        text-align: right;\n",
       "    }\n",
       "</style>\n",
       "<table border=\"1\" class=\"dataframe\">\n",
       "  <thead>\n",
       "    <tr style=\"text-align: right;\">\n",
       "      <th></th>\n",
       "      <th>index</th>\n",
       "      <th>user_id</th>\n",
       "      <th>top10count</th>\n",
       "    </tr>\n",
       "  </thead>\n",
       "  <tbody>\n",
       "    <tr>\n",
       "      <td>0</td>\n",
       "      <td>1</td>\n",
       "      <td>2941</td>\n",
       "      <td>10</td>\n",
       "    </tr>\n",
       "    <tr>\n",
       "      <td>1</td>\n",
       "      <td>8</td>\n",
       "      <td>14464</td>\n",
       "      <td>10</td>\n",
       "    </tr>\n",
       "    <tr>\n",
       "      <td>2</td>\n",
       "      <td>15</td>\n",
       "      <td>21050</td>\n",
       "      <td>10</td>\n",
       "    </tr>\n",
       "    <tr>\n",
       "      <td>3</td>\n",
       "      <td>22</td>\n",
       "      <td>29237</td>\n",
       "      <td>10</td>\n",
       "    </tr>\n",
       "    <tr>\n",
       "      <td>4</td>\n",
       "      <td>41</td>\n",
       "      <td>49458</td>\n",
       "      <td>10</td>\n",
       "    </tr>\n",
       "    <tr>\n",
       "      <td>...</td>\n",
       "      <td>...</td>\n",
       "      <td>...</td>\n",
       "      <td>...</td>\n",
       "    </tr>\n",
       "    <tr>\n",
       "      <td>5396</td>\n",
       "      <td>86283</td>\n",
       "      <td>99912678</td>\n",
       "      <td>10</td>\n",
       "    </tr>\n",
       "    <tr>\n",
       "      <td>5397</td>\n",
       "      <td>86297</td>\n",
       "      <td>99927639</td>\n",
       "      <td>10</td>\n",
       "    </tr>\n",
       "    <tr>\n",
       "      <td>5398</td>\n",
       "      <td>86322</td>\n",
       "      <td>99959804</td>\n",
       "      <td>10</td>\n",
       "    </tr>\n",
       "    <tr>\n",
       "      <td>5399</td>\n",
       "      <td>86347</td>\n",
       "      <td>99988538</td>\n",
       "      <td>10</td>\n",
       "    </tr>\n",
       "    <tr>\n",
       "      <td>5400</td>\n",
       "      <td>86351</td>\n",
       "      <td>99997323</td>\n",
       "      <td>10</td>\n",
       "    </tr>\n",
       "  </tbody>\n",
       "</table>\n",
       "<p>5401 rows × 3 columns</p>\n",
       "</div>"
      ],
      "text/plain": [
       "      index   user_id  top10count\n",
       "0         1      2941          10\n",
       "1         8     14464          10\n",
       "2        15     21050          10\n",
       "3        22     29237          10\n",
       "4        41     49458          10\n",
       "...     ...       ...         ...\n",
       "5396  86283  99912678          10\n",
       "5397  86297  99927639          10\n",
       "5398  86322  99959804          10\n",
       "5399  86347  99988538          10\n",
       "5400  86351  99997323          10\n",
       "\n",
       "[5401 rows x 3 columns]"
      ]
     },
     "execution_count": 35,
     "metadata": {},
     "output_type": "execute_result"
    }
   ],
   "source": [
    "ratingsdf3.loc[ratingsdf3['top10count']==10].reset_index()"
   ]
  },
  {
   "cell_type": "code",
   "execution_count": 36,
   "metadata": {},
   "outputs": [
    {
     "data": {
      "text/html": [
       "<div>\n",
       "<style scoped>\n",
       "    .dataframe tbody tr th:only-of-type {\n",
       "        vertical-align: middle;\n",
       "    }\n",
       "\n",
       "    .dataframe tbody tr th {\n",
       "        vertical-align: top;\n",
       "    }\n",
       "\n",
       "    .dataframe thead th {\n",
       "        text-align: right;\n",
       "    }\n",
       "</style>\n",
       "<table border=\"1\" class=\"dataframe\">\n",
       "  <thead>\n",
       "    <tr style=\"text-align: right;\">\n",
       "      <th></th>\n",
       "      <th>user_id</th>\n",
       "      <th>1.0</th>\n",
       "      <th>2.0</th>\n",
       "      <th>3.0</th>\n",
       "      <th>4.0</th>\n",
       "      <th>5.0</th>\n",
       "    </tr>\n",
       "  </thead>\n",
       "  <tbody>\n",
       "    <tr>\n",
       "      <td>0</td>\n",
       "      <td>57</td>\n",
       "      <td>NaN</td>\n",
       "      <td>NaN</td>\n",
       "      <td>NaN</td>\n",
       "      <td>NaN</td>\n",
       "      <td>1.0</td>\n",
       "    </tr>\n",
       "    <tr>\n",
       "      <td>1</td>\n",
       "      <td>176</td>\n",
       "      <td>NaN</td>\n",
       "      <td>2.0</td>\n",
       "      <td>5.0</td>\n",
       "      <td>3.0</td>\n",
       "      <td>3.0</td>\n",
       "    </tr>\n",
       "    <tr>\n",
       "      <td>2</td>\n",
       "      <td>181</td>\n",
       "      <td>NaN</td>\n",
       "      <td>NaN</td>\n",
       "      <td>NaN</td>\n",
       "      <td>NaN</td>\n",
       "      <td>1.0</td>\n",
       "    </tr>\n",
       "    <tr>\n",
       "      <td>3</td>\n",
       "      <td>499</td>\n",
       "      <td>NaN</td>\n",
       "      <td>NaN</td>\n",
       "      <td>NaN</td>\n",
       "      <td>NaN</td>\n",
       "      <td>1.0</td>\n",
       "    </tr>\n",
       "    <tr>\n",
       "      <td>4</td>\n",
       "      <td>606</td>\n",
       "      <td>NaN</td>\n",
       "      <td>NaN</td>\n",
       "      <td>NaN</td>\n",
       "      <td>NaN</td>\n",
       "      <td>1.0</td>\n",
       "    </tr>\n",
       "  </tbody>\n",
       "</table>\n",
       "</div>"
      ],
      "text/plain": [
       "   user_id  1.0  2.0  3.0  4.0  5.0\n",
       "0       57  NaN  NaN  NaN  NaN  1.0\n",
       "1      176  NaN  2.0  5.0  3.0  3.0\n",
       "2      181  NaN  NaN  NaN  NaN  1.0\n",
       "3      499  NaN  NaN  NaN  NaN  1.0\n",
       "4      606  NaN  NaN  NaN  NaN  1.0"
      ]
     },
     "execution_count": 36,
     "metadata": {},
     "output_type": "execute_result"
    }
   ],
   "source": [
    "ratingsdf4 = pd.pivot_table(ratingsdf,index=\"user_id\",columns='rating_score', values=\"movie_id\",aggfunc='count').reset_index().rename_axis(None, axis=1)\n",
    "ratingsdf4.head()"
   ]
  },
  {
   "cell_type": "code",
   "execution_count": 37,
   "metadata": {},
   "outputs": [
    {
     "data": {
      "text/html": [
       "<div>\n",
       "<style scoped>\n",
       "    .dataframe tbody tr th:only-of-type {\n",
       "        vertical-align: middle;\n",
       "    }\n",
       "\n",
       "    .dataframe tbody tr th {\n",
       "        vertical-align: top;\n",
       "    }\n",
       "\n",
       "    .dataframe thead th {\n",
       "        text-align: right;\n",
       "    }\n",
       "</style>\n",
       "<table border=\"1\" class=\"dataframe\">\n",
       "  <thead>\n",
       "    <tr style=\"text-align: right;\">\n",
       "      <th></th>\n",
       "      <th>rating_timestamp_utc</th>\n",
       "      <th>number_of_ratings</th>\n",
       "    </tr>\n",
       "  </thead>\n",
       "  <tbody>\n",
       "    <tr>\n",
       "      <td>0</td>\n",
       "      <td>1970-01-01</td>\n",
       "      <td>2</td>\n",
       "    </tr>\n",
       "    <tr>\n",
       "      <td>1</td>\n",
       "      <td>2008-02-01</td>\n",
       "      <td>11</td>\n",
       "    </tr>\n",
       "    <tr>\n",
       "      <td>2</td>\n",
       "      <td>2008-02-02</td>\n",
       "      <td>3</td>\n",
       "    </tr>\n",
       "    <tr>\n",
       "      <td>3</td>\n",
       "      <td>2008-02-03</td>\n",
       "      <td>6</td>\n",
       "    </tr>\n",
       "    <tr>\n",
       "      <td>4</td>\n",
       "      <td>2008-02-04</td>\n",
       "      <td>10</td>\n",
       "    </tr>\n",
       "    <tr>\n",
       "      <td>...</td>\n",
       "      <td>...</td>\n",
       "      <td>...</td>\n",
       "    </tr>\n",
       "    <tr>\n",
       "      <td>4451</td>\n",
       "      <td>2020-04-22</td>\n",
       "      <td>4044</td>\n",
       "    </tr>\n",
       "    <tr>\n",
       "      <td>4452</td>\n",
       "      <td>2020-04-23</td>\n",
       "      <td>3719</td>\n",
       "    </tr>\n",
       "    <tr>\n",
       "      <td>4453</td>\n",
       "      <td>2020-04-24</td>\n",
       "      <td>2841</td>\n",
       "    </tr>\n",
       "    <tr>\n",
       "      <td>4454</td>\n",
       "      <td>2020-04-25</td>\n",
       "      <td>1184</td>\n",
       "    </tr>\n",
       "    <tr>\n",
       "      <td>4455</td>\n",
       "      <td>2020-04-26</td>\n",
       "      <td>16</td>\n",
       "    </tr>\n",
       "  </tbody>\n",
       "</table>\n",
       "<p>4456 rows × 2 columns</p>\n",
       "</div>"
      ],
      "text/plain": [
       "     rating_timestamp_utc  number_of_ratings\n",
       "0              1970-01-01                  2\n",
       "1              2008-02-01                 11\n",
       "2              2008-02-02                  3\n",
       "3              2008-02-03                  6\n",
       "4              2008-02-04                 10\n",
       "...                   ...                ...\n",
       "4451           2020-04-22               4044\n",
       "4452           2020-04-23               3719\n",
       "4453           2020-04-24               2841\n",
       "4454           2020-04-25               1184\n",
       "4455           2020-04-26                 16\n",
       "\n",
       "[4456 rows x 2 columns]"
      ]
     },
     "execution_count": 37,
     "metadata": {},
     "output_type": "execute_result"
    }
   ],
   "source": [
    "dailyratings = ratingsdf.groupby(['rating_timestamp_utc'])['rating_id'].count().reset_index(name='number_of_ratings')\n",
    "dailyratings"
   ]
  },
  {
   "cell_type": "code",
   "execution_count": 38,
   "metadata": {},
   "outputs": [
    {
     "data": {
      "text/html": [
       "<div>\n",
       "<style scoped>\n",
       "    .dataframe tbody tr th:only-of-type {\n",
       "        vertical-align: middle;\n",
       "    }\n",
       "\n",
       "    .dataframe tbody tr th {\n",
       "        vertical-align: top;\n",
       "    }\n",
       "\n",
       "    .dataframe thead th {\n",
       "        text-align: right;\n",
       "    }\n",
       "</style>\n",
       "<table border=\"1\" class=\"dataframe\">\n",
       "  <thead>\n",
       "    <tr style=\"text-align: right;\">\n",
       "      <th></th>\n",
       "      <th>rating_timestamp_utc</th>\n",
       "      <th>number_of_ratings</th>\n",
       "    </tr>\n",
       "  </thead>\n",
       "  <tbody>\n",
       "    <tr>\n",
       "      <td>3997</td>\n",
       "      <td>2019-01-24</td>\n",
       "      <td>41330</td>\n",
       "    </tr>\n",
       "    <tr>\n",
       "      <td>824</td>\n",
       "      <td>2010-05-18</td>\n",
       "      <td>27704</td>\n",
       "    </tr>\n",
       "    <tr>\n",
       "      <td>994</td>\n",
       "      <td>2010-11-04</td>\n",
       "      <td>20625</td>\n",
       "    </tr>\n",
       "    <tr>\n",
       "      <td>1056</td>\n",
       "      <td>2011-01-05</td>\n",
       "      <td>16529</td>\n",
       "    </tr>\n",
       "    <tr>\n",
       "      <td>1055</td>\n",
       "      <td>2011-01-04</td>\n",
       "      <td>16241</td>\n",
       "    </tr>\n",
       "    <tr>\n",
       "      <td>...</td>\n",
       "      <td>...</td>\n",
       "      <td>...</td>\n",
       "    </tr>\n",
       "    <tr>\n",
       "      <td>9</td>\n",
       "      <td>2008-02-10</td>\n",
       "      <td>1</td>\n",
       "    </tr>\n",
       "    <tr>\n",
       "      <td>18</td>\n",
       "      <td>2008-02-22</td>\n",
       "      <td>1</td>\n",
       "    </tr>\n",
       "    <tr>\n",
       "      <td>7</td>\n",
       "      <td>2008-02-07</td>\n",
       "      <td>1</td>\n",
       "    </tr>\n",
       "    <tr>\n",
       "      <td>247</td>\n",
       "      <td>2008-10-17</td>\n",
       "      <td>1</td>\n",
       "    </tr>\n",
       "    <tr>\n",
       "      <td>30</td>\n",
       "      <td>2008-03-14</td>\n",
       "      <td>1</td>\n",
       "    </tr>\n",
       "  </tbody>\n",
       "</table>\n",
       "<p>4456 rows × 2 columns</p>\n",
       "</div>"
      ],
      "text/plain": [
       "     rating_timestamp_utc  number_of_ratings\n",
       "3997           2019-01-24              41330\n",
       "824            2010-05-18              27704\n",
       "994            2010-11-04              20625\n",
       "1056           2011-01-05              16529\n",
       "1055           2011-01-04              16241\n",
       "...                   ...                ...\n",
       "9              2008-02-10                  1\n",
       "18             2008-02-22                  1\n",
       "7              2008-02-07                  1\n",
       "247            2008-10-17                  1\n",
       "30             2008-03-14                  1\n",
       "\n",
       "[4456 rows x 2 columns]"
      ]
     },
     "execution_count": 38,
     "metadata": {},
     "output_type": "execute_result"
    }
   ],
   "source": [
    "dailyratings.sort_values('number_of_ratings', ascending=False)"
   ]
  },
  {
   "cell_type": "code",
   "execution_count": 39,
   "metadata": {},
   "outputs": [
    {
     "name": "stderr",
     "output_type": "stream",
     "text": [
      "/opt/anaconda3/lib/python3.7/site-packages/pandas/plotting/_matplotlib/converter.py:103: FutureWarning: Using an implicitly registered datetime converter for a matplotlib plotting method. The converter was registered by pandas on import. Future versions of pandas will require you to explicitly register matplotlib converters.\n",
      "\n",
      "To register the converters:\n",
      "\t>>> from pandas.plotting import register_matplotlib_converters\n",
      "\t>>> register_matplotlib_converters()\n",
      "  warnings.warn(msg, FutureWarning)\n"
     ]
    },
    {
     "data": {
      "image/png": "[encoded data removed]",
      "text/plain": [
       "<Figure size 1440x720 with 1 Axes>"
      ]
     },
     "metadata": {
      "needs_background": "light"
     },
     "output_type": "display_data"
    }
   ],
   "source": [
    "plt.gcf().set_size_inches(20, 10)\n",
    "plt.bar(dailyratings['rating_timestamp_utc'],dailyratings['number_of_ratings'], color='darkblue')\n",
    "plt.xlim(left=dt.date(2018, 1, 1), right=dt.date(2020,4,26))\n",
    "plt.xlabel('Date')\n",
    "plt.ylabel('Number of Ratings')\n",
    "plt.show()"
   ]
  },
  {
   "cell_type": "code",
   "execution_count": 40,
   "metadata": {},
   "outputs": [
    {
     "data": {
      "text/html": [
       "<div>\n",
       "<style scoped>\n",
       "    .dataframe tbody tr th:only-of-type {\n",
       "        vertical-align: middle;\n",
       "    }\n",
       "\n",
       "    .dataframe tbody tr th {\n",
       "        vertical-align: top;\n",
       "    }\n",
       "\n",
       "    .dataframe thead th {\n",
       "        text-align: right;\n",
       "    }\n",
       "</style>\n",
       "<table border=\"1\" class=\"dataframe\">\n",
       "  <thead>\n",
       "    <tr style=\"text-align: right;\">\n",
       "      <th></th>\n",
       "      <th>movie_id</th>\n",
       "      <th>count</th>\n",
       "    </tr>\n",
       "  </thead>\n",
       "  <tbody>\n",
       "    <tr>\n",
       "      <td>0</td>\n",
       "      <td>0</td>\n",
       "      <td>1</td>\n",
       "    </tr>\n",
       "    <tr>\n",
       "      <td>1</td>\n",
       "      <td>1</td>\n",
       "      <td>455</td>\n",
       "    </tr>\n",
       "    <tr>\n",
       "      <td>2</td>\n",
       "      <td>2</td>\n",
       "      <td>481</td>\n",
       "    </tr>\n",
       "    <tr>\n",
       "      <td>3</td>\n",
       "      <td>3</td>\n",
       "      <td>190</td>\n",
       "    </tr>\n",
       "    <tr>\n",
       "      <td>4</td>\n",
       "      <td>4</td>\n",
       "      <td>447</td>\n",
       "    </tr>\n",
       "  </tbody>\n",
       "</table>\n",
       "</div>"
      ],
      "text/plain": [
       "   movie_id  count\n",
       "0         0      1\n",
       "1         1    455\n",
       "2         2    481\n",
       "3         3    190\n",
       "4         4    447"
      ]
     },
     "execution_count": 40,
     "metadata": {},
     "output_type": "execute_result"
    }
   ],
   "source": [
    "moviedata = ratingsdf.groupby(['movie_id'])['rating_id'].count().reset_index(name='count')\n",
    "moviedata.head()"
   ]
  },
  {
   "cell_type": "code",
   "execution_count": 41,
   "metadata": {},
   "outputs": [
    {
     "data": {
      "text/html": [
       "<div>\n",
       "<style scoped>\n",
       "    .dataframe tbody tr th:only-of-type {\n",
       "        vertical-align: middle;\n",
       "    }\n",
       "\n",
       "    .dataframe tbody tr th {\n",
       "        vertical-align: top;\n",
       "    }\n",
       "\n",
       "    .dataframe thead th {\n",
       "        text-align: right;\n",
       "    }\n",
       "</style>\n",
       "<table border=\"1\" class=\"dataframe\">\n",
       "  <thead>\n",
       "    <tr style=\"text-align: right;\">\n",
       "      <th></th>\n",
       "      <th>movie_id</th>\n",
       "      <th>count</th>\n",
       "      <th>movie_title</th>\n",
       "      <th>movie_release_year</th>\n",
       "      <th>movie_popularity</th>\n",
       "    </tr>\n",
       "  </thead>\n",
       "  <tbody>\n",
       "    <tr>\n",
       "      <td>0</td>\n",
       "      <td>0</td>\n",
       "      <td>1</td>\n",
       "      <td>NaN</td>\n",
       "      <td>NaN</td>\n",
       "      <td>NaN</td>\n",
       "    </tr>\n",
       "    <tr>\n",
       "      <td>1</td>\n",
       "      <td>1</td>\n",
       "      <td>455</td>\n",
       "      <td>La Antena</td>\n",
       "      <td>2007.0</td>\n",
       "      <td>105.0</td>\n",
       "    </tr>\n",
       "    <tr>\n",
       "      <td>2</td>\n",
       "      <td>2</td>\n",
       "      <td>481</td>\n",
       "      <td>Elementary Particles</td>\n",
       "      <td>2006.0</td>\n",
       "      <td>23.0</td>\n",
       "    </tr>\n",
       "    <tr>\n",
       "      <td>3</td>\n",
       "      <td>3</td>\n",
       "      <td>190</td>\n",
       "      <td>It's Winter</td>\n",
       "      <td>2006.0</td>\n",
       "      <td>21.0</td>\n",
       "    </tr>\n",
       "    <tr>\n",
       "      <td>4</td>\n",
       "      <td>4</td>\n",
       "      <td>447</td>\n",
       "      <td>Kirikou and the Wild Beasts</td>\n",
       "      <td>2005.0</td>\n",
       "      <td>46.0</td>\n",
       "    </tr>\n",
       "  </tbody>\n",
       "</table>\n",
       "</div>"
      ],
      "text/plain": [
       "   movie_id  count                  movie_title  movie_release_year  \\\n",
       "0         0      1                          NaN                 NaN   \n",
       "1         1    455                    La Antena              2007.0   \n",
       "2         2    481         Elementary Particles              2006.0   \n",
       "3         3    190                  It's Winter              2006.0   \n",
       "4         4    447  Kirikou and the Wild Beasts              2005.0   \n",
       "\n",
       "   movie_popularity  \n",
       "0               NaN  \n",
       "1             105.0  \n",
       "2              23.0  \n",
       "3              21.0  \n",
       "4              46.0  "
      ]
     },
     "execution_count": 41,
     "metadata": {},
     "output_type": "execute_result"
    }
   ],
   "source": [
    "moviedata2 = pd.merge(moviedata, moviedf[['movie_id','movie_title','movie_release_year','movie_popularity']], on='movie_id', how='left')\n",
    "moviedata2.head()"
   ]
  },
  {
   "cell_type": "code",
   "execution_count": 42,
   "metadata": {},
   "outputs": [
    {
     "data": {
      "text/html": [
       "<div>\n",
       "<style scoped>\n",
       "    .dataframe tbody tr th:only-of-type {\n",
       "        vertical-align: middle;\n",
       "    }\n",
       "\n",
       "    .dataframe tbody tr th {\n",
       "        vertical-align: top;\n",
       "    }\n",
       "\n",
       "    .dataframe thead th {\n",
       "        text-align: right;\n",
       "    }\n",
       "</style>\n",
       "<table border=\"1\" class=\"dataframe\">\n",
       "  <thead>\n",
       "    <tr style=\"text-align: right;\">\n",
       "      <th></th>\n",
       "      <th>movie_id</th>\n",
       "      <th>count</th>\n",
       "      <th>movie_title</th>\n",
       "      <th>movie_release_year</th>\n",
       "      <th>movie_popularity</th>\n",
       "    </tr>\n",
       "  </thead>\n",
       "  <tbody>\n",
       "    <tr>\n",
       "      <td>161</td>\n",
       "      <td>161</td>\n",
       "      <td>41494</td>\n",
       "      <td>Pulp Fiction</td>\n",
       "      <td>1994.0</td>\n",
       "      <td>13989.0</td>\n",
       "    </tr>\n",
       "    <tr>\n",
       "      <td>147</td>\n",
       "      <td>147</td>\n",
       "      <td>34786</td>\n",
       "      <td>A Clockwork Orange</td>\n",
       "      <td>1971.0</td>\n",
       "      <td>12400.0</td>\n",
       "    </tr>\n",
       "    <tr>\n",
       "      <td>891</td>\n",
       "      <td>918</td>\n",
       "      <td>34443</td>\n",
       "      <td>Fight Club</td>\n",
       "      <td>1999.0</td>\n",
       "      <td>9267.0</td>\n",
       "    </tr>\n",
       "    <tr>\n",
       "      <td>92</td>\n",
       "      <td>92</td>\n",
       "      <td>34012</td>\n",
       "      <td>Eternal Sunshine of the Spotless Mind</td>\n",
       "      <td>2004.0</td>\n",
       "      <td>9818.0</td>\n",
       "    </tr>\n",
       "    <tr>\n",
       "      <td>400</td>\n",
       "      <td>405</td>\n",
       "      <td>32251</td>\n",
       "      <td>The Shining</td>\n",
       "      <td>1980.0</td>\n",
       "      <td>11407.0</td>\n",
       "    </tr>\n",
       "    <tr>\n",
       "      <td>1643</td>\n",
       "      <td>1731</td>\n",
       "      <td>30403</td>\n",
       "      <td>The Dark Knight</td>\n",
       "      <td>2008.0</td>\n",
       "      <td>6776.0</td>\n",
       "    </tr>\n",
       "    <tr>\n",
       "      <td>481</td>\n",
       "      <td>488</td>\n",
       "      <td>30157</td>\n",
       "      <td>The Godfather</td>\n",
       "      <td>1972.0</td>\n",
       "      <td>13103.0</td>\n",
       "    </tr>\n",
       "    <tr>\n",
       "      <td>300</td>\n",
       "      <td>303</td>\n",
       "      <td>30094</td>\n",
       "      <td>2001: A Space Odyssey</td>\n",
       "      <td>1968.0</td>\n",
       "      <td>13881.0</td>\n",
       "    </tr>\n",
       "    <tr>\n",
       "      <td>316</td>\n",
       "      <td>320</td>\n",
       "      <td>29858</td>\n",
       "      <td>The Big Lebowski</td>\n",
       "      <td>1998.0</td>\n",
       "      <td>8831.0</td>\n",
       "    </tr>\n",
       "    <tr>\n",
       "      <td>204</td>\n",
       "      <td>204</td>\n",
       "      <td>29755</td>\n",
       "      <td>Taxi Driver</td>\n",
       "      <td>1976.0</td>\n",
       "      <td>11591.0</td>\n",
       "    </tr>\n",
       "  </tbody>\n",
       "</table>\n",
       "</div>"
      ],
      "text/plain": [
       "      movie_id  count                            movie_title  \\\n",
       "161        161  41494                           Pulp Fiction   \n",
       "147        147  34786                     A Clockwork Orange   \n",
       "891        918  34443                             Fight Club   \n",
       "92          92  34012  Eternal Sunshine of the Spotless Mind   \n",
       "400        405  32251                            The Shining   \n",
       "1643      1731  30403                        The Dark Knight   \n",
       "481        488  30157                          The Godfather   \n",
       "300        303  30094                  2001: A Space Odyssey   \n",
       "316        320  29858                       The Big Lebowski   \n",
       "204        204  29755                            Taxi Driver   \n",
       "\n",
       "      movie_release_year  movie_popularity  \n",
       "161               1994.0           13989.0  \n",
       "147               1971.0           12400.0  \n",
       "891               1999.0            9267.0  \n",
       "92                2004.0            9818.0  \n",
       "400               1980.0           11407.0  \n",
       "1643              2008.0            6776.0  \n",
       "481               1972.0           13103.0  \n",
       "300               1968.0           13881.0  \n",
       "316               1998.0            8831.0  \n",
       "204               1976.0           11591.0  "
      ]
     },
     "execution_count": 42,
     "metadata": {},
     "output_type": "execute_result"
    }
   ],
   "source": [
    "#Top 10 by the Number of Ratings\n",
    "moviedata2.sort_values('count', ascending=False).head(10)"
   ]
  },
  {
   "cell_type": "code",
   "execution_count": 43,
   "metadata": {},
   "outputs": [
    {
     "data": {
      "text/html": [
       "<div>\n",
       "<style scoped>\n",
       "    .dataframe tbody tr th:only-of-type {\n",
       "        vertical-align: middle;\n",
       "    }\n",
       "\n",
       "    .dataframe tbody tr th {\n",
       "        vertical-align: top;\n",
       "    }\n",
       "\n",
       "    .dataframe thead th {\n",
       "        text-align: right;\n",
       "    }\n",
       "</style>\n",
       "<table border=\"1\" class=\"dataframe\">\n",
       "  <thead>\n",
       "    <tr style=\"text-align: right;\">\n",
       "      <th></th>\n",
       "      <th>movie_id</th>\n",
       "      <th>count</th>\n",
       "      <th>movie_title</th>\n",
       "      <th>movie_release_year</th>\n",
       "      <th>movie_popularity</th>\n",
       "    </tr>\n",
       "  </thead>\n",
       "  <tbody>\n",
       "    <tr>\n",
       "      <td>161</td>\n",
       "      <td>161</td>\n",
       "      <td>41494</td>\n",
       "      <td>Pulp Fiction</td>\n",
       "      <td>1994.0</td>\n",
       "      <td>13989.0</td>\n",
       "    </tr>\n",
       "    <tr>\n",
       "      <td>300</td>\n",
       "      <td>303</td>\n",
       "      <td>30094</td>\n",
       "      <td>2001: A Space Odyssey</td>\n",
       "      <td>1968.0</td>\n",
       "      <td>13881.0</td>\n",
       "    </tr>\n",
       "    <tr>\n",
       "      <td>481</td>\n",
       "      <td>488</td>\n",
       "      <td>30157</td>\n",
       "      <td>The Godfather</td>\n",
       "      <td>1972.0</td>\n",
       "      <td>13103.0</td>\n",
       "    </tr>\n",
       "    <tr>\n",
       "      <td>147</td>\n",
       "      <td>147</td>\n",
       "      <td>34786</td>\n",
       "      <td>A Clockwork Orange</td>\n",
       "      <td>1971.0</td>\n",
       "      <td>12400.0</td>\n",
       "    </tr>\n",
       "    <tr>\n",
       "      <td>204</td>\n",
       "      <td>204</td>\n",
       "      <td>29755</td>\n",
       "      <td>Taxi Driver</td>\n",
       "      <td>1976.0</td>\n",
       "      <td>11591.0</td>\n",
       "    </tr>\n",
       "    <tr>\n",
       "      <td>400</td>\n",
       "      <td>405</td>\n",
       "      <td>32251</td>\n",
       "      <td>The Shining</td>\n",
       "      <td>1980.0</td>\n",
       "      <td>11407.0</td>\n",
       "    </tr>\n",
       "    <tr>\n",
       "      <td>1468</td>\n",
       "      <td>1537</td>\n",
       "      <td>24348</td>\n",
       "      <td>Apocalypse Now</td>\n",
       "      <td>1979.0</td>\n",
       "      <td>9861.0</td>\n",
       "    </tr>\n",
       "    <tr>\n",
       "      <td>92</td>\n",
       "      <td>92</td>\n",
       "      <td>34012</td>\n",
       "      <td>Eternal Sunshine of the Spotless Mind</td>\n",
       "      <td>2004.0</td>\n",
       "      <td>9818.0</td>\n",
       "    </tr>\n",
       "    <tr>\n",
       "      <td>148</td>\n",
       "      <td>148</td>\n",
       "      <td>25201</td>\n",
       "      <td>Psycho</td>\n",
       "      <td>1960.0</td>\n",
       "      <td>9685.0</td>\n",
       "    </tr>\n",
       "    <tr>\n",
       "      <td>311</td>\n",
       "      <td>315</td>\n",
       "      <td>22768</td>\n",
       "      <td>Dr. Strangelove or: How I Learned to Stop Worr...</td>\n",
       "      <td>1964.0</td>\n",
       "      <td>9657.0</td>\n",
       "    </tr>\n",
       "  </tbody>\n",
       "</table>\n",
       "</div>"
      ],
      "text/plain": [
       "      movie_id  count                                        movie_title  \\\n",
       "161        161  41494                                       Pulp Fiction   \n",
       "300        303  30094                              2001: A Space Odyssey   \n",
       "481        488  30157                                      The Godfather   \n",
       "147        147  34786                                 A Clockwork Orange   \n",
       "204        204  29755                                        Taxi Driver   \n",
       "400        405  32251                                        The Shining   \n",
       "1468      1537  24348                                     Apocalypse Now   \n",
       "92          92  34012              Eternal Sunshine of the Spotless Mind   \n",
       "148        148  25201                                             Psycho   \n",
       "311        315  22768  Dr. Strangelove or: How I Learned to Stop Worr...   \n",
       "\n",
       "      movie_release_year  movie_popularity  \n",
       "161               1994.0           13989.0  \n",
       "300               1968.0           13881.0  \n",
       "481               1972.0           13103.0  \n",
       "147               1971.0           12400.0  \n",
       "204               1976.0           11591.0  \n",
       "400               1980.0           11407.0  \n",
       "1468              1979.0            9861.0  \n",
       "92                2004.0            9818.0  \n",
       "148               1960.0            9685.0  \n",
       "311               1964.0            9657.0  "
      ]
     },
     "execution_count": 43,
     "metadata": {},
     "output_type": "execute_result"
    }
   ],
   "source": [
    "#Top 10 by movie_popularity score\n",
    "moviedata2.sort_values('movie_popularity', ascending=False).head(10)"
   ]
  },
  {
   "cell_type": "code",
   "execution_count": 44,
   "metadata": {},
   "outputs": [
    {
     "name": "stderr",
     "output_type": "stream",
     "text": [
      "/opt/anaconda3/lib/python3.7/site-packages/numpy/lib/histograms.py:829: RuntimeWarning: invalid value encountered in greater_equal\n",
      "  keep = (tmp_a >= first_edge)\n",
      "/opt/anaconda3/lib/python3.7/site-packages/numpy/lib/histograms.py:830: RuntimeWarning: invalid value encountered in less_equal\n",
      "  keep &= (tmp_a <= last_edge)\n"
     ]
    },
    {
     "data": {
      "image/png": "[encoded data removed]",
      "text/plain": [
       "<Figure size 1440x720 with 1 Axes>"
      ]
     },
     "metadata": {
      "needs_background": "light"
     },
     "output_type": "display_data"
    }
   ],
   "source": [
    "#Histogram of Number of movies by release_year\n",
    "\n",
    "plt.gcf().set_size_inches(20, 10)\n",
    "plt.hist(moviedf['movie_release_year'], color='darkblue',bins = 140)\n",
    "plt.xlabel('Release Year')\n",
    "plt.ylabel('Count')\n",
    "plt.show()"
   ]
  },
  {
   "cell_type": "code",
   "execution_count": 45,
   "metadata": {},
   "outputs": [
    {
     "data": {
      "text/plain": [
       "13989.0"
      ]
     },
     "execution_count": 45,
     "metadata": {},
     "output_type": "execute_result"
    }
   ],
   "source": [
    "moviedata2['movie_popularity'].max()"
   ]
  },
  {
   "cell_type": "code",
   "execution_count": 46,
   "metadata": {},
   "outputs": [
    {
     "data": {
      "text/plain": [
       "0.0"
      ]
     },
     "execution_count": 46,
     "metadata": {},
     "output_type": "execute_result"
    }
   ],
   "source": [
    "moviedata2['movie_popularity'].min()"
   ]
  },
  {
   "cell_type": "code",
   "execution_count": 47,
   "metadata": {},
   "outputs": [
    {
     "data": {
      "text/plain": [
       "20.358752032748274"
      ]
     },
     "execution_count": 47,
     "metadata": {},
     "output_type": "execute_result"
    }
   ],
   "source": [
    "moviedata2['movie_popularity'].mean()"
   ]
  },
  {
   "cell_type": "code",
   "execution_count": 48,
   "metadata": {},
   "outputs": [
    {
     "data": {
      "text/plain": [
       "count    142664.000000\n",
       "mean         20.358752\n",
       "std         223.153632\n",
       "min           0.000000\n",
       "25%           0.000000\n",
       "50%           0.000000\n",
       "75%           2.000000\n",
       "max       13989.000000\n",
       "Name: movie_popularity, dtype: float64"
      ]
     },
     "execution_count": 48,
     "metadata": {},
     "output_type": "execute_result"
    }
   ],
   "source": [
    "moviedata2['movie_popularity'].describe()"
   ]
  },
  {
   "cell_type": "code",
   "execution_count": 49,
   "metadata": {},
   "outputs": [
    {
     "name": "stderr",
     "output_type": "stream",
     "text": [
      "/opt/anaconda3/lib/python3.7/site-packages/statsmodels/nonparametric/kde.py:447: RuntimeWarning: invalid value encountered in greater\n",
      "  X = X[np.logical_and(X > clip[0], X < clip[1])] # won't work for two columns.\n",
      "/opt/anaconda3/lib/python3.7/site-packages/statsmodels/nonparametric/kde.py:447: RuntimeWarning: invalid value encountered in less\n",
      "  X = X[np.logical_and(X > clip[0], X < clip[1])] # won't work for two columns.\n"
     ]
    },
    {
     "data": {
      "text/plain": [
       "<matplotlib.axes._subplots.AxesSubplot at 0x7f8fde8440d0>"
      ]
     },
     "execution_count": 49,
     "metadata": {},
     "output_type": "execute_result"
    },
    {
     "data": {
      "image/png": "[encoded data removed]",
      "text/plain": [
       "<Figure size 800x560 with 1 Axes>"
      ]
     },
     "metadata": {
      "needs_background": "light"
     },
     "output_type": "display_data"
    }
   ],
   "source": [
    "#Bar chart to show number of movies by movie_popularity\n",
    "\n",
    "plt.figure(figsize=(10,7), dpi= 80)\n",
    "sns.distplot(moviedata2['movie_popularity'], hist=True, kde=True, \n",
    "             bins=int(180/5), color = 'darkblue',\n",
    "             kde_kws={'linewidth': 0.5})"
   ]
  },
  {
   "cell_type": "code",
   "execution_count": 50,
   "metadata": {},
   "outputs": [],
   "source": [
    "moviedf1 = moviedf[['movie_id','movie_title','movie_release_year','movie_popularity','director_name']]"
   ]
  },
  {
   "cell_type": "code",
   "execution_count": 51,
   "metadata": {},
   "outputs": [],
   "source": [
    "rawdf = pd.merge(ratingsdf, moviedf1 , on='movie_id', how='left')\n",
    "rawdf = pd.merge(rawdf, listdf4, on='user_id', how='left')"
   ]
  },
  {
   "cell_type": "code",
   "execution_count": 52,
   "metadata": {},
   "outputs": [
    {
     "data": {
      "text/html": [
       "<div>\n",
       "<style scoped>\n",
       "    .dataframe tbody tr th:only-of-type {\n",
       "        vertical-align: middle;\n",
       "    }\n",
       "\n",
       "    .dataframe tbody tr th {\n",
       "        vertical-align: top;\n",
       "    }\n",
       "\n",
       "    .dataframe thead th {\n",
       "        text-align: right;\n",
       "    }\n",
       "</style>\n",
       "<table border=\"1\" class=\"dataframe\">\n",
       "  <thead>\n",
       "    <tr style=\"text-align: right;\">\n",
       "      <th></th>\n",
       "      <th>movie_id</th>\n",
       "      <th>rating_id</th>\n",
       "      <th>rating_url</th>\n",
       "      <th>rating_score</th>\n",
       "      <th>rating_timestamp_utc</th>\n",
       "      <th>critic</th>\n",
       "      <th>critic_likes</th>\n",
       "      <th>critic_comments</th>\n",
       "      <th>user_id</th>\n",
       "      <th>user_trialist</th>\n",
       "      <th>user_subscriber</th>\n",
       "      <th>user_eligible_for_trial</th>\n",
       "      <th>user_has_payment_method</th>\n",
       "      <th>movie_title</th>\n",
       "      <th>movie_release_year</th>\n",
       "      <th>movie_popularity</th>\n",
       "      <th>director_name</th>\n",
       "      <th>list_count</th>\n",
       "      <th>comments_sum</th>\n",
       "      <th>followers_sum</th>\n",
       "      <th>list_movie_number</th>\n",
       "      <th>Creation_to_update_time</th>\n",
       "    </tr>\n",
       "  </thead>\n",
       "  <tbody>\n",
       "    <tr>\n",
       "      <td>0</td>\n",
       "      <td>1066</td>\n",
       "      <td>15610495</td>\n",
       "      <td>http://mubi.com/films/pavee-lackeen-the-travel...</td>\n",
       "      <td>3.0</td>\n",
       "      <td>2017-06-10</td>\n",
       "      <td>NaN</td>\n",
       "      <td>0</td>\n",
       "      <td>0</td>\n",
       "      <td>41579158</td>\n",
       "      <td>False</td>\n",
       "      <td>False</td>\n",
       "      <td>True</td>\n",
       "      <td>False</td>\n",
       "      <td>Pavee Lackeen: The Traveller Girl</td>\n",
       "      <td>2005.0</td>\n",
       "      <td>1.0</td>\n",
       "      <td>Perry Ogden</td>\n",
       "      <td>NaN</td>\n",
       "      <td>NaN</td>\n",
       "      <td>NaN</td>\n",
       "      <td>NaN</td>\n",
       "      <td>NaN</td>\n",
       "    </tr>\n",
       "    <tr>\n",
       "      <td>1</td>\n",
       "      <td>1066</td>\n",
       "      <td>10704606</td>\n",
       "      <td>http://mubi.com/films/pavee-lackeen-the-travel...</td>\n",
       "      <td>2.0</td>\n",
       "      <td>2014-08-15</td>\n",
       "      <td>NaN</td>\n",
       "      <td>0</td>\n",
       "      <td>0</td>\n",
       "      <td>85981819</td>\n",
       "      <td>True</td>\n",
       "      <td>True</td>\n",
       "      <td>False</td>\n",
       "      <td>True</td>\n",
       "      <td>Pavee Lackeen: The Traveller Girl</td>\n",
       "      <td>2005.0</td>\n",
       "      <td>1.0</td>\n",
       "      <td>Perry Ogden</td>\n",
       "      <td>13.0</td>\n",
       "      <td>25.0</td>\n",
       "      <td>422.0</td>\n",
       "      <td>1176.0</td>\n",
       "      <td>3743.0</td>\n",
       "    </tr>\n",
       "    <tr>\n",
       "      <td>2</td>\n",
       "      <td>1066</td>\n",
       "      <td>10177114</td>\n",
       "      <td>http://mubi.com/films/pavee-lackeen-the-travel...</td>\n",
       "      <td>2.0</td>\n",
       "      <td>2014-01-30</td>\n",
       "      <td>NaN</td>\n",
       "      <td>0</td>\n",
       "      <td>0</td>\n",
       "      <td>4208563</td>\n",
       "      <td>False</td>\n",
       "      <td>False</td>\n",
       "      <td>True</td>\n",
       "      <td>True</td>\n",
       "      <td>Pavee Lackeen: The Traveller Girl</td>\n",
       "      <td>2005.0</td>\n",
       "      <td>1.0</td>\n",
       "      <td>Perry Ogden</td>\n",
       "      <td>12.0</td>\n",
       "      <td>5.0</td>\n",
       "      <td>21.0</td>\n",
       "      <td>2425.0</td>\n",
       "      <td>2461.0</td>\n",
       "    </tr>\n",
       "    <tr>\n",
       "      <td>3</td>\n",
       "      <td>1066</td>\n",
       "      <td>10130280</td>\n",
       "      <td>http://mubi.com/films/pavee-lackeen-the-travel...</td>\n",
       "      <td>3.0</td>\n",
       "      <td>2014-01-19</td>\n",
       "      <td>I am a bit disappointed by this documentary fi...</td>\n",
       "      <td>0</td>\n",
       "      <td>0</td>\n",
       "      <td>9820140</td>\n",
       "      <td>False</td>\n",
       "      <td>False</td>\n",
       "      <td>True</td>\n",
       "      <td>False</td>\n",
       "      <td>Pavee Lackeen: The Traveller Girl</td>\n",
       "      <td>2005.0</td>\n",
       "      <td>1.0</td>\n",
       "      <td>Perry Ogden</td>\n",
       "      <td>5.0</td>\n",
       "      <td>1.0</td>\n",
       "      <td>6.0</td>\n",
       "      <td>57.0</td>\n",
       "      <td>3152.0</td>\n",
       "    </tr>\n",
       "    <tr>\n",
       "      <td>4</td>\n",
       "      <td>1066</td>\n",
       "      <td>8357049</td>\n",
       "      <td>http://mubi.com/films/pavee-lackeen-the-travel...</td>\n",
       "      <td>4.0</td>\n",
       "      <td>2012-10-02</td>\n",
       "      <td>NaN</td>\n",
       "      <td>0</td>\n",
       "      <td>0</td>\n",
       "      <td>68654088</td>\n",
       "      <td>False</td>\n",
       "      <td>False</td>\n",
       "      <td>True</td>\n",
       "      <td>True</td>\n",
       "      <td>Pavee Lackeen: The Traveller Girl</td>\n",
       "      <td>2005.0</td>\n",
       "      <td>1.0</td>\n",
       "      <td>Perry Ogden</td>\n",
       "      <td>NaN</td>\n",
       "      <td>NaN</td>\n",
       "      <td>NaN</td>\n",
       "      <td>NaN</td>\n",
       "      <td>NaN</td>\n",
       "    </tr>\n",
       "  </tbody>\n",
       "</table>\n",
       "</div>"
      ],
      "text/plain": [
       "   movie_id  rating_id                                         rating_url  \\\n",
       "0      1066   15610495  http://mubi.com/films/pavee-lackeen-the-travel...   \n",
       "1      1066   10704606  http://mubi.com/films/pavee-lackeen-the-travel...   \n",
       "2      1066   10177114  http://mubi.com/films/pavee-lackeen-the-travel...   \n",
       "3      1066   10130280  http://mubi.com/films/pavee-lackeen-the-travel...   \n",
       "4      1066    8357049  http://mubi.com/films/pavee-lackeen-the-travel...   \n",
       "\n",
       "   rating_score rating_timestamp_utc  \\\n",
       "0           3.0           2017-06-10   \n",
       "1           2.0           2014-08-15   \n",
       "2           2.0           2014-01-30   \n",
       "3           3.0           2014-01-19   \n",
       "4           4.0           2012-10-02   \n",
       "\n",
       "                                              critic  critic_likes  \\\n",
       "0                                                NaN             0   \n",
       "1                                                NaN             0   \n",
       "2                                                NaN             0   \n",
       "3  I am a bit disappointed by this documentary fi...             0   \n",
       "4                                                NaN             0   \n",
       "\n",
       "   critic_comments   user_id user_trialist user_subscriber  \\\n",
       "0                0  41579158         False           False   \n",
       "1                0  85981819          True            True   \n",
       "2                0   4208563         False           False   \n",
       "3                0   9820140         False           False   \n",
       "4                0  68654088         False           False   \n",
       "\n",
       "  user_eligible_for_trial user_has_payment_method  \\\n",
       "0                    True                   False   \n",
       "1                   False                    True   \n",
       "2                    True                    True   \n",
       "3                    True                   False   \n",
       "4                    True                    True   \n",
       "\n",
       "                         movie_title  movie_release_year  movie_popularity  \\\n",
       "0  Pavee Lackeen: The Traveller Girl              2005.0               1.0   \n",
       "1  Pavee Lackeen: The Traveller Girl              2005.0               1.0   \n",
       "2  Pavee Lackeen: The Traveller Girl              2005.0               1.0   \n",
       "3  Pavee Lackeen: The Traveller Girl              2005.0               1.0   \n",
       "4  Pavee Lackeen: The Traveller Girl              2005.0               1.0   \n",
       "\n",
       "  director_name  list_count  comments_sum  followers_sum  list_movie_number  \\\n",
       "0   Perry Ogden         NaN           NaN            NaN                NaN   \n",
       "1   Perry Ogden        13.0          25.0          422.0             1176.0   \n",
       "2   Perry Ogden        12.0           5.0           21.0             2425.0   \n",
       "3   Perry Ogden         5.0           1.0            6.0               57.0   \n",
       "4   Perry Ogden         NaN           NaN            NaN                NaN   \n",
       "\n",
       "   Creation_to_update_time  \n",
       "0                      NaN  \n",
       "1                   3743.0  \n",
       "2                   2461.0  \n",
       "3                   3152.0  \n",
       "4                      NaN  "
      ]
     },
     "execution_count": 52,
     "metadata": {},
     "output_type": "execute_result"
    }
   ],
   "source": [
    "rawdf.head()"
   ]
  },
  {
   "cell_type": "code",
   "execution_count": 53,
   "metadata": {},
   "outputs": [],
   "source": [
    "rawdf['rating_timestamp_utc'] = pd.to_datetime(rawdf.rating_timestamp_utc,format='%Y-%m-%d %H:%M:%S')\n",
    "rawdf['critic'] = np.where(rawdf['critic'].isnull(), '0', '1')\n",
    "rawdf['user_trialist'] = np.where(rawdf['user_trialist']==True, 1, 0)\n",
    "rawdf['user_subscriber'] = np.where(rawdf['user_subscriber']==True, 1, 0)\n",
    "rawdf['user_eligible_for_trial'] = np.where(rawdf['user_eligible_for_trial']==True, 1, 0)\n",
    "rawdf['user_has_payment_method'] = np.where(rawdf['user_has_payment_method']==True, 1, 0)\n",
    "\n",
    "rawdf.drop(['rating_id','rating_url'], axis=1, inplace=True)"
   ]
  },
  {
   "cell_type": "code",
   "execution_count": 54,
   "metadata": {},
   "outputs": [
    {
     "data": {
      "text/plain": [
       "movie_id                   142698\n",
       "rating_score                    5\n",
       "rating_timestamp_utc         4456\n",
       "critic                          2\n",
       "critic_likes                   66\n",
       "critic_comments                51\n",
       "user_id                    451757\n",
       "user_trialist                   2\n",
       "user_subscriber                 2\n",
       "user_eligible_for_trial         2\n",
       "user_has_payment_method         2\n",
       "movie_title                126496\n",
       "movie_release_year            138\n",
       "movie_popularity             1286\n",
       "director_name               58965\n",
       "list_count                    120\n",
       "comments_sum                  111\n",
       "followers_sum                 382\n",
       "list_movie_number            1368\n",
       "Creation_to_update_time      3401\n",
       "dtype: int64"
      ]
     },
     "execution_count": 54,
     "metadata": {},
     "output_type": "execute_result"
    }
   ],
   "source": [
    "rawdf.nunique()"
   ]
  },
  {
   "cell_type": "code",
   "execution_count": 55,
   "metadata": {},
   "outputs": [
    {
     "data": {
      "text/plain": [
       "movie_id                         0\n",
       "rating_score                 26731\n",
       "rating_timestamp_utc             0\n",
       "critic                           0\n",
       "critic_likes                     0\n",
       "critic_comments                  0\n",
       "user_id                          0\n",
       "user_trialist                    0\n",
       "user_subscriber                  0\n",
       "user_eligible_for_trial          0\n",
       "user_has_payment_method          0\n",
       "movie_title                     34\n",
       "movie_release_year              79\n",
       "movie_popularity                34\n",
       "director_name                   37\n",
       "list_count                 9762323\n",
       "comments_sum               9762323\n",
       "followers_sum              9762323\n",
       "list_movie_number          9762323\n",
       "Creation_to_update_time    9762323\n",
       "dtype: int64"
      ]
     },
     "execution_count": 55,
     "metadata": {},
     "output_type": "execute_result"
    }
   ],
   "source": [
    "rawdf.isnull().sum(axis=0)"
   ]
  },
  {
   "cell_type": "code",
   "execution_count": 56,
   "metadata": {},
   "outputs": [
    {
     "data": {
      "text/plain": [
       "movie_id                            int64\n",
       "rating_score                      float64\n",
       "rating_timestamp_utc       datetime64[ns]\n",
       "critic                             object\n",
       "critic_likes                        int64\n",
       "critic_comments                     int64\n",
       "user_id                             int64\n",
       "user_trialist                       int64\n",
       "user_subscriber                     int64\n",
       "user_eligible_for_trial             int64\n",
       "user_has_payment_method             int64\n",
       "movie_title                        object\n",
       "movie_release_year                float64\n",
       "movie_popularity                  float64\n",
       "director_name                      object\n",
       "list_count                        float64\n",
       "comments_sum                      float64\n",
       "followers_sum                     float64\n",
       "list_movie_number                 float64\n",
       "Creation_to_update_time           float64\n",
       "dtype: object"
      ]
     },
     "execution_count": 56,
     "metadata": {},
     "output_type": "execute_result"
    }
   ],
   "source": [
    "rawdf.dtypes"
   ]
  },
  {
   "cell_type": "code",
   "execution_count": 57,
   "metadata": {},
   "outputs": [
    {
     "data": {
      "text/plain": [
       "0           2005\n",
       "1           2005\n",
       "2           2005\n",
       "3           2005\n",
       "4           2005\n",
       "            ... \n",
       "15520000    2006\n",
       "15520001    2006\n",
       "15520002    2006\n",
       "15520003    2006\n",
       "15520004    2006\n",
       "Name: movie_release_year, Length: 15520005, dtype: object"
      ]
     },
     "execution_count": 57,
     "metadata": {},
     "output_type": "execute_result"
    }
   ],
   "source": [
    "rawdf['movie_release_year'] = rawdf['movie_release_year'].astype(str).str.strip('.0')\n",
    "rawdf['movie_release_year']"
   ]
  },
  {
   "cell_type": "code",
   "execution_count": 58,
   "metadata": {},
   "outputs": [
    {
     "data": {
      "text/html": [
       "<div>\n",
       "<style scoped>\n",
       "    .dataframe tbody tr th:only-of-type {\n",
       "        vertical-align: middle;\n",
       "    }\n",
       "\n",
       "    .dataframe tbody tr th {\n",
       "        vertical-align: top;\n",
       "    }\n",
       "\n",
       "    .dataframe thead th {\n",
       "        text-align: right;\n",
       "    }\n",
       "</style>\n",
       "<table border=\"1\" class=\"dataframe\">\n",
       "  <thead>\n",
       "    <tr style=\"text-align: right;\">\n",
       "      <th></th>\n",
       "      <th>movie_id</th>\n",
       "      <th>count</th>\n",
       "      <th>avg_rating</th>\n",
       "    </tr>\n",
       "  </thead>\n",
       "  <tbody>\n",
       "    <tr>\n",
       "      <td>161</td>\n",
       "      <td>161</td>\n",
       "      <td>41435</td>\n",
       "      <td>4.391263</td>\n",
       "    </tr>\n",
       "    <tr>\n",
       "      <td>147</td>\n",
       "      <td>147</td>\n",
       "      <td>34738</td>\n",
       "      <td>4.345069</td>\n",
       "    </tr>\n",
       "    <tr>\n",
       "      <td>891</td>\n",
       "      <td>918</td>\n",
       "      <td>34420</td>\n",
       "      <td>4.134195</td>\n",
       "    </tr>\n",
       "    <tr>\n",
       "      <td>92</td>\n",
       "      <td>92</td>\n",
       "      <td>33969</td>\n",
       "      <td>4.142807</td>\n",
       "    </tr>\n",
       "    <tr>\n",
       "      <td>400</td>\n",
       "      <td>405</td>\n",
       "      <td>32221</td>\n",
       "      <td>4.322771</td>\n",
       "    </tr>\n",
       "    <tr>\n",
       "      <td>1643</td>\n",
       "      <td>1731</td>\n",
       "      <td>30382</td>\n",
       "      <td>4.066026</td>\n",
       "    </tr>\n",
       "    <tr>\n",
       "      <td>481</td>\n",
       "      <td>488</td>\n",
       "      <td>30120</td>\n",
       "      <td>4.574734</td>\n",
       "    </tr>\n",
       "    <tr>\n",
       "      <td>300</td>\n",
       "      <td>303</td>\n",
       "      <td>30050</td>\n",
       "      <td>4.493311</td>\n",
       "    </tr>\n",
       "    <tr>\n",
       "      <td>316</td>\n",
       "      <td>320</td>\n",
       "      <td>29828</td>\n",
       "      <td>4.189218</td>\n",
       "    </tr>\n",
       "    <tr>\n",
       "      <td>204</td>\n",
       "      <td>204</td>\n",
       "      <td>29732</td>\n",
       "      <td>4.384939</td>\n",
       "    </tr>\n",
       "  </tbody>\n",
       "</table>\n",
       "</div>"
      ],
      "text/plain": [
       "      movie_id  count  avg_rating\n",
       "161        161  41435    4.391263\n",
       "147        147  34738    4.345069\n",
       "891        918  34420    4.134195\n",
       "92          92  33969    4.142807\n",
       "400        405  32221    4.322771\n",
       "1643      1731  30382    4.066026\n",
       "481        488  30120    4.574734\n",
       "300        303  30050    4.493311\n",
       "316        320  29828    4.189218\n",
       "204        204  29732    4.384939"
      ]
     },
     "execution_count": 58,
     "metadata": {},
     "output_type": "execute_result"
    }
   ],
   "source": [
    "#Ratings of the top 10 movies by number of ratings\n",
    "rawdf2 = rawdf.groupby(['movie_id']).agg(count=('rating_score', 'count'), avg_rating=('rating_score', 'mean')).reset_index()\n",
    "rawdf2.sort_values(['count','avg_rating'], ascending=False).head(10)"
   ]
  },
  {
   "cell_type": "code",
   "execution_count": 59,
   "metadata": {},
   "outputs": [
    {
     "data": {
      "text/plain": [
       "108.5738692903895"
      ]
     },
     "execution_count": 59,
     "metadata": {},
     "output_type": "execute_result"
    }
   ],
   "source": [
    "rawdf2['count'].mean()"
   ]
  },
  {
   "cell_type": "code",
   "execution_count": 60,
   "metadata": {},
   "outputs": [
    {
     "data": {
      "text/html": [
       "<div>\n",
       "<style scoped>\n",
       "    .dataframe tbody tr th:only-of-type {\n",
       "        vertical-align: middle;\n",
       "    }\n",
       "\n",
       "    .dataframe tbody tr th {\n",
       "        vertical-align: top;\n",
       "    }\n",
       "\n",
       "    .dataframe thead th {\n",
       "        text-align: right;\n",
       "    }\n",
       "</style>\n",
       "<table border=\"1\" class=\"dataframe\">\n",
       "  <thead>\n",
       "    <tr style=\"text-align: right;\">\n",
       "      <th></th>\n",
       "      <th>movie_id</th>\n",
       "      <th>count</th>\n",
       "      <th>avg_rating</th>\n",
       "    </tr>\n",
       "  </thead>\n",
       "  <tbody>\n",
       "    <tr>\n",
       "      <td>99547</td>\n",
       "      <td>161305</td>\n",
       "      <td>169</td>\n",
       "      <td>4.692308</td>\n",
       "    </tr>\n",
       "    <tr>\n",
       "      <td>97117</td>\n",
       "      <td>157951</td>\n",
       "      <td>327</td>\n",
       "      <td>4.685015</td>\n",
       "    </tr>\n",
       "    <tr>\n",
       "      <td>9706</td>\n",
       "      <td>23369</td>\n",
       "      <td>238</td>\n",
       "      <td>4.672269</td>\n",
       "    </tr>\n",
       "    <tr>\n",
       "      <td>1332</td>\n",
       "      <td>1393</td>\n",
       "      <td>1845</td>\n",
       "      <td>4.671003</td>\n",
       "    </tr>\n",
       "    <tr>\n",
       "      <td>9114</td>\n",
       "      <td>22742</td>\n",
       "      <td>750</td>\n",
       "      <td>4.658667</td>\n",
       "    </tr>\n",
       "    <tr>\n",
       "      <td>51878</td>\n",
       "      <td>92880</td>\n",
       "      <td>159</td>\n",
       "      <td>4.641509</td>\n",
       "    </tr>\n",
       "    <tr>\n",
       "      <td>111942</td>\n",
       "      <td>184461</td>\n",
       "      <td>325</td>\n",
       "      <td>4.640000</td>\n",
       "    </tr>\n",
       "    <tr>\n",
       "      <td>51876</td>\n",
       "      <td>92878</td>\n",
       "      <td>162</td>\n",
       "      <td>4.617284</td>\n",
       "    </tr>\n",
       "    <tr>\n",
       "      <td>2028</td>\n",
       "      <td>2142</td>\n",
       "      <td>3070</td>\n",
       "      <td>4.599674</td>\n",
       "    </tr>\n",
       "    <tr>\n",
       "      <td>720</td>\n",
       "      <td>743</td>\n",
       "      <td>2764</td>\n",
       "      <td>4.591172</td>\n",
       "    </tr>\n",
       "  </tbody>\n",
       "</table>\n",
       "</div>"
      ],
      "text/plain": [
       "        movie_id  count  avg_rating\n",
       "99547     161305    169    4.692308\n",
       "97117     157951    327    4.685015\n",
       "9706       23369    238    4.672269\n",
       "1332        1393   1845    4.671003\n",
       "9114       22742    750    4.658667\n",
       "51878      92880    159    4.641509\n",
       "111942    184461    325    4.640000\n",
       "51876      92878    162    4.617284\n",
       "2028        2142   3070    4.599674\n",
       "720          743   2764    4.591172"
      ]
     },
     "execution_count": 60,
     "metadata": {},
     "output_type": "execute_result"
    }
   ],
   "source": [
    "#Top 10 movies with the highest avg ratings (movies with more than at least 108 ratings)\n",
    "rawdf3 = rawdf2[(rawdf2['avg_rating'] < 5) & (rawdf2['count'] > 108)]\n",
    "rawdf3.sort_values('avg_rating', ascending=False).head(10)"
   ]
  },
  {
   "cell_type": "code",
   "execution_count": 61,
   "metadata": {},
   "outputs": [
    {
     "data": {
      "text/html": [
       "<div>\n",
       "<style scoped>\n",
       "    .dataframe tbody tr th:only-of-type {\n",
       "        vertical-align: middle;\n",
       "    }\n",
       "\n",
       "    .dataframe tbody tr th {\n",
       "        vertical-align: top;\n",
       "    }\n",
       "\n",
       "    .dataframe thead th {\n",
       "        text-align: right;\n",
       "    }\n",
       "</style>\n",
       "<table border=\"1\" class=\"dataframe\">\n",
       "  <thead>\n",
       "    <tr style=\"text-align: right;\">\n",
       "      <th></th>\n",
       "      <th>movie_id</th>\n",
       "      <th>count</th>\n",
       "      <th>avg_rating</th>\n",
       "    </tr>\n",
       "  </thead>\n",
       "  <tbody>\n",
       "    <tr>\n",
       "      <td>26299</td>\n",
       "      <td>40939</td>\n",
       "      <td>195</td>\n",
       "      <td>1.117949</td>\n",
       "    </tr>\n",
       "    <tr>\n",
       "      <td>36948</td>\n",
       "      <td>56294</td>\n",
       "      <td>122</td>\n",
       "      <td>1.163934</td>\n",
       "    </tr>\n",
       "    <tr>\n",
       "      <td>42091</td>\n",
       "      <td>72486</td>\n",
       "      <td>200</td>\n",
       "      <td>1.195000</td>\n",
       "    </tr>\n",
       "    <tr>\n",
       "      <td>23018</td>\n",
       "      <td>37380</td>\n",
       "      <td>170</td>\n",
       "      <td>1.211765</td>\n",
       "    </tr>\n",
       "    <tr>\n",
       "      <td>5261</td>\n",
       "      <td>11087</td>\n",
       "      <td>130</td>\n",
       "      <td>1.230769</td>\n",
       "    </tr>\n",
       "    <tr>\n",
       "      <td>43491</td>\n",
       "      <td>77481</td>\n",
       "      <td>128</td>\n",
       "      <td>1.265625</td>\n",
       "    </tr>\n",
       "    <tr>\n",
       "      <td>29021</td>\n",
       "      <td>43960</td>\n",
       "      <td>181</td>\n",
       "      <td>1.281768</td>\n",
       "    </tr>\n",
       "    <tr>\n",
       "      <td>27825</td>\n",
       "      <td>42623</td>\n",
       "      <td>532</td>\n",
       "      <td>1.283835</td>\n",
       "    </tr>\n",
       "    <tr>\n",
       "      <td>40331</td>\n",
       "      <td>66485</td>\n",
       "      <td>124</td>\n",
       "      <td>1.298387</td>\n",
       "    </tr>\n",
       "    <tr>\n",
       "      <td>25839</td>\n",
       "      <td>40410</td>\n",
       "      <td>132</td>\n",
       "      <td>1.325758</td>\n",
       "    </tr>\n",
       "  </tbody>\n",
       "</table>\n",
       "</div>"
      ],
      "text/plain": [
       "       movie_id  count  avg_rating\n",
       "26299     40939    195    1.117949\n",
       "36948     56294    122    1.163934\n",
       "42091     72486    200    1.195000\n",
       "23018     37380    170    1.211765\n",
       "5261      11087    130    1.230769\n",
       "43491     77481    128    1.265625\n",
       "29021     43960    181    1.281768\n",
       "27825     42623    532    1.283835\n",
       "40331     66485    124    1.298387\n",
       "25839     40410    132    1.325758"
      ]
     },
     "execution_count": 61,
     "metadata": {},
     "output_type": "execute_result"
    }
   ],
   "source": [
    "#Top 10 movies with the lowest avg ratings (movies with more than at least 108 ratings)\n",
    "rawdf3.sort_values('avg_rating', ascending=True).head(10)"
   ]
  },
  {
   "cell_type": "markdown",
   "metadata": {},
   "source": []
  },
  {
   "cell_type": "code",
   "execution_count": 62,
   "metadata": {},
   "outputs": [],
   "source": [
    "dfuser0 = rawdf.copy()\n",
    "dfuser0.drop(['movie_title','movie_release_year'], axis=1, inplace=True)\n",
    "dfuser1 = pd.pivot_table(dfuser0,index=[\"user_id\"],values=[\"movie_id\"],aggfunc='count')\n",
    "dfuser2 = pd.pivot_table(dfuser0,index=[\"user_id\"],values=[\"movie_popularity\",\"rating_score\",\"list_count\",\"comments_sum\",\"followers_sum\",\"Creation_to_update_time\"])\n",
    "dfuser3 = pd.pivot_table(dfuser0,index=[\"user_id\"],values=[\"critic\",\"critic_likes\",\"critic_comments\", \"list_movie_number\"],aggfunc=np.sum)\n",
    "dfuser4 = pd.pivot_table(dfuser0,index=[\"user_id\"],values=[\"user_trialist\",\"user_subscriber\"], aggfunc='first')\n",
    "dfuser5 = pd.pivot_table(dfuser0,index=[\"user_id\"],values=[\"director_name\"], aggfunc=pd.Series.nunique)\n",
    "dfuser6 = pd.pivot_table(dfuser0,index=[\"user_id\"],values=[\"rating_timestamp_utc\"], aggfunc=lambda x: (max(x)-min(x)).days)"
   ]
  },
  {
   "cell_type": "code",
   "execution_count": 63,
   "metadata": {},
   "outputs": [
    {
     "data": {
      "text/html": [
       "<div>\n",
       "<style scoped>\n",
       "    .dataframe tbody tr th:only-of-type {\n",
       "        vertical-align: middle;\n",
       "    }\n",
       "\n",
       "    .dataframe tbody tr th {\n",
       "        vertical-align: top;\n",
       "    }\n",
       "\n",
       "    .dataframe thead th {\n",
       "        text-align: right;\n",
       "    }\n",
       "</style>\n",
       "<table border=\"1\" class=\"dataframe\">\n",
       "  <thead>\n",
       "    <tr style=\"text-align: right;\">\n",
       "      <th></th>\n",
       "      <th>index</th>\n",
       "      <th>user_id</th>\n",
       "      <th>movie_id</th>\n",
       "      <th>Creation_to_update_time</th>\n",
       "      <th>comments_sum</th>\n",
       "      <th>followers_sum</th>\n",
       "      <th>list_count</th>\n",
       "      <th>movie_popularity</th>\n",
       "      <th>rating_score</th>\n",
       "      <th>critic_comments</th>\n",
       "      <th>critic_likes</th>\n",
       "      <th>list_movie_number</th>\n",
       "      <th>user_subscriber</th>\n",
       "      <th>user_trialist</th>\n",
       "      <th>director_name</th>\n",
       "      <th>rating_timestamp_utc</th>\n",
       "      <th>top10count</th>\n",
       "      <th>1.0</th>\n",
       "      <th>2.0</th>\n",
       "      <th>3.0</th>\n",
       "      <th>4.0</th>\n",
       "      <th>5.0</th>\n",
       "    </tr>\n",
       "  </thead>\n",
       "  <tbody>\n",
       "    <tr>\n",
       "      <td>0</td>\n",
       "      <td>0</td>\n",
       "      <td>57</td>\n",
       "      <td>1</td>\n",
       "      <td>NaN</td>\n",
       "      <td>NaN</td>\n",
       "      <td>NaN</td>\n",
       "      <td>NaN</td>\n",
       "      <td>124.000000</td>\n",
       "      <td>5.000000</td>\n",
       "      <td>0</td>\n",
       "      <td>0</td>\n",
       "      <td>0.0</td>\n",
       "      <td>0</td>\n",
       "      <td>0</td>\n",
       "      <td>1</td>\n",
       "      <td>0</td>\n",
       "      <td>NaN</td>\n",
       "      <td>NaN</td>\n",
       "      <td>NaN</td>\n",
       "      <td>NaN</td>\n",
       "      <td>NaN</td>\n",
       "      <td>1.0</td>\n",
       "    </tr>\n",
       "    <tr>\n",
       "      <td>1</td>\n",
       "      <td>1</td>\n",
       "      <td>176</td>\n",
       "      <td>13</td>\n",
       "      <td>NaN</td>\n",
       "      <td>NaN</td>\n",
       "      <td>NaN</td>\n",
       "      <td>NaN</td>\n",
       "      <td>218.153846</td>\n",
       "      <td>3.538462</td>\n",
       "      <td>0</td>\n",
       "      <td>1</td>\n",
       "      <td>0.0</td>\n",
       "      <td>0</td>\n",
       "      <td>0</td>\n",
       "      <td>13</td>\n",
       "      <td>190</td>\n",
       "      <td>NaN</td>\n",
       "      <td>NaN</td>\n",
       "      <td>2.0</td>\n",
       "      <td>5.0</td>\n",
       "      <td>3.0</td>\n",
       "      <td>3.0</td>\n",
       "    </tr>\n",
       "    <tr>\n",
       "      <td>2</td>\n",
       "      <td>2</td>\n",
       "      <td>181</td>\n",
       "      <td>1</td>\n",
       "      <td>NaN</td>\n",
       "      <td>NaN</td>\n",
       "      <td>NaN</td>\n",
       "      <td>NaN</td>\n",
       "      <td>13103.000000</td>\n",
       "      <td>5.000000</td>\n",
       "      <td>0</td>\n",
       "      <td>0</td>\n",
       "      <td>0.0</td>\n",
       "      <td>0</td>\n",
       "      <td>0</td>\n",
       "      <td>1</td>\n",
       "      <td>0</td>\n",
       "      <td>1.0</td>\n",
       "      <td>NaN</td>\n",
       "      <td>NaN</td>\n",
       "      <td>NaN</td>\n",
       "      <td>NaN</td>\n",
       "      <td>1.0</td>\n",
       "    </tr>\n",
       "    <tr>\n",
       "      <td>3</td>\n",
       "      <td>3</td>\n",
       "      <td>499</td>\n",
       "      <td>1</td>\n",
       "      <td>NaN</td>\n",
       "      <td>NaN</td>\n",
       "      <td>NaN</td>\n",
       "      <td>NaN</td>\n",
       "      <td>752.000000</td>\n",
       "      <td>5.000000</td>\n",
       "      <td>0</td>\n",
       "      <td>0</td>\n",
       "      <td>0.0</td>\n",
       "      <td>0</td>\n",
       "      <td>0</td>\n",
       "      <td>1</td>\n",
       "      <td>0</td>\n",
       "      <td>NaN</td>\n",
       "      <td>NaN</td>\n",
       "      <td>NaN</td>\n",
       "      <td>NaN</td>\n",
       "      <td>NaN</td>\n",
       "      <td>1.0</td>\n",
       "    </tr>\n",
       "    <tr>\n",
       "      <td>4</td>\n",
       "      <td>4</td>\n",
       "      <td>606</td>\n",
       "      <td>1</td>\n",
       "      <td>NaN</td>\n",
       "      <td>NaN</td>\n",
       "      <td>NaN</td>\n",
       "      <td>NaN</td>\n",
       "      <td>5802.000000</td>\n",
       "      <td>5.000000</td>\n",
       "      <td>0</td>\n",
       "      <td>0</td>\n",
       "      <td>0.0</td>\n",
       "      <td>0</td>\n",
       "      <td>0</td>\n",
       "      <td>1</td>\n",
       "      <td>0</td>\n",
       "      <td>NaN</td>\n",
       "      <td>NaN</td>\n",
       "      <td>NaN</td>\n",
       "      <td>NaN</td>\n",
       "      <td>NaN</td>\n",
       "      <td>1.0</td>\n",
       "    </tr>\n",
       "  </tbody>\n",
       "</table>\n",
       "</div>"
      ],
      "text/plain": [
       "   index  user_id  movie_id  Creation_to_update_time  comments_sum  \\\n",
       "0      0       57         1                      NaN           NaN   \n",
       "1      1      176        13                      NaN           NaN   \n",
       "2      2      181         1                      NaN           NaN   \n",
       "3      3      499         1                      NaN           NaN   \n",
       "4      4      606         1                      NaN           NaN   \n",
       "\n",
       "   followers_sum  list_count  movie_popularity  rating_score  critic_comments  \\\n",
       "0            NaN         NaN        124.000000      5.000000                0   \n",
       "1            NaN         NaN        218.153846      3.538462                0   \n",
       "2            NaN         NaN      13103.000000      5.000000                0   \n",
       "3            NaN         NaN        752.000000      5.000000                0   \n",
       "4            NaN         NaN       5802.000000      5.000000                0   \n",
       "\n",
       "   critic_likes  list_movie_number  user_subscriber  user_trialist  \\\n",
       "0             0                0.0                0              0   \n",
       "1             1                0.0                0              0   \n",
       "2             0                0.0                0              0   \n",
       "3             0                0.0                0              0   \n",
       "4             0                0.0                0              0   \n",
       "\n",
       "   director_name  rating_timestamp_utc  top10count  1.0  2.0  3.0  4.0  5.0  \n",
       "0              1                     0         NaN  NaN  NaN  NaN  NaN  1.0  \n",
       "1             13                   190         NaN  NaN  2.0  5.0  3.0  3.0  \n",
       "2              1                     0         1.0  NaN  NaN  NaN  NaN  1.0  \n",
       "3              1                     0         NaN  NaN  NaN  NaN  NaN  1.0  \n",
       "4              1                     0         NaN  NaN  NaN  NaN  NaN  1.0  "
      ]
     },
     "execution_count": 63,
     "metadata": {},
     "output_type": "execute_result"
    }
   ],
   "source": [
    "dfuser = pd.merge(dfuser1, dfuser2, on=\"user_id\", how='left')\n",
    "dfuser = pd.merge(dfuser, dfuser3, on='user_id', how='left')\n",
    "dfuser = pd.merge(dfuser, dfuser4, on='user_id', how='left')\n",
    "dfuser = pd.merge(dfuser, dfuser5, on='user_id', how='left')\n",
    "dfuser = pd.merge(dfuser, dfuser6, on='user_id', how='left')\n",
    "dfuser = pd.merge(dfuser, ratingsdf3, on='user_id', how='left')\n",
    "dfuser = pd.merge(dfuser, ratingsdf4, on='user_id', how='left').reset_index()\n",
    "dfuser.head()"
   ]
  },
  {
   "cell_type": "code",
   "execution_count": 64,
   "metadata": {},
   "outputs": [],
   "source": [
    "dfuser = dfuser.rename(columns = {\"movie_id\":\"ratedmovies\", \"director_name\":\"directorcount\", \"list_movie_number\":\"movies_in_list\", \"rating_timestamp_utc\":\"rating_time\"})\n",
    "dfuser = dfuser.fillna(0)\n",
    "dfuser['ratedperday'] = dfuser['ratedmovies'] / dfuser['rating_time']\n",
    "dfuser = dfuser.replace([np.inf, -np.inf], np.nan)\n",
    "dfuser = dfuser.fillna(0)\n",
    "dfuser1 = dfuser.drop(['index'], axis=1).copy()\n",
    "dfuser = dfuser[dfuser.user_id != 12295046] #dropping user 12295046 as this person data is an outlier\n",
    "dfuser.drop(['index','rating_time','user_id'], axis=1, inplace=True)"
   ]
  },
  {
   "cell_type": "code",
   "execution_count": 65,
   "metadata": {},
   "outputs": [
    {
     "data": {
      "text/html": [
       "<div>\n",
       "<style scoped>\n",
       "    .dataframe tbody tr th:only-of-type {\n",
       "        vertical-align: middle;\n",
       "    }\n",
       "\n",
       "    .dataframe tbody tr th {\n",
       "        vertical-align: top;\n",
       "    }\n",
       "\n",
       "    .dataframe thead th {\n",
       "        text-align: right;\n",
       "    }\n",
       "</style>\n",
       "<table border=\"1\" class=\"dataframe\">\n",
       "  <thead>\n",
       "    <tr style=\"text-align: right;\">\n",
       "      <th></th>\n",
       "      <th>user_id</th>\n",
       "      <th>ratedmovies</th>\n",
       "      <th>Creation_to_update_time</th>\n",
       "      <th>comments_sum</th>\n",
       "      <th>followers_sum</th>\n",
       "      <th>list_count</th>\n",
       "      <th>movie_popularity</th>\n",
       "      <th>rating_score</th>\n",
       "      <th>critic_comments</th>\n",
       "      <th>critic_likes</th>\n",
       "      <th>movies_in_list</th>\n",
       "      <th>user_subscriber</th>\n",
       "      <th>user_trialist</th>\n",
       "      <th>directorcount</th>\n",
       "      <th>rating_time</th>\n",
       "      <th>top10count</th>\n",
       "      <th>1.0</th>\n",
       "      <th>2.0</th>\n",
       "      <th>3.0</th>\n",
       "      <th>4.0</th>\n",
       "      <th>5.0</th>\n",
       "      <th>ratedperday</th>\n",
       "    </tr>\n",
       "  </thead>\n",
       "  <tbody>\n",
       "    <tr>\n",
       "      <td>0</td>\n",
       "      <td>57</td>\n",
       "      <td>1</td>\n",
       "      <td>0.0</td>\n",
       "      <td>0.0</td>\n",
       "      <td>0.0</td>\n",
       "      <td>0.0</td>\n",
       "      <td>124.000000</td>\n",
       "      <td>5.000000</td>\n",
       "      <td>0</td>\n",
       "      <td>0</td>\n",
       "      <td>0.0</td>\n",
       "      <td>0</td>\n",
       "      <td>0</td>\n",
       "      <td>1</td>\n",
       "      <td>0</td>\n",
       "      <td>0.0</td>\n",
       "      <td>0.0</td>\n",
       "      <td>0.0</td>\n",
       "      <td>0.0</td>\n",
       "      <td>0.0</td>\n",
       "      <td>1.0</td>\n",
       "      <td>0.000000</td>\n",
       "    </tr>\n",
       "    <tr>\n",
       "      <td>1</td>\n",
       "      <td>176</td>\n",
       "      <td>13</td>\n",
       "      <td>0.0</td>\n",
       "      <td>0.0</td>\n",
       "      <td>0.0</td>\n",
       "      <td>0.0</td>\n",
       "      <td>218.153846</td>\n",
       "      <td>3.538462</td>\n",
       "      <td>0</td>\n",
       "      <td>1</td>\n",
       "      <td>0.0</td>\n",
       "      <td>0</td>\n",
       "      <td>0</td>\n",
       "      <td>13</td>\n",
       "      <td>190</td>\n",
       "      <td>0.0</td>\n",
       "      <td>0.0</td>\n",
       "      <td>2.0</td>\n",
       "      <td>5.0</td>\n",
       "      <td>3.0</td>\n",
       "      <td>3.0</td>\n",
       "      <td>0.068421</td>\n",
       "    </tr>\n",
       "    <tr>\n",
       "      <td>2</td>\n",
       "      <td>181</td>\n",
       "      <td>1</td>\n",
       "      <td>0.0</td>\n",
       "      <td>0.0</td>\n",
       "      <td>0.0</td>\n",
       "      <td>0.0</td>\n",
       "      <td>13103.000000</td>\n",
       "      <td>5.000000</td>\n",
       "      <td>0</td>\n",
       "      <td>0</td>\n",
       "      <td>0.0</td>\n",
       "      <td>0</td>\n",
       "      <td>0</td>\n",
       "      <td>1</td>\n",
       "      <td>0</td>\n",
       "      <td>1.0</td>\n",
       "      <td>0.0</td>\n",
       "      <td>0.0</td>\n",
       "      <td>0.0</td>\n",
       "      <td>0.0</td>\n",
       "      <td>1.0</td>\n",
       "      <td>0.000000</td>\n",
       "    </tr>\n",
       "    <tr>\n",
       "      <td>3</td>\n",
       "      <td>499</td>\n",
       "      <td>1</td>\n",
       "      <td>0.0</td>\n",
       "      <td>0.0</td>\n",
       "      <td>0.0</td>\n",
       "      <td>0.0</td>\n",
       "      <td>752.000000</td>\n",
       "      <td>5.000000</td>\n",
       "      <td>0</td>\n",
       "      <td>0</td>\n",
       "      <td>0.0</td>\n",
       "      <td>0</td>\n",
       "      <td>0</td>\n",
       "      <td>1</td>\n",
       "      <td>0</td>\n",
       "      <td>0.0</td>\n",
       "      <td>0.0</td>\n",
       "      <td>0.0</td>\n",
       "      <td>0.0</td>\n",
       "      <td>0.0</td>\n",
       "      <td>1.0</td>\n",
       "      <td>0.000000</td>\n",
       "    </tr>\n",
       "    <tr>\n",
       "      <td>4</td>\n",
       "      <td>606</td>\n",
       "      <td>1</td>\n",
       "      <td>0.0</td>\n",
       "      <td>0.0</td>\n",
       "      <td>0.0</td>\n",
       "      <td>0.0</td>\n",
       "      <td>5802.000000</td>\n",
       "      <td>5.000000</td>\n",
       "      <td>0</td>\n",
       "      <td>0</td>\n",
       "      <td>0.0</td>\n",
       "      <td>0</td>\n",
       "      <td>0</td>\n",
       "      <td>1</td>\n",
       "      <td>0</td>\n",
       "      <td>0.0</td>\n",
       "      <td>0.0</td>\n",
       "      <td>0.0</td>\n",
       "      <td>0.0</td>\n",
       "      <td>0.0</td>\n",
       "      <td>1.0</td>\n",
       "      <td>0.000000</td>\n",
       "    </tr>\n",
       "  </tbody>\n",
       "</table>\n",
       "</div>"
      ],
      "text/plain": [
       "   user_id  ratedmovies  Creation_to_update_time  comments_sum  followers_sum  \\\n",
       "0       57            1                      0.0           0.0            0.0   \n",
       "1      176           13                      0.0           0.0            0.0   \n",
       "2      181            1                      0.0           0.0            0.0   \n",
       "3      499            1                      0.0           0.0            0.0   \n",
       "4      606            1                      0.0           0.0            0.0   \n",
       "\n",
       "   list_count  movie_popularity  rating_score  critic_comments  critic_likes  \\\n",
       "0         0.0        124.000000      5.000000                0             0   \n",
       "1         0.0        218.153846      3.538462                0             1   \n",
       "2         0.0      13103.000000      5.000000                0             0   \n",
       "3         0.0        752.000000      5.000000                0             0   \n",
       "4         0.0       5802.000000      5.000000                0             0   \n",
       "\n",
       "   movies_in_list  user_subscriber  user_trialist  directorcount  rating_time  \\\n",
       "0             0.0                0              0              1            0   \n",
       "1             0.0                0              0             13          190   \n",
       "2             0.0                0              0              1            0   \n",
       "3             0.0                0              0              1            0   \n",
       "4             0.0                0              0              1            0   \n",
       "\n",
       "   top10count  1.0  2.0  3.0  4.0  5.0  ratedperday  \n",
       "0         0.0  0.0  0.0  0.0  0.0  1.0     0.000000  \n",
       "1         0.0  0.0  2.0  5.0  3.0  3.0     0.068421  \n",
       "2         1.0  0.0  0.0  0.0  0.0  1.0     0.000000  \n",
       "3         0.0  0.0  0.0  0.0  0.0  1.0     0.000000  \n",
       "4         0.0  0.0  0.0  0.0  0.0  1.0     0.000000  "
      ]
     },
     "execution_count": 65,
     "metadata": {},
     "output_type": "execute_result"
    }
   ],
   "source": [
    "dfuser1.head()"
   ]
  },
  {
   "cell_type": "code",
   "execution_count": 44,
   "metadata": {},
   "outputs": [
    {
     "data": {
      "text/plain": [
       "451757"
      ]
     },
     "execution_count": 44,
     "metadata": {},
     "output_type": "execute_result"
    }
   ],
   "source": [
    "#Number of Users\n",
    "dfuser1['user_id'].count()"
   ]
  },
  {
   "cell_type": "code",
   "execution_count": 45,
   "metadata": {},
   "outputs": [
    {
     "data": {
      "text/plain": [
       "104236"
      ]
     },
     "execution_count": 45,
     "metadata": {},
     "output_type": "execute_result"
    }
   ],
   "source": [
    "#Number of subscribers (unique)\n",
    "dfuser1['user_subscriber'].sum()"
   ]
  },
  {
   "cell_type": "code",
   "execution_count": 46,
   "metadata": {},
   "outputs": [
    {
     "data": {
      "text/plain": [
       "36575"
      ]
     },
     "execution_count": 46,
     "metadata": {},
     "output_type": "execute_result"
    }
   ],
   "source": [
    "#Number of trialists (unique)\n",
    "dfuser1['user_trialist'].sum()"
   ]
  },
  {
   "cell_type": "code",
   "execution_count": 69,
   "metadata": {},
   "outputs": [
    {
     "data": {
      "text/plain": [
       "6058"
      ]
     },
     "execution_count": 69,
     "metadata": {},
     "output_type": "execute_result"
    }
   ],
   "source": [
    "listusercount1 = dfuser1[dfuser1['list_count']>0]\n",
    "#Number of subscribers who created at least one list\n",
    "listusercount1['user_subscriber'].sum()"
   ]
  },
  {
   "cell_type": "code",
   "execution_count": 70,
   "metadata": {},
   "outputs": [
    {
     "data": {
      "text/plain": [
       "1763"
      ]
     },
     "execution_count": 70,
     "metadata": {},
     "output_type": "execute_result"
    }
   ],
   "source": [
    "#Number of trialists who created at least one list\n",
    "listusercount1['user_trialist'].sum()"
   ]
  },
  {
   "cell_type": "code",
   "execution_count": 72,
   "metadata": {},
   "outputs": [
    {
     "data": {
      "text/html": [
       "<div>\n",
       "<style scoped>\n",
       "    .dataframe tbody tr th:only-of-type {\n",
       "        vertical-align: middle;\n",
       "    }\n",
       "\n",
       "    .dataframe tbody tr th {\n",
       "        vertical-align: top;\n",
       "    }\n",
       "\n",
       "    .dataframe thead th {\n",
       "        text-align: right;\n",
       "    }\n",
       "</style>\n",
       "<table border=\"1\" class=\"dataframe\">\n",
       "  <thead>\n",
       "    <tr style=\"text-align: right;\">\n",
       "      <th></th>\n",
       "      <th>user_id</th>\n",
       "      <th>ratedmovies</th>\n",
       "      <th>Creation_to_update_time</th>\n",
       "      <th>comments_sum</th>\n",
       "      <th>followers_sum</th>\n",
       "      <th>list_count</th>\n",
       "      <th>movie_popularity</th>\n",
       "      <th>rating_score</th>\n",
       "      <th>critic_comments</th>\n",
       "      <th>critic_likes</th>\n",
       "      <th>movies_in_list</th>\n",
       "      <th>user_subscriber</th>\n",
       "      <th>user_trialist</th>\n",
       "      <th>directorcount</th>\n",
       "      <th>rating_time</th>\n",
       "      <th>top10count</th>\n",
       "      <th>1.0</th>\n",
       "      <th>2.0</th>\n",
       "      <th>3.0</th>\n",
       "      <th>4.0</th>\n",
       "      <th>5.0</th>\n",
       "      <th>ratedperday</th>\n",
       "    </tr>\n",
       "  </thead>\n",
       "  <tbody>\n",
       "    <tr>\n",
       "      <td>278482</td>\n",
       "      <td>61596227</td>\n",
       "      <td>10342</td>\n",
       "      <td>3824.0</td>\n",
       "      <td>3438.0</td>\n",
       "      <td>46415.0</td>\n",
       "      <td>330.0</td>\n",
       "      <td>226.530748</td>\n",
       "      <td>3.313033</td>\n",
       "      <td>67</td>\n",
       "      <td>2106</td>\n",
       "      <td>359953310.0</td>\n",
       "      <td>0</td>\n",
       "      <td>0</td>\n",
       "      <td>4033</td>\n",
       "      <td>4065</td>\n",
       "      <td>10.0</td>\n",
       "      <td>369.0</td>\n",
       "      <td>1532.0</td>\n",
       "      <td>3947.0</td>\n",
       "      <td>3457.0</td>\n",
       "      <td>1023.0</td>\n",
       "      <td>2.544157</td>\n",
       "    </tr>\n",
       "  </tbody>\n",
       "</table>\n",
       "</div>"
      ],
      "text/plain": [
       "         user_id  ratedmovies  Creation_to_update_time  comments_sum  \\\n",
       "278482  61596227        10342                   3824.0        3438.0   \n",
       "\n",
       "        followers_sum  list_count  movie_popularity  rating_score  \\\n",
       "278482        46415.0       330.0        226.530748      3.313033   \n",
       "\n",
       "        critic_comments  critic_likes  movies_in_list  user_subscriber  \\\n",
       "278482               67          2106     359953310.0                0   \n",
       "\n",
       "        user_trialist  directorcount  rating_time  top10count    1.0     2.0  \\\n",
       "278482              0           4033         4065        10.0  369.0  1532.0   \n",
       "\n",
       "           3.0     4.0     5.0  ratedperday  \n",
       "278482  3947.0  3457.0  1023.0     2.544157  "
      ]
     },
     "execution_count": 72,
     "metadata": {},
     "output_type": "execute_result"
    }
   ],
   "source": [
    "#User with the most number of list followers(total)\n",
    "dfuser1.sort_values('followers_sum', ascending = False).head(1)"
   ]
  },
  {
   "cell_type": "code",
   "execution_count": 73,
   "metadata": {},
   "outputs": [
    {
     "data": {
      "text/html": [
       "<div>\n",
       "<style scoped>\n",
       "    .dataframe tbody tr th:only-of-type {\n",
       "        vertical-align: middle;\n",
       "    }\n",
       "\n",
       "    .dataframe tbody tr th {\n",
       "        vertical-align: top;\n",
       "    }\n",
       "\n",
       "    .dataframe thead th {\n",
       "        text-align: right;\n",
       "    }\n",
       "</style>\n",
       "<table border=\"1\" class=\"dataframe\">\n",
       "  <thead>\n",
       "    <tr style=\"text-align: right;\">\n",
       "      <th></th>\n",
       "      <th>user_id</th>\n",
       "      <th>ratedmovies</th>\n",
       "      <th>Creation_to_update_time</th>\n",
       "      <th>comments_sum</th>\n",
       "      <th>followers_sum</th>\n",
       "      <th>list_count</th>\n",
       "      <th>movie_popularity</th>\n",
       "      <th>rating_score</th>\n",
       "      <th>critic_comments</th>\n",
       "      <th>critic_likes</th>\n",
       "      <th>movies_in_list</th>\n",
       "      <th>user_subscriber</th>\n",
       "      <th>user_trialist</th>\n",
       "      <th>directorcount</th>\n",
       "      <th>rating_time</th>\n",
       "      <th>top10count</th>\n",
       "      <th>1.0</th>\n",
       "      <th>2.0</th>\n",
       "      <th>3.0</th>\n",
       "      <th>4.0</th>\n",
       "      <th>5.0</th>\n",
       "      <th>ratedperday</th>\n",
       "    </tr>\n",
       "  </thead>\n",
       "  <tbody>\n",
       "    <tr>\n",
       "      <td>80775</td>\n",
       "      <td>17893708</td>\n",
       "      <td>6645</td>\n",
       "      <td>3815.0</td>\n",
       "      <td>220.0</td>\n",
       "      <td>643.0</td>\n",
       "      <td>1263.0</td>\n",
       "      <td>268.202257</td>\n",
       "      <td>3.094894</td>\n",
       "      <td>33</td>\n",
       "      <td>311</td>\n",
       "      <td>133405020.0</td>\n",
       "      <td>0</td>\n",
       "      <td>0</td>\n",
       "      <td>2755</td>\n",
       "      <td>4168</td>\n",
       "      <td>10.0</td>\n",
       "      <td>601.0</td>\n",
       "      <td>1185.0</td>\n",
       "      <td>2210.0</td>\n",
       "      <td>2269.0</td>\n",
       "      <td>374.0</td>\n",
       "      <td>1.59429</td>\n",
       "    </tr>\n",
       "  </tbody>\n",
       "</table>\n",
       "</div>"
      ],
      "text/plain": [
       "        user_id  ratedmovies  Creation_to_update_time  comments_sum  \\\n",
       "80775  17893708         6645                   3815.0         220.0   \n",
       "\n",
       "       followers_sum  list_count  movie_popularity  rating_score  \\\n",
       "80775          643.0      1263.0        268.202257      3.094894   \n",
       "\n",
       "       critic_comments  critic_likes  movies_in_list  user_subscriber  \\\n",
       "80775               33           311     133405020.0                0   \n",
       "\n",
       "       user_trialist  directorcount  rating_time  top10count    1.0     2.0  \\\n",
       "80775              0           2755         4168        10.0  601.0  1185.0   \n",
       "\n",
       "          3.0     4.0    5.0  ratedperday  \n",
       "80775  2210.0  2269.0  374.0      1.59429  "
      ]
     },
     "execution_count": 73,
     "metadata": {},
     "output_type": "execute_result"
    }
   ],
   "source": [
    "#User with the most number of lists\n",
    "dfuser1.sort_values('list_count', ascending = False).head(1)"
   ]
  },
  {
   "cell_type": "code",
   "execution_count": 74,
   "metadata": {
    "scrolled": false
   },
   "outputs": [
    {
     "data": {
      "text/html": [
       "<div>\n",
       "<style scoped>\n",
       "    .dataframe tbody tr th:only-of-type {\n",
       "        vertical-align: middle;\n",
       "    }\n",
       "\n",
       "    .dataframe tbody tr th {\n",
       "        vertical-align: top;\n",
       "    }\n",
       "\n",
       "    .dataframe thead th {\n",
       "        text-align: right;\n",
       "    }\n",
       "</style>\n",
       "<table border=\"1\" class=\"dataframe\">\n",
       "  <thead>\n",
       "    <tr style=\"text-align: right;\">\n",
       "      <th></th>\n",
       "      <th>user_id</th>\n",
       "      <th>ratedmovies</th>\n",
       "      <th>Creation_to_update_time</th>\n",
       "      <th>comments_sum</th>\n",
       "      <th>followers_sum</th>\n",
       "      <th>list_count</th>\n",
       "      <th>movie_popularity</th>\n",
       "      <th>rating_score</th>\n",
       "      <th>critic_comments</th>\n",
       "      <th>critic_likes</th>\n",
       "      <th>movies_in_list</th>\n",
       "      <th>user_subscriber</th>\n",
       "      <th>user_trialist</th>\n",
       "      <th>directorcount</th>\n",
       "      <th>rating_time</th>\n",
       "      <th>top10count</th>\n",
       "      <th>1.0</th>\n",
       "      <th>2.0</th>\n",
       "      <th>3.0</th>\n",
       "      <th>4.0</th>\n",
       "      <th>5.0</th>\n",
       "      <th>ratedperday</th>\n",
       "    </tr>\n",
       "  </thead>\n",
       "  <tbody>\n",
       "    <tr>\n",
       "      <td>8</td>\n",
       "      <td>1984</td>\n",
       "      <td>1</td>\n",
       "      <td>0.0</td>\n",
       "      <td>0.0</td>\n",
       "      <td>0.0</td>\n",
       "      <td>0.0</td>\n",
       "      <td>34.00000</td>\n",
       "      <td>3.000000</td>\n",
       "      <td>0</td>\n",
       "      <td>0</td>\n",
       "      <td>0.0</td>\n",
       "      <td>1</td>\n",
       "      <td>1</td>\n",
       "      <td>1</td>\n",
       "      <td>0</td>\n",
       "      <td>0.0</td>\n",
       "      <td>0.0</td>\n",
       "      <td>0.0</td>\n",
       "      <td>1.0</td>\n",
       "      <td>0.0</td>\n",
       "      <td>0.0</td>\n",
       "      <td>0.000000</td>\n",
       "    </tr>\n",
       "    <tr>\n",
       "      <td>10</td>\n",
       "      <td>2329</td>\n",
       "      <td>1</td>\n",
       "      <td>0.0</td>\n",
       "      <td>0.0</td>\n",
       "      <td>0.0</td>\n",
       "      <td>0.0</td>\n",
       "      <td>180.00000</td>\n",
       "      <td>5.000000</td>\n",
       "      <td>0</td>\n",
       "      <td>0</td>\n",
       "      <td>0.0</td>\n",
       "      <td>1</td>\n",
       "      <td>1</td>\n",
       "      <td>1</td>\n",
       "      <td>0</td>\n",
       "      <td>0.0</td>\n",
       "      <td>0.0</td>\n",
       "      <td>0.0</td>\n",
       "      <td>0.0</td>\n",
       "      <td>0.0</td>\n",
       "      <td>1.0</td>\n",
       "      <td>0.000000</td>\n",
       "    </tr>\n",
       "    <tr>\n",
       "      <td>11</td>\n",
       "      <td>2385</td>\n",
       "      <td>16</td>\n",
       "      <td>3.0</td>\n",
       "      <td>0.0</td>\n",
       "      <td>0.0</td>\n",
       "      <td>4.0</td>\n",
       "      <td>1388.06250</td>\n",
       "      <td>4.437500</td>\n",
       "      <td>0</td>\n",
       "      <td>0</td>\n",
       "      <td>7888.0</td>\n",
       "      <td>1</td>\n",
       "      <td>1</td>\n",
       "      <td>15</td>\n",
       "      <td>2</td>\n",
       "      <td>0.0</td>\n",
       "      <td>0.0</td>\n",
       "      <td>2.0</td>\n",
       "      <td>1.0</td>\n",
       "      <td>1.0</td>\n",
       "      <td>12.0</td>\n",
       "      <td>8.000000</td>\n",
       "    </tr>\n",
       "    <tr>\n",
       "      <td>32</td>\n",
       "      <td>8388</td>\n",
       "      <td>1</td>\n",
       "      <td>0.0</td>\n",
       "      <td>0.0</td>\n",
       "      <td>0.0</td>\n",
       "      <td>0.0</td>\n",
       "      <td>142.00000</td>\n",
       "      <td>2.000000</td>\n",
       "      <td>0</td>\n",
       "      <td>0</td>\n",
       "      <td>0.0</td>\n",
       "      <td>1</td>\n",
       "      <td>1</td>\n",
       "      <td>1</td>\n",
       "      <td>0</td>\n",
       "      <td>0.0</td>\n",
       "      <td>0.0</td>\n",
       "      <td>1.0</td>\n",
       "      <td>0.0</td>\n",
       "      <td>0.0</td>\n",
       "      <td>0.0</td>\n",
       "      <td>0.000000</td>\n",
       "    </tr>\n",
       "    <tr>\n",
       "      <td>93</td>\n",
       "      <td>22822</td>\n",
       "      <td>1</td>\n",
       "      <td>0.0</td>\n",
       "      <td>0.0</td>\n",
       "      <td>0.0</td>\n",
       "      <td>0.0</td>\n",
       "      <td>1302.00000</td>\n",
       "      <td>4.000000</td>\n",
       "      <td>0</td>\n",
       "      <td>0</td>\n",
       "      <td>0.0</td>\n",
       "      <td>1</td>\n",
       "      <td>1</td>\n",
       "      <td>1</td>\n",
       "      <td>0</td>\n",
       "      <td>0.0</td>\n",
       "      <td>0.0</td>\n",
       "      <td>0.0</td>\n",
       "      <td>0.0</td>\n",
       "      <td>1.0</td>\n",
       "      <td>0.0</td>\n",
       "      <td>0.000000</td>\n",
       "    </tr>\n",
       "    <tr>\n",
       "      <td>...</td>\n",
       "      <td>...</td>\n",
       "      <td>...</td>\n",
       "      <td>...</td>\n",
       "      <td>...</td>\n",
       "      <td>...</td>\n",
       "      <td>...</td>\n",
       "      <td>...</td>\n",
       "      <td>...</td>\n",
       "      <td>...</td>\n",
       "      <td>...</td>\n",
       "      <td>...</td>\n",
       "      <td>...</td>\n",
       "      <td>...</td>\n",
       "      <td>...</td>\n",
       "      <td>...</td>\n",
       "      <td>...</td>\n",
       "      <td>...</td>\n",
       "      <td>...</td>\n",
       "      <td>...</td>\n",
       "      <td>...</td>\n",
       "      <td>...</td>\n",
       "      <td>...</td>\n",
       "    </tr>\n",
       "    <tr>\n",
       "      <td>451707</td>\n",
       "      <td>99989086</td>\n",
       "      <td>2</td>\n",
       "      <td>0.0</td>\n",
       "      <td>0.0</td>\n",
       "      <td>0.0</td>\n",
       "      <td>0.0</td>\n",
       "      <td>69.50000</td>\n",
       "      <td>5.000000</td>\n",
       "      <td>0</td>\n",
       "      <td>0</td>\n",
       "      <td>0.0</td>\n",
       "      <td>1</td>\n",
       "      <td>1</td>\n",
       "      <td>2</td>\n",
       "      <td>7</td>\n",
       "      <td>0.0</td>\n",
       "      <td>0.0</td>\n",
       "      <td>0.0</td>\n",
       "      <td>0.0</td>\n",
       "      <td>0.0</td>\n",
       "      <td>2.0</td>\n",
       "      <td>0.285714</td>\n",
       "    </tr>\n",
       "    <tr>\n",
       "      <td>451721</td>\n",
       "      <td>99993418</td>\n",
       "      <td>2</td>\n",
       "      <td>0.0</td>\n",
       "      <td>0.0</td>\n",
       "      <td>0.0</td>\n",
       "      <td>0.0</td>\n",
       "      <td>34.00000</td>\n",
       "      <td>1.500000</td>\n",
       "      <td>0</td>\n",
       "      <td>0</td>\n",
       "      <td>0.0</td>\n",
       "      <td>1</td>\n",
       "      <td>1</td>\n",
       "      <td>2</td>\n",
       "      <td>16</td>\n",
       "      <td>0.0</td>\n",
       "      <td>1.0</td>\n",
       "      <td>1.0</td>\n",
       "      <td>0.0</td>\n",
       "      <td>0.0</td>\n",
       "      <td>0.0</td>\n",
       "      <td>0.125000</td>\n",
       "    </tr>\n",
       "    <tr>\n",
       "      <td>451735</td>\n",
       "      <td>99996361</td>\n",
       "      <td>1</td>\n",
       "      <td>0.0</td>\n",
       "      <td>0.0</td>\n",
       "      <td>0.0</td>\n",
       "      <td>0.0</td>\n",
       "      <td>10.00000</td>\n",
       "      <td>3.000000</td>\n",
       "      <td>0</td>\n",
       "      <td>0</td>\n",
       "      <td>0.0</td>\n",
       "      <td>1</td>\n",
       "      <td>1</td>\n",
       "      <td>1</td>\n",
       "      <td>0</td>\n",
       "      <td>0.0</td>\n",
       "      <td>0.0</td>\n",
       "      <td>0.0</td>\n",
       "      <td>1.0</td>\n",
       "      <td>0.0</td>\n",
       "      <td>0.0</td>\n",
       "      <td>0.000000</td>\n",
       "    </tr>\n",
       "    <tr>\n",
       "      <td>451737</td>\n",
       "      <td>99996903</td>\n",
       "      <td>63</td>\n",
       "      <td>0.0</td>\n",
       "      <td>0.0</td>\n",
       "      <td>0.0</td>\n",
       "      <td>0.0</td>\n",
       "      <td>532.31746</td>\n",
       "      <td>3.650794</td>\n",
       "      <td>0</td>\n",
       "      <td>0</td>\n",
       "      <td>0.0</td>\n",
       "      <td>1</td>\n",
       "      <td>1</td>\n",
       "      <td>50</td>\n",
       "      <td>80</td>\n",
       "      <td>0.0</td>\n",
       "      <td>2.0</td>\n",
       "      <td>5.0</td>\n",
       "      <td>21.0</td>\n",
       "      <td>20.0</td>\n",
       "      <td>15.0</td>\n",
       "      <td>0.787500</td>\n",
       "    </tr>\n",
       "    <tr>\n",
       "      <td>451756</td>\n",
       "      <td>99999860</td>\n",
       "      <td>1</td>\n",
       "      <td>0.0</td>\n",
       "      <td>0.0</td>\n",
       "      <td>0.0</td>\n",
       "      <td>0.0</td>\n",
       "      <td>57.00000</td>\n",
       "      <td>5.000000</td>\n",
       "      <td>0</td>\n",
       "      <td>0</td>\n",
       "      <td>0.0</td>\n",
       "      <td>1</td>\n",
       "      <td>1</td>\n",
       "      <td>1</td>\n",
       "      <td>0</td>\n",
       "      <td>0.0</td>\n",
       "      <td>0.0</td>\n",
       "      <td>0.0</td>\n",
       "      <td>0.0</td>\n",
       "      <td>0.0</td>\n",
       "      <td>1.0</td>\n",
       "      <td>0.000000</td>\n",
       "    </tr>\n",
       "  </tbody>\n",
       "</table>\n",
       "<p>36575 rows × 22 columns</p>\n",
       "</div>"
      ],
      "text/plain": [
       "         user_id  ratedmovies  Creation_to_update_time  comments_sum  \\\n",
       "8           1984            1                      0.0           0.0   \n",
       "10          2329            1                      0.0           0.0   \n",
       "11          2385           16                      3.0           0.0   \n",
       "32          8388            1                      0.0           0.0   \n",
       "93         22822            1                      0.0           0.0   \n",
       "...          ...          ...                      ...           ...   \n",
       "451707  99989086            2                      0.0           0.0   \n",
       "451721  99993418            2                      0.0           0.0   \n",
       "451735  99996361            1                      0.0           0.0   \n",
       "451737  99996903           63                      0.0           0.0   \n",
       "451756  99999860            1                      0.0           0.0   \n",
       "\n",
       "        followers_sum  list_count  movie_popularity  rating_score  \\\n",
       "8                 0.0         0.0          34.00000      3.000000   \n",
       "10                0.0         0.0         180.00000      5.000000   \n",
       "11                0.0         4.0        1388.06250      4.437500   \n",
       "32                0.0         0.0         142.00000      2.000000   \n",
       "93                0.0         0.0        1302.00000      4.000000   \n",
       "...               ...         ...               ...           ...   \n",
       "451707            0.0         0.0          69.50000      5.000000   \n",
       "451721            0.0         0.0          34.00000      1.500000   \n",
       "451735            0.0         0.0          10.00000      3.000000   \n",
       "451737            0.0         0.0         532.31746      3.650794   \n",
       "451756            0.0         0.0          57.00000      5.000000   \n",
       "\n",
       "        critic_comments  critic_likes  movies_in_list  user_subscriber  \\\n",
       "8                     0             0             0.0                1   \n",
       "10                    0             0             0.0                1   \n",
       "11                    0             0          7888.0                1   \n",
       "32                    0             0             0.0                1   \n",
       "93                    0             0             0.0                1   \n",
       "...                 ...           ...             ...              ...   \n",
       "451707                0             0             0.0                1   \n",
       "451721                0             0             0.0                1   \n",
       "451735                0             0             0.0                1   \n",
       "451737                0             0             0.0                1   \n",
       "451756                0             0             0.0                1   \n",
       "\n",
       "        user_trialist  directorcount  rating_time  top10count  1.0  2.0   3.0  \\\n",
       "8                   1              1            0         0.0  0.0  0.0   1.0   \n",
       "10                  1              1            0         0.0  0.0  0.0   0.0   \n",
       "11                  1             15            2         0.0  0.0  2.0   1.0   \n",
       "32                  1              1            0         0.0  0.0  1.0   0.0   \n",
       "93                  1              1            0         0.0  0.0  0.0   0.0   \n",
       "...               ...            ...          ...         ...  ...  ...   ...   \n",
       "451707              1              2            7         0.0  0.0  0.0   0.0   \n",
       "451721              1              2           16         0.0  1.0  1.0   0.0   \n",
       "451735              1              1            0         0.0  0.0  0.0   1.0   \n",
       "451737              1             50           80         0.0  2.0  5.0  21.0   \n",
       "451756              1              1            0         0.0  0.0  0.0   0.0   \n",
       "\n",
       "         4.0   5.0  ratedperday  \n",
       "8        0.0   0.0     0.000000  \n",
       "10       0.0   1.0     0.000000  \n",
       "11       1.0  12.0     8.000000  \n",
       "32       0.0   0.0     0.000000  \n",
       "93       1.0   0.0     0.000000  \n",
       "...      ...   ...          ...  \n",
       "451707   0.0   2.0     0.285714  \n",
       "451721   0.0   0.0     0.125000  \n",
       "451735   0.0   0.0     0.000000  \n",
       "451737  20.0  15.0     0.787500  \n",
       "451756   0.0   1.0     0.000000  \n",
       "\n",
       "[36575 rows x 22 columns]"
      ]
     },
     "execution_count": 74,
     "metadata": {},
     "output_type": "execute_result"
    }
   ],
   "source": [
    "dfuser1.loc[np.logical_and(dfuser1.user_subscriber == 1, dfuser1.user_trialist == 1)]"
   ]
  },
  {
   "cell_type": "code",
   "execution_count": 75,
   "metadata": {},
   "outputs": [
    {
     "data": {
      "text/plain": [
       "count    451756.000000\n",
       "mean          0.697596\n",
       "std          10.225598\n",
       "min           0.000000\n",
       "25%           0.000000\n",
       "50%           0.000000\n",
       "75%           0.034091\n",
       "max        1257.000000\n",
       "Name: ratedperday, dtype: float64"
      ]
     },
     "execution_count": 75,
     "metadata": {},
     "output_type": "execute_result"
    }
   ],
   "source": [
    "dfuser['ratedperday'].describe()"
   ]
  },
  {
   "cell_type": "code",
   "execution_count": 76,
   "metadata": {},
   "outputs": [
    {
     "data": {
      "text/html": [
       "<div>\n",
       "<style scoped>\n",
       "    .dataframe tbody tr th:only-of-type {\n",
       "        vertical-align: middle;\n",
       "    }\n",
       "\n",
       "    .dataframe tbody tr th {\n",
       "        vertical-align: top;\n",
       "    }\n",
       "\n",
       "    .dataframe thead th {\n",
       "        text-align: right;\n",
       "    }\n",
       "</style>\n",
       "<table border=\"1\" class=\"dataframe\">\n",
       "  <thead>\n",
       "    <tr style=\"text-align: right;\">\n",
       "      <th></th>\n",
       "      <th>user_id</th>\n",
       "      <th>ratedmovies</th>\n",
       "      <th>Creation_to_update_time</th>\n",
       "      <th>comments_sum</th>\n",
       "      <th>followers_sum</th>\n",
       "      <th>list_count</th>\n",
       "      <th>movie_popularity</th>\n",
       "      <th>rating_score</th>\n",
       "      <th>critic_comments</th>\n",
       "      <th>critic_likes</th>\n",
       "      <th>movies_in_list</th>\n",
       "      <th>user_subscriber</th>\n",
       "      <th>user_trialist</th>\n",
       "      <th>directorcount</th>\n",
       "      <th>rating_time</th>\n",
       "      <th>top10count</th>\n",
       "      <th>1.0</th>\n",
       "      <th>2.0</th>\n",
       "      <th>3.0</th>\n",
       "      <th>4.0</th>\n",
       "      <th>5.0</th>\n",
       "      <th>ratedperday</th>\n",
       "    </tr>\n",
       "  </thead>\n",
       "  <tbody>\n",
       "    <tr>\n",
       "      <td>55572</td>\n",
       "      <td>12295046</td>\n",
       "      <td>19983</td>\n",
       "      <td>0.0</td>\n",
       "      <td>0.0</td>\n",
       "      <td>0.0</td>\n",
       "      <td>0.0</td>\n",
       "      <td>124.287644</td>\n",
       "      <td>1.392784</td>\n",
       "      <td>4</td>\n",
       "      <td>1</td>\n",
       "      <td>0.0</td>\n",
       "      <td>0</td>\n",
       "      <td>0</td>\n",
       "      <td>7378</td>\n",
       "      <td>1428</td>\n",
       "      <td>10.0</td>\n",
       "      <td>15609.0</td>\n",
       "      <td>2419.0</td>\n",
       "      <td>956.0</td>\n",
       "      <td>478.0</td>\n",
       "      <td>521.0</td>\n",
       "      <td>13.993697</td>\n",
       "    </tr>\n",
       "    <tr>\n",
       "      <td>11765</td>\n",
       "      <td>2591449</td>\n",
       "      <td>17053</td>\n",
       "      <td>0.0</td>\n",
       "      <td>0.0</td>\n",
       "      <td>0.0</td>\n",
       "      <td>0.0</td>\n",
       "      <td>149.021404</td>\n",
       "      <td>2.494458</td>\n",
       "      <td>3</td>\n",
       "      <td>15</td>\n",
       "      <td>0.0</td>\n",
       "      <td>0</td>\n",
       "      <td>0</td>\n",
       "      <td>5917</td>\n",
       "      <td>3087</td>\n",
       "      <td>10.0</td>\n",
       "      <td>2342.0</td>\n",
       "      <td>6472.0</td>\n",
       "      <td>6114.0</td>\n",
       "      <td>1715.0</td>\n",
       "      <td>410.0</td>\n",
       "      <td>5.524133</td>\n",
       "    </tr>\n",
       "    <tr>\n",
       "      <td>109254</td>\n",
       "      <td>24226320</td>\n",
       "      <td>11183</td>\n",
       "      <td>0.0</td>\n",
       "      <td>0.0</td>\n",
       "      <td>0.0</td>\n",
       "      <td>0.0</td>\n",
       "      <td>204.455513</td>\n",
       "      <td>3.367522</td>\n",
       "      <td>0</td>\n",
       "      <td>4</td>\n",
       "      <td>0.0</td>\n",
       "      <td>0</td>\n",
       "      <td>0</td>\n",
       "      <td>4089</td>\n",
       "      <td>886</td>\n",
       "      <td>10.0</td>\n",
       "      <td>658.0</td>\n",
       "      <td>1446.0</td>\n",
       "      <td>3610.0</td>\n",
       "      <td>4066.0</td>\n",
       "      <td>1403.0</td>\n",
       "      <td>12.621896</td>\n",
       "    </tr>\n",
       "    <tr>\n",
       "      <td>158679</td>\n",
       "      <td>35097747</td>\n",
       "      <td>11158</td>\n",
       "      <td>3448.0</td>\n",
       "      <td>23.0</td>\n",
       "      <td>52.0</td>\n",
       "      <td>2.0</td>\n",
       "      <td>182.720111</td>\n",
       "      <td>3.120721</td>\n",
       "      <td>14</td>\n",
       "      <td>89</td>\n",
       "      <td>4351620.0</td>\n",
       "      <td>0</td>\n",
       "      <td>0</td>\n",
       "      <td>4011</td>\n",
       "      <td>4187</td>\n",
       "      <td>10.0</td>\n",
       "      <td>28.0</td>\n",
       "      <td>2731.0</td>\n",
       "      <td>4270.0</td>\n",
       "      <td>4124.0</td>\n",
       "      <td>5.0</td>\n",
       "      <td>2.664915</td>\n",
       "    </tr>\n",
       "    <tr>\n",
       "      <td>415843</td>\n",
       "      <td>92027428</td>\n",
       "      <td>10544</td>\n",
       "      <td>0.0</td>\n",
       "      <td>0.0</td>\n",
       "      <td>0.0</td>\n",
       "      <td>0.0</td>\n",
       "      <td>162.272193</td>\n",
       "      <td>2.970789</td>\n",
       "      <td>26</td>\n",
       "      <td>844</td>\n",
       "      <td>0.0</td>\n",
       "      <td>1</td>\n",
       "      <td>0</td>\n",
       "      <td>3025</td>\n",
       "      <td>1403</td>\n",
       "      <td>7.0</td>\n",
       "      <td>644.0</td>\n",
       "      <td>1747.0</td>\n",
       "      <td>5791.0</td>\n",
       "      <td>1997.0</td>\n",
       "      <td>365.0</td>\n",
       "      <td>7.515324</td>\n",
       "    </tr>\n",
       "    <tr>\n",
       "      <td>416091</td>\n",
       "      <td>92084264</td>\n",
       "      <td>10497</td>\n",
       "      <td>2133.0</td>\n",
       "      <td>68.0</td>\n",
       "      <td>1632.0</td>\n",
       "      <td>57.0</td>\n",
       "      <td>218.801372</td>\n",
       "      <td>3.021720</td>\n",
       "      <td>1337</td>\n",
       "      <td>9738</td>\n",
       "      <td>152647374.0</td>\n",
       "      <td>1</td>\n",
       "      <td>1</td>\n",
       "      <td>3325</td>\n",
       "      <td>2166</td>\n",
       "      <td>10.0</td>\n",
       "      <td>2505.0</td>\n",
       "      <td>1501.0</td>\n",
       "      <td>1934.0</td>\n",
       "      <td>2375.0</td>\n",
       "      <td>2182.0</td>\n",
       "      <td>4.846260</td>\n",
       "    </tr>\n",
       "    <tr>\n",
       "      <td>147419</td>\n",
       "      <td>32621374</td>\n",
       "      <td>10363</td>\n",
       "      <td>0.0</td>\n",
       "      <td>0.0</td>\n",
       "      <td>0.0</td>\n",
       "      <td>0.0</td>\n",
       "      <td>210.854482</td>\n",
       "      <td>3.219531</td>\n",
       "      <td>0</td>\n",
       "      <td>11</td>\n",
       "      <td>0.0</td>\n",
       "      <td>0</td>\n",
       "      <td>0</td>\n",
       "      <td>5007</td>\n",
       "      <td>4034</td>\n",
       "      <td>10.0</td>\n",
       "      <td>90.0</td>\n",
       "      <td>1021.0</td>\n",
       "      <td>5907.0</td>\n",
       "      <td>3214.0</td>\n",
       "      <td>131.0</td>\n",
       "      <td>2.568914</td>\n",
       "    </tr>\n",
       "    <tr>\n",
       "      <td>278482</td>\n",
       "      <td>61596227</td>\n",
       "      <td>10342</td>\n",
       "      <td>3824.0</td>\n",
       "      <td>3438.0</td>\n",
       "      <td>46415.0</td>\n",
       "      <td>330.0</td>\n",
       "      <td>226.530748</td>\n",
       "      <td>3.313033</td>\n",
       "      <td>67</td>\n",
       "      <td>2106</td>\n",
       "      <td>359953310.0</td>\n",
       "      <td>0</td>\n",
       "      <td>0</td>\n",
       "      <td>4033</td>\n",
       "      <td>4065</td>\n",
       "      <td>10.0</td>\n",
       "      <td>369.0</td>\n",
       "      <td>1532.0</td>\n",
       "      <td>3947.0</td>\n",
       "      <td>3457.0</td>\n",
       "      <td>1023.0</td>\n",
       "      <td>2.544157</td>\n",
       "    </tr>\n",
       "    <tr>\n",
       "      <td>281467</td>\n",
       "      <td>62256786</td>\n",
       "      <td>10157</td>\n",
       "      <td>3383.0</td>\n",
       "      <td>5.0</td>\n",
       "      <td>50.0</td>\n",
       "      <td>2.0</td>\n",
       "      <td>226.179482</td>\n",
       "      <td>3.157029</td>\n",
       "      <td>57</td>\n",
       "      <td>562</td>\n",
       "      <td>1909516.0</td>\n",
       "      <td>0</td>\n",
       "      <td>0</td>\n",
       "      <td>3920</td>\n",
       "      <td>4123</td>\n",
       "      <td>10.0</td>\n",
       "      <td>1334.0</td>\n",
       "      <td>1472.0</td>\n",
       "      <td>3322.0</td>\n",
       "      <td>2312.0</td>\n",
       "      <td>1711.0</td>\n",
       "      <td>2.463497</td>\n",
       "    </tr>\n",
       "    <tr>\n",
       "      <td>106732</td>\n",
       "      <td>23662545</td>\n",
       "      <td>10135</td>\n",
       "      <td>3587.0</td>\n",
       "      <td>9.0</td>\n",
       "      <td>416.0</td>\n",
       "      <td>4.0</td>\n",
       "      <td>180.237198</td>\n",
       "      <td>2.936951</td>\n",
       "      <td>25</td>\n",
       "      <td>275</td>\n",
       "      <td>12911990.0</td>\n",
       "      <td>0</td>\n",
       "      <td>0</td>\n",
       "      <td>4883</td>\n",
       "      <td>3702</td>\n",
       "      <td>10.0</td>\n",
       "      <td>1482.0</td>\n",
       "      <td>1977.0</td>\n",
       "      <td>3019.0</td>\n",
       "      <td>3012.0</td>\n",
       "      <td>645.0</td>\n",
       "      <td>2.737709</td>\n",
       "    </tr>\n",
       "    <tr>\n",
       "      <td>402331</td>\n",
       "      <td>89014018</td>\n",
       "      <td>9781</td>\n",
       "      <td>3809.0</td>\n",
       "      <td>70.0</td>\n",
       "      <td>1282.0</td>\n",
       "      <td>7.0</td>\n",
       "      <td>210.219609</td>\n",
       "      <td>2.588386</td>\n",
       "      <td>172</td>\n",
       "      <td>143</td>\n",
       "      <td>11746981.0</td>\n",
       "      <td>1</td>\n",
       "      <td>1</td>\n",
       "      <td>4784</td>\n",
       "      <td>3995</td>\n",
       "      <td>10.0</td>\n",
       "      <td>914.0</td>\n",
       "      <td>3379.0</td>\n",
       "      <td>4468.0</td>\n",
       "      <td>859.0</td>\n",
       "      <td>161.0</td>\n",
       "      <td>2.448310</td>\n",
       "    </tr>\n",
       "    <tr>\n",
       "      <td>215891</td>\n",
       "      <td>47671509</td>\n",
       "      <td>9632</td>\n",
       "      <td>3433.0</td>\n",
       "      <td>84.0</td>\n",
       "      <td>3337.0</td>\n",
       "      <td>28.0</td>\n",
       "      <td>216.417047</td>\n",
       "      <td>3.159005</td>\n",
       "      <td>47</td>\n",
       "      <td>1189</td>\n",
       "      <td>87400768.0</td>\n",
       "      <td>0</td>\n",
       "      <td>0</td>\n",
       "      <td>4752</td>\n",
       "      <td>3421</td>\n",
       "      <td>10.0</td>\n",
       "      <td>911.0</td>\n",
       "      <td>89.0</td>\n",
       "      <td>5775.0</td>\n",
       "      <td>2161.0</td>\n",
       "      <td>636.0</td>\n",
       "      <td>2.815551</td>\n",
       "    </tr>\n",
       "    <tr>\n",
       "      <td>16262</td>\n",
       "      <td>3593588</td>\n",
       "      <td>9328</td>\n",
       "      <td>0.0</td>\n",
       "      <td>0.0</td>\n",
       "      <td>0.0</td>\n",
       "      <td>0.0</td>\n",
       "      <td>268.776372</td>\n",
       "      <td>3.103023</td>\n",
       "      <td>0</td>\n",
       "      <td>0</td>\n",
       "      <td>0.0</td>\n",
       "      <td>0</td>\n",
       "      <td>0</td>\n",
       "      <td>3469</td>\n",
       "      <td>3687</td>\n",
       "      <td>10.0</td>\n",
       "      <td>313.0</td>\n",
       "      <td>1508.0</td>\n",
       "      <td>4690.0</td>\n",
       "      <td>2539.0</td>\n",
       "      <td>278.0</td>\n",
       "      <td>2.529970</td>\n",
       "    </tr>\n",
       "    <tr>\n",
       "      <td>333034</td>\n",
       "      <td>73681431</td>\n",
       "      <td>8794</td>\n",
       "      <td>3359.0</td>\n",
       "      <td>325.0</td>\n",
       "      <td>2168.0</td>\n",
       "      <td>35.0</td>\n",
       "      <td>229.150785</td>\n",
       "      <td>2.708485</td>\n",
       "      <td>633</td>\n",
       "      <td>1047</td>\n",
       "      <td>40962452.0</td>\n",
       "      <td>1</td>\n",
       "      <td>1</td>\n",
       "      <td>3851</td>\n",
       "      <td>3703</td>\n",
       "      <td>10.0</td>\n",
       "      <td>823.0</td>\n",
       "      <td>2738.0</td>\n",
       "      <td>3771.0</td>\n",
       "      <td>1099.0</td>\n",
       "      <td>361.0</td>\n",
       "      <td>2.374831</td>\n",
       "    </tr>\n",
       "    <tr>\n",
       "      <td>49751</td>\n",
       "      <td>11017275</td>\n",
       "      <td>8643</td>\n",
       "      <td>0.0</td>\n",
       "      <td>0.0</td>\n",
       "      <td>0.0</td>\n",
       "      <td>0.0</td>\n",
       "      <td>275.380308</td>\n",
       "      <td>3.383547</td>\n",
       "      <td>0</td>\n",
       "      <td>0</td>\n",
       "      <td>0.0</td>\n",
       "      <td>1</td>\n",
       "      <td>0</td>\n",
       "      <td>3515</td>\n",
       "      <td>436</td>\n",
       "      <td>10.0</td>\n",
       "      <td>957.0</td>\n",
       "      <td>911.0</td>\n",
       "      <td>2307.0</td>\n",
       "      <td>2796.0</td>\n",
       "      <td>1672.0</td>\n",
       "      <td>19.823394</td>\n",
       "    </tr>\n",
       "    <tr>\n",
       "      <td>1144</td>\n",
       "      <td>243873</td>\n",
       "      <td>8509</td>\n",
       "      <td>3823.0</td>\n",
       "      <td>220.0</td>\n",
       "      <td>2535.0</td>\n",
       "      <td>18.0</td>\n",
       "      <td>213.696439</td>\n",
       "      <td>2.650676</td>\n",
       "      <td>38</td>\n",
       "      <td>413</td>\n",
       "      <td>74249534.0</td>\n",
       "      <td>1</td>\n",
       "      <td>1</td>\n",
       "      <td>4807</td>\n",
       "      <td>4168</td>\n",
       "      <td>10.0</td>\n",
       "      <td>1684.0</td>\n",
       "      <td>2408.0</td>\n",
       "      <td>2238.0</td>\n",
       "      <td>1545.0</td>\n",
       "      <td>630.0</td>\n",
       "      <td>2.041507</td>\n",
       "    </tr>\n",
       "    <tr>\n",
       "      <td>139471</td>\n",
       "      <td>30892708</td>\n",
       "      <td>8465</td>\n",
       "      <td>1754.0</td>\n",
       "      <td>9.0</td>\n",
       "      <td>495.0</td>\n",
       "      <td>9.0</td>\n",
       "      <td>273.487064</td>\n",
       "      <td>1.982280</td>\n",
       "      <td>377</td>\n",
       "      <td>1347</td>\n",
       "      <td>16743770.0</td>\n",
       "      <td>1</td>\n",
       "      <td>1</td>\n",
       "      <td>2843</td>\n",
       "      <td>1786</td>\n",
       "      <td>10.0</td>\n",
       "      <td>3542.0</td>\n",
       "      <td>2304.0</td>\n",
       "      <td>1946.0</td>\n",
       "      <td>573.0</td>\n",
       "      <td>100.0</td>\n",
       "      <td>4.739642</td>\n",
       "    </tr>\n",
       "    <tr>\n",
       "      <td>447956</td>\n",
       "      <td>99157213</td>\n",
       "      <td>8252</td>\n",
       "      <td>3476.0</td>\n",
       "      <td>7.0</td>\n",
       "      <td>340.0</td>\n",
       "      <td>7.0</td>\n",
       "      <td>190.599370</td>\n",
       "      <td>3.576587</td>\n",
       "      <td>0</td>\n",
       "      <td>118</td>\n",
       "      <td>21702760.0</td>\n",
       "      <td>1</td>\n",
       "      <td>0</td>\n",
       "      <td>4174</td>\n",
       "      <td>3629</td>\n",
       "      <td>10.0</td>\n",
       "      <td>278.0</td>\n",
       "      <td>809.0</td>\n",
       "      <td>2482.0</td>\n",
       "      <td>3243.0</td>\n",
       "      <td>1440.0</td>\n",
       "      <td>2.273905</td>\n",
       "    </tr>\n",
       "    <tr>\n",
       "      <td>75253</td>\n",
       "      <td>16666978</td>\n",
       "      <td>8089</td>\n",
       "      <td>0.0</td>\n",
       "      <td>0.0</td>\n",
       "      <td>0.0</td>\n",
       "      <td>0.0</td>\n",
       "      <td>242.573000</td>\n",
       "      <td>2.878971</td>\n",
       "      <td>0</td>\n",
       "      <td>1</td>\n",
       "      <td>0.0</td>\n",
       "      <td>0</td>\n",
       "      <td>0</td>\n",
       "      <td>2906</td>\n",
       "      <td>2586</td>\n",
       "      <td>10.0</td>\n",
       "      <td>445.0</td>\n",
       "      <td>1900.0</td>\n",
       "      <td>4206.0</td>\n",
       "      <td>1265.0</td>\n",
       "      <td>273.0</td>\n",
       "      <td>3.127997</td>\n",
       "    </tr>\n",
       "    <tr>\n",
       "      <td>356918</td>\n",
       "      <td>78977599</td>\n",
       "      <td>7868</td>\n",
       "      <td>2500.0</td>\n",
       "      <td>15.0</td>\n",
       "      <td>36.0</td>\n",
       "      <td>25.0</td>\n",
       "      <td>277.714667</td>\n",
       "      <td>3.201195</td>\n",
       "      <td>126</td>\n",
       "      <td>1729</td>\n",
       "      <td>4492628.0</td>\n",
       "      <td>0</td>\n",
       "      <td>0</td>\n",
       "      <td>3112</td>\n",
       "      <td>3154</td>\n",
       "      <td>10.0</td>\n",
       "      <td>1324.0</td>\n",
       "      <td>1040.0</td>\n",
       "      <td>1805.0</td>\n",
       "      <td>2127.0</td>\n",
       "      <td>1572.0</td>\n",
       "      <td>2.494610</td>\n",
       "    </tr>\n",
       "  </tbody>\n",
       "</table>\n",
       "</div>"
      ],
      "text/plain": [
       "         user_id  ratedmovies  Creation_to_update_time  comments_sum  \\\n",
       "55572   12295046        19983                      0.0           0.0   \n",
       "11765    2591449        17053                      0.0           0.0   \n",
       "109254  24226320        11183                      0.0           0.0   \n",
       "158679  35097747        11158                   3448.0          23.0   \n",
       "415843  92027428        10544                      0.0           0.0   \n",
       "416091  92084264        10497                   2133.0          68.0   \n",
       "147419  32621374        10363                      0.0           0.0   \n",
       "278482  61596227        10342                   3824.0        3438.0   \n",
       "281467  62256786        10157                   3383.0           5.0   \n",
       "106732  23662545        10135                   3587.0           9.0   \n",
       "402331  89014018         9781                   3809.0          70.0   \n",
       "215891  47671509         9632                   3433.0          84.0   \n",
       "16262    3593588         9328                      0.0           0.0   \n",
       "333034  73681431         8794                   3359.0         325.0   \n",
       "49751   11017275         8643                      0.0           0.0   \n",
       "1144      243873         8509                   3823.0         220.0   \n",
       "139471  30892708         8465                   1754.0           9.0   \n",
       "447956  99157213         8252                   3476.0           7.0   \n",
       "75253   16666978         8089                      0.0           0.0   \n",
       "356918  78977599         7868                   2500.0          15.0   \n",
       "\n",
       "        followers_sum  list_count  movie_popularity  rating_score  \\\n",
       "55572             0.0         0.0        124.287644      1.392784   \n",
       "11765             0.0         0.0        149.021404      2.494458   \n",
       "109254            0.0         0.0        204.455513      3.367522   \n",
       "158679           52.0         2.0        182.720111      3.120721   \n",
       "415843            0.0         0.0        162.272193      2.970789   \n",
       "416091         1632.0        57.0        218.801372      3.021720   \n",
       "147419            0.0         0.0        210.854482      3.219531   \n",
       "278482        46415.0       330.0        226.530748      3.313033   \n",
       "281467           50.0         2.0        226.179482      3.157029   \n",
       "106732          416.0         4.0        180.237198      2.936951   \n",
       "402331         1282.0         7.0        210.219609      2.588386   \n",
       "215891         3337.0        28.0        216.417047      3.159005   \n",
       "16262             0.0         0.0        268.776372      3.103023   \n",
       "333034         2168.0        35.0        229.150785      2.708485   \n",
       "49751             0.0         0.0        275.380308      3.383547   \n",
       "1144           2535.0        18.0        213.696439      2.650676   \n",
       "139471          495.0         9.0        273.487064      1.982280   \n",
       "447956          340.0         7.0        190.599370      3.576587   \n",
       "75253             0.0         0.0        242.573000      2.878971   \n",
       "356918           36.0        25.0        277.714667      3.201195   \n",
       "\n",
       "        critic_comments  critic_likes  movies_in_list  user_subscriber  \\\n",
       "55572                 4             1             0.0                0   \n",
       "11765                 3            15             0.0                0   \n",
       "109254                0             4             0.0                0   \n",
       "158679               14            89       4351620.0                0   \n",
       "415843               26           844             0.0                1   \n",
       "416091             1337          9738     152647374.0                1   \n",
       "147419                0            11             0.0                0   \n",
       "278482               67          2106     359953310.0                0   \n",
       "281467               57           562       1909516.0                0   \n",
       "106732               25           275      12911990.0                0   \n",
       "402331              172           143      11746981.0                1   \n",
       "215891               47          1189      87400768.0                0   \n",
       "16262                 0             0             0.0                0   \n",
       "333034              633          1047      40962452.0                1   \n",
       "49751                 0             0             0.0                1   \n",
       "1144                 38           413      74249534.0                1   \n",
       "139471              377          1347      16743770.0                1   \n",
       "447956                0           118      21702760.0                1   \n",
       "75253                 0             1             0.0                0   \n",
       "356918              126          1729       4492628.0                0   \n",
       "\n",
       "        user_trialist  directorcount  rating_time  top10count      1.0  \\\n",
       "55572               0           7378         1428        10.0  15609.0   \n",
       "11765               0           5917         3087        10.0   2342.0   \n",
       "109254              0           4089          886        10.0    658.0   \n",
       "158679              0           4011         4187        10.0     28.0   \n",
       "415843              0           3025         1403         7.0    644.0   \n",
       "416091              1           3325         2166        10.0   2505.0   \n",
       "147419              0           5007         4034        10.0     90.0   \n",
       "278482              0           4033         4065        10.0    369.0   \n",
       "281467              0           3920         4123        10.0   1334.0   \n",
       "106732              0           4883         3702        10.0   1482.0   \n",
       "402331              1           4784         3995        10.0    914.0   \n",
       "215891              0           4752         3421        10.0    911.0   \n",
       "16262               0           3469         3687        10.0    313.0   \n",
       "333034              1           3851         3703        10.0    823.0   \n",
       "49751               0           3515          436        10.0    957.0   \n",
       "1144                1           4807         4168        10.0   1684.0   \n",
       "139471              1           2843         1786        10.0   3542.0   \n",
       "447956              0           4174         3629        10.0    278.0   \n",
       "75253               0           2906         2586        10.0    445.0   \n",
       "356918              0           3112         3154        10.0   1324.0   \n",
       "\n",
       "           2.0     3.0     4.0     5.0  ratedperday  \n",
       "55572   2419.0   956.0   478.0   521.0    13.993697  \n",
       "11765   6472.0  6114.0  1715.0   410.0     5.524133  \n",
       "109254  1446.0  3610.0  4066.0  1403.0    12.621896  \n",
       "158679  2731.0  4270.0  4124.0     5.0     2.664915  \n",
       "415843  1747.0  5791.0  1997.0   365.0     7.515324  \n",
       "416091  1501.0  1934.0  2375.0  2182.0     4.846260  \n",
       "147419  1021.0  5907.0  3214.0   131.0     2.568914  \n",
       "278482  1532.0  3947.0  3457.0  1023.0     2.544157  \n",
       "281467  1472.0  3322.0  2312.0  1711.0     2.463497  \n",
       "106732  1977.0  3019.0  3012.0   645.0     2.737709  \n",
       "402331  3379.0  4468.0   859.0   161.0     2.448310  \n",
       "215891    89.0  5775.0  2161.0   636.0     2.815551  \n",
       "16262   1508.0  4690.0  2539.0   278.0     2.529970  \n",
       "333034  2738.0  3771.0  1099.0   361.0     2.374831  \n",
       "49751    911.0  2307.0  2796.0  1672.0    19.823394  \n",
       "1144    2408.0  2238.0  1545.0   630.0     2.041507  \n",
       "139471  2304.0  1946.0   573.0   100.0     4.739642  \n",
       "447956   809.0  2482.0  3243.0  1440.0     2.273905  \n",
       "75253   1900.0  4206.0  1265.0   273.0     3.127997  \n",
       "356918  1040.0  1805.0  2127.0  1572.0     2.494610  "
      ]
     },
     "execution_count": 76,
     "metadata": {},
     "output_type": "execute_result"
    }
   ],
   "source": [
    "#Who rated the most number of movies?\n",
    "dfuser1.sort_values('ratedmovies', ascending=False).head(20)"
   ]
  },
  {
   "cell_type": "markdown",
   "metadata": {},
   "source": [
    "User ID 19983 rated almost 20,000 movies but the average rating_score is 1.39\n",
    "<br>The user rated 14 movies a day on average for 1428days.\n",
    "<br>Is this user a bot or an internet troll?\n",
    "<br>This person is not even a subscriber!"
   ]
  },
  {
   "cell_type": "code",
   "execution_count": 77,
   "metadata": {},
   "outputs": [
    {
     "data": {
      "image/png": "[encoded data removed]",
      "text/plain": [
       "<Figure size 1440x720 with 1 Axes>"
      ]
     },
     "metadata": {
      "needs_background": "light"
     },
     "output_type": "display_data"
    }
   ],
   "source": [
    "#Is it possible to rate more than 5000 movies? The ones who rated a lot of movies may be a movie lover, a serious movie critic, or MUBI employee!\n",
    "plt.gcf().set_size_inches(20, 10)\n",
    "plt.hist(dfuser1['ratedmovies'], color='darkblue',bins = 140)\n",
    "plt.xlabel('RatedMovies')\n",
    "plt.ylabel('Count')\n",
    "plt.show()"
   ]
  },
  {
   "cell_type": "code",
   "execution_count": 78,
   "metadata": {},
   "outputs": [
    {
     "data": {
      "text/plain": [
       "34.354763733600144"
      ]
     },
     "execution_count": 78,
     "metadata": {},
     "output_type": "execute_result"
    }
   ],
   "source": [
    "#The mean of ratedmovies is 34. \n",
    "dfuser1['ratedmovies'].mean()"
   ]
  },
  {
   "cell_type": "markdown",
   "metadata": {},
   "source": [
    "***\n",
    "### Searching for the best model\n",
    "***"
   ]
  },
  {
   "cell_type": "markdown",
   "metadata": {},
   "source": [
    "### Logistic Regression\n",
    "#### Predicting subscribers"
   ]
  },
  {
   "cell_type": "code",
   "execution_count": 52,
   "metadata": {},
   "outputs": [],
   "source": [
    "x_vars_lr = dfuser.drop(['user_subscriber'], axis=1)\n",
    "target_lr = dfuser[['user_subscriber']]"
   ]
  },
  {
   "cell_type": "code",
   "execution_count": 53,
   "metadata": {},
   "outputs": [],
   "source": [
    "from sklearn.preprocessing import StandardScaler\n",
    "from sklearn.decomposition import PCA\n",
    "from sklearn import datasets\n",
    "from sklearn.model_selection import train_test_split\n",
    "\n",
    "features = StandardScaler().fit_transform(x_vars_lr)\n",
    "pca = PCA(n_components= 10)\n",
    "features_pca = pca.fit_transform(features)"
   ]
  },
  {
   "cell_type": "code",
   "execution_count": 54,
   "metadata": {},
   "outputs": [
    {
     "data": {
      "text/plain": [
       "0.23073517562578028"
      ]
     },
     "execution_count": 54,
     "metadata": {},
     "output_type": "execute_result"
    }
   ],
   "source": [
    "sum(dfuser['user_subscriber'])/len(dfuser['user_subscriber'])"
   ]
  },
  {
   "cell_type": "code",
   "execution_count": 55,
   "metadata": {},
   "outputs": [
    {
     "data": {
      "text/plain": [
       "Text(0, 0.5, 'cumulative explained variance')"
      ]
     },
     "execution_count": 55,
     "metadata": {},
     "output_type": "execute_result"
    },
    {
     "data": {
      "image/png": "[encoded data removed]",
      "text/plain": [
       "<Figure size 432x288 with 1 Axes>"
      ]
     },
     "metadata": {
      "needs_background": "light"
     },
     "output_type": "display_data"
    }
   ],
   "source": [
    "plt.plot(np.cumsum(pca.explained_variance_ratio_))\n",
    "plt.xlabel('number of components')\n",
    "plt.ylabel('cumulative explained variance')"
   ]
  },
  {
   "cell_type": "code",
   "execution_count": 56,
   "metadata": {},
   "outputs": [
    {
     "data": {
      "text/plain": [
       "0.91058006992899"
      ]
     },
     "execution_count": 56,
     "metadata": {},
     "output_type": "execute_result"
    }
   ],
   "source": [
    "np.sum(pca.explained_variance_ratio_)"
   ]
  },
  {
   "cell_type": "code",
   "execution_count": 57,
   "metadata": {},
   "outputs": [],
   "source": [
    "x_train, x_test, y_train, y_test = train_test_split(features_pca, \n",
    "                                                    target_lr, \n",
    "                                                    test_size=0.2, \n",
    "                                                    random_state=1)"
   ]
  },
  {
   "cell_type": "code",
   "execution_count": 58,
   "metadata": {},
   "outputs": [
    {
     "data": {
      "text/plain": [
       "0.23064492922048455"
      ]
     },
     "execution_count": 58,
     "metadata": {},
     "output_type": "execute_result"
    }
   ],
   "source": [
    "sum(y_train['user_subscriber'])/len(y_train['user_subscriber'])"
   ]
  },
  {
   "cell_type": "code",
   "execution_count": 59,
   "metadata": {},
   "outputs": [
    {
     "data": {
      "text/plain": [
       "0.23109615725163804"
      ]
     },
     "execution_count": 59,
     "metadata": {},
     "output_type": "execute_result"
    }
   ],
   "source": [
    "sum(y_test['user_subscriber'])/len(y_test['user_subscriber'])"
   ]
  },
  {
   "cell_type": "code",
   "execution_count": 60,
   "metadata": {},
   "outputs": [],
   "source": [
    "clf = LogisticRegressionCV(solver = 'saga',\n",
    "                           penalty = 'elasticnet',\n",
    "                           l1_ratios = [0.1, 0.2, 0.3],\n",
    "                           Cs = 20,\n",
    "                           n_jobs = -1,\n",
    "                           max_iter = 2000,\n",
    "                           random_state = 0,\n",
    "                           cv = 10,\n",
    "                          )"
   ]
  },
  {
   "cell_type": "code",
   "execution_count": 61,
   "metadata": {},
   "outputs": [],
   "source": [
    "clf_model = clf.fit(x_train, y_train['user_subscriber'])"
   ]
  },
  {
   "cell_type": "code",
   "execution_count": 62,
   "metadata": {},
   "outputs": [],
   "source": [
    "x_train_probs_s = clf_model.predict_proba(x_train)\n",
    "x_test_probs_s = clf_model.predict_proba(x_test)"
   ]
  },
  {
   "cell_type": "code",
   "execution_count": 63,
   "metadata": {},
   "outputs": [
    {
     "data": {
      "text/html": [
       "<div>\n",
       "<style scoped>\n",
       "    .dataframe tbody tr th:only-of-type {\n",
       "        vertical-align: middle;\n",
       "    }\n",
       "\n",
       "    .dataframe tbody tr th {\n",
       "        vertical-align: top;\n",
       "    }\n",
       "\n",
       "    .dataframe thead th {\n",
       "        text-align: right;\n",
       "    }\n",
       "</style>\n",
       "<table border=\"1\" class=\"dataframe\">\n",
       "  <thead>\n",
       "    <tr style=\"text-align: right;\">\n",
       "      <th></th>\n",
       "      <th>trainprobs0</th>\n",
       "      <th>trainprobs1</th>\n",
       "    </tr>\n",
       "  </thead>\n",
       "  <tbody>\n",
       "    <tr>\n",
       "      <td>0</td>\n",
       "      <td>0.793819</td>\n",
       "      <td>0.206181</td>\n",
       "    </tr>\n",
       "    <tr>\n",
       "      <td>1</td>\n",
       "      <td>0.817048</td>\n",
       "      <td>0.182952</td>\n",
       "    </tr>\n",
       "    <tr>\n",
       "      <td>2</td>\n",
       "      <td>0.903133</td>\n",
       "      <td>0.096867</td>\n",
       "    </tr>\n",
       "    <tr>\n",
       "      <td>3</td>\n",
       "      <td>0.761435</td>\n",
       "      <td>0.238565</td>\n",
       "    </tr>\n",
       "    <tr>\n",
       "      <td>4</td>\n",
       "      <td>0.782836</td>\n",
       "      <td>0.217164</td>\n",
       "    </tr>\n",
       "  </tbody>\n",
       "</table>\n",
       "</div>"
      ],
      "text/plain": [
       "   trainprobs0  trainprobs1\n",
       "0     0.793819     0.206181\n",
       "1     0.817048     0.182952\n",
       "2     0.903133     0.096867\n",
       "3     0.761435     0.238565\n",
       "4     0.782836     0.217164"
      ]
     },
     "execution_count": 63,
     "metadata": {},
     "output_type": "execute_result"
    }
   ],
   "source": [
    "#Train probabilities\n",
    "x_train_probs_df = pd.DataFrame(x_train_probs_s)\n",
    "x_train_probs_df.columns = ['trainprobs' + str(col) for col in x_train_probs_df.columns]\n",
    "x_train_probs_df.head()"
   ]
  },
  {
   "cell_type": "code",
   "execution_count": 64,
   "metadata": {},
   "outputs": [
    {
     "data": {
      "text/html": [
       "<div>\n",
       "<style scoped>\n",
       "    .dataframe tbody tr th:only-of-type {\n",
       "        vertical-align: middle;\n",
       "    }\n",
       "\n",
       "    .dataframe tbody tr th {\n",
       "        vertical-align: top;\n",
       "    }\n",
       "\n",
       "    .dataframe thead th {\n",
       "        text-align: right;\n",
       "    }\n",
       "</style>\n",
       "<table border=\"1\" class=\"dataframe\">\n",
       "  <thead>\n",
       "    <tr style=\"text-align: right;\">\n",
       "      <th></th>\n",
       "      <th>testprobs0</th>\n",
       "      <th>testprobs1</th>\n",
       "    </tr>\n",
       "  </thead>\n",
       "  <tbody>\n",
       "    <tr>\n",
       "      <td>0</td>\n",
       "      <td>0.090610</td>\n",
       "      <td>0.909390</td>\n",
       "    </tr>\n",
       "    <tr>\n",
       "      <td>1</td>\n",
       "      <td>0.959237</td>\n",
       "      <td>0.040763</td>\n",
       "    </tr>\n",
       "    <tr>\n",
       "      <td>2</td>\n",
       "      <td>0.941376</td>\n",
       "      <td>0.058624</td>\n",
       "    </tr>\n",
       "    <tr>\n",
       "      <td>3</td>\n",
       "      <td>0.762415</td>\n",
       "      <td>0.237585</td>\n",
       "    </tr>\n",
       "    <tr>\n",
       "      <td>4</td>\n",
       "      <td>0.762344</td>\n",
       "      <td>0.237656</td>\n",
       "    </tr>\n",
       "  </tbody>\n",
       "</table>\n",
       "</div>"
      ],
      "text/plain": [
       "   testprobs0  testprobs1\n",
       "0    0.090610    0.909390\n",
       "1    0.959237    0.040763\n",
       "2    0.941376    0.058624\n",
       "3    0.762415    0.237585\n",
       "4    0.762344    0.237656"
      ]
     },
     "execution_count": 64,
     "metadata": {},
     "output_type": "execute_result"
    }
   ],
   "source": [
    "#Test probabilities\n",
    "x_test_probs_df = pd.DataFrame(x_test_probs_s)\n",
    "x_test_probs_df.columns = ['testprobs' + str(col) for col in x_test_probs_df.columns]\n",
    "x_test_probs_df.head()"
   ]
  },
  {
   "cell_type": "code",
   "execution_count": 65,
   "metadata": {},
   "outputs": [
    {
     "data": {
      "text/plain": [
       "0.7790361385669031"
      ]
     },
     "execution_count": 65,
     "metadata": {},
     "output_type": "execute_result"
    }
   ],
   "source": [
    "fpr, tpr, thresholds = metrics.roc_curve(y_train['user_subscriber'], x_train_probs_df['trainprobs1'])\n",
    "metrics.auc(fpr, tpr)"
   ]
  },
  {
   "cell_type": "code",
   "execution_count": 66,
   "metadata": {},
   "outputs": [
    {
     "data": {
      "text/plain": [
       "0.7780118779902616"
      ]
     },
     "execution_count": 66,
     "metadata": {},
     "output_type": "execute_result"
    }
   ],
   "source": [
    "fpr, tpr, thresholds = metrics.roc_curve(y_test['user_subscriber'], x_test_probs_df['testprobs1'])\n",
    "metrics.auc(fpr, tpr)"
   ]
  },
  {
   "cell_type": "code",
   "execution_count": 67,
   "metadata": {},
   "outputs": [
    {
     "data": {
      "image/png": "[encoded data removed]",
      "text/plain": [
       "<Figure size 720x720 with 1 Axes>"
      ]
     },
     "metadata": {},
     "output_type": "display_data"
    }
   ],
   "source": [
    "from mpl_toolkits.mplot3d import Axes3D\n",
    "from sklearn.metrics import confusion_matrix, roc_curve, roc_auc_score\n",
    "\n",
    "%matplotlib inline\n",
    "sns.set(style='white', rc={'figure.figsize':(10,10)})\n",
    "\n",
    "plt.plot(roc_curve(y_train['user_subscriber'], x_train_probs_df['trainprobs1'])[0], roc_curve(y_train['user_subscriber'], x_train_probs_df['trainprobs1'])[1], \n",
    "         color = 'blue', label='Train ROC Curve (area = %0.2f)' % roc_auc_score(y_train['user_subscriber'], x_train_probs_df['trainprobs1']))\n",
    "\n",
    "plt.plot(roc_curve(y_test['user_subscriber'], x_test_probs_df['testprobs1'])[0],roc_curve(y_test['user_subscriber'], x_test_probs_df['testprobs1'])[1], \n",
    "         color = 'red', label='Test ROC Curve (area = %0.2f)' % roc_auc_score(y_test['user_subscriber'], x_test_probs_df['testprobs1']))\n",
    "\n",
    "plt.plot([0, 1], [0, 1], color='black', linestyle='--')\n",
    "plt.xlim([0.0, 1.0])\n",
    "plt.ylim([0.0, 1.])\n",
    "plt.xlabel('False Positive Rate')\n",
    "plt.ylabel('True Positive Rate')\n",
    "plt.title('MUBI Subscriber ROC')\n",
    "plt.legend()\n",
    "plt.show()"
   ]
  },
  {
   "cell_type": "markdown",
   "metadata": {},
   "source": [
    "### Logistic Regression\n",
    "#### Predicting trialists"
   ]
  },
  {
   "cell_type": "code",
   "execution_count": 68,
   "metadata": {},
   "outputs": [],
   "source": [
    "x_vars_lr_2 = dfuser.drop(['user_subscriber', 'user_trialist'], axis=1)\n",
    "target_lr_2 = dfuser[['user_trialist']]"
   ]
  },
  {
   "cell_type": "code",
   "execution_count": 69,
   "metadata": {},
   "outputs": [],
   "source": [
    "features = StandardScaler().fit_transform(x_vars_lr_2)\n",
    "pca = PCA(n_components= 10)\n",
    "features_pca = pca.fit_transform(features)"
   ]
  },
  {
   "cell_type": "code",
   "execution_count": 70,
   "metadata": {},
   "outputs": [
    {
     "data": {
      "text/plain": [
       "0.08096184666058669"
      ]
     },
     "execution_count": 70,
     "metadata": {},
     "output_type": "execute_result"
    }
   ],
   "source": [
    "sum(dfuser['user_trialist'])/len(dfuser['user_trialist'])"
   ]
  },
  {
   "cell_type": "code",
   "execution_count": 71,
   "metadata": {},
   "outputs": [
    {
     "data": {
      "text/plain": [
       "Text(0, 0.5, 'cumulative explained variance')"
      ]
     },
     "execution_count": 71,
     "metadata": {},
     "output_type": "execute_result"
    },
    {
     "data": {
      "image/png": "[encoded data removed]",
      "text/plain": [
       "<Figure size 720x720 with 1 Axes>"
      ]
     },
     "metadata": {},
     "output_type": "display_data"
    }
   ],
   "source": [
    "plt.plot(np.cumsum(pca.explained_variance_ratio_))\n",
    "plt.xlabel('number of components')\n",
    "plt.ylabel('cumulative explained variance')"
   ]
  },
  {
   "cell_type": "code",
   "execution_count": 72,
   "metadata": {},
   "outputs": [
    {
     "data": {
      "text/plain": [
       "0.9325202129087038"
      ]
     },
     "execution_count": 72,
     "metadata": {},
     "output_type": "execute_result"
    }
   ],
   "source": [
    "np.sum(pca.explained_variance_ratio_)"
   ]
  },
  {
   "cell_type": "code",
   "execution_count": 73,
   "metadata": {},
   "outputs": [],
   "source": [
    "x_train, x_test, y_train, y_test = train_test_split(features_pca, \n",
    "                                                    target_lr_2, \n",
    "                                                    test_size=0.2, \n",
    "                                                    random_state=1)"
   ]
  },
  {
   "cell_type": "code",
   "execution_count": 74,
   "metadata": {},
   "outputs": [
    {
     "data": {
      "text/plain": [
       "0.08104503547276731"
      ]
     },
     "execution_count": 74,
     "metadata": {},
     "output_type": "execute_result"
    }
   ],
   "source": [
    "sum(y_train['user_trialist'])/len(y_train['user_trialist'])"
   ]
  },
  {
   "cell_type": "code",
   "execution_count": 75,
   "metadata": {},
   "outputs": [
    {
     "data": {
      "text/plain": [
       "0.08062909509474057"
      ]
     },
     "execution_count": 75,
     "metadata": {},
     "output_type": "execute_result"
    }
   ],
   "source": [
    "sum(y_test['user_trialist'])/len(y_test['user_trialist'])"
   ]
  },
  {
   "cell_type": "code",
   "execution_count": 76,
   "metadata": {},
   "outputs": [],
   "source": [
    "clf = LogisticRegressionCV(solver = 'saga',\n",
    "                           penalty = 'elasticnet',\n",
    "                           l1_ratios = [0.1, 0.2, 0.3],\n",
    "                           Cs = 20,\n",
    "                           n_jobs = -1,\n",
    "                           max_iter = 1000,\n",
    "                           random_state = 0,\n",
    "                           cv = 10,\n",
    "                          )"
   ]
  },
  {
   "cell_type": "code",
   "execution_count": 77,
   "metadata": {},
   "outputs": [],
   "source": [
    "clf_model = clf.fit(x_train, y_train['user_trialist'])"
   ]
  },
  {
   "cell_type": "code",
   "execution_count": 78,
   "metadata": {},
   "outputs": [],
   "source": [
    "x_train_probs_s = clf_model.predict_proba(x_train)\n",
    "x_test_probs_s = clf_model.predict_proba(x_test)"
   ]
  },
  {
   "cell_type": "code",
   "execution_count": 79,
   "metadata": {},
   "outputs": [
    {
     "data": {
      "text/html": [
       "<div>\n",
       "<style scoped>\n",
       "    .dataframe tbody tr th:only-of-type {\n",
       "        vertical-align: middle;\n",
       "    }\n",
       "\n",
       "    .dataframe tbody tr th {\n",
       "        vertical-align: top;\n",
       "    }\n",
       "\n",
       "    .dataframe thead th {\n",
       "        text-align: right;\n",
       "    }\n",
       "</style>\n",
       "<table border=\"1\" class=\"dataframe\">\n",
       "  <thead>\n",
       "    <tr style=\"text-align: right;\">\n",
       "      <th></th>\n",
       "      <th>trainprobs0</th>\n",
       "      <th>trainprobs1</th>\n",
       "    </tr>\n",
       "  </thead>\n",
       "  <tbody>\n",
       "    <tr>\n",
       "      <td>0</td>\n",
       "      <td>0.902024</td>\n",
       "      <td>0.097976</td>\n",
       "    </tr>\n",
       "    <tr>\n",
       "      <td>1</td>\n",
       "      <td>0.933069</td>\n",
       "      <td>0.066931</td>\n",
       "    </tr>\n",
       "    <tr>\n",
       "      <td>2</td>\n",
       "      <td>0.955913</td>\n",
       "      <td>0.044087</td>\n",
       "    </tr>\n",
       "    <tr>\n",
       "      <td>3</td>\n",
       "      <td>0.885062</td>\n",
       "      <td>0.114938</td>\n",
       "    </tr>\n",
       "    <tr>\n",
       "      <td>4</td>\n",
       "      <td>0.897273</td>\n",
       "      <td>0.102727</td>\n",
       "    </tr>\n",
       "  </tbody>\n",
       "</table>\n",
       "</div>"
      ],
      "text/plain": [
       "   trainprobs0  trainprobs1\n",
       "0     0.902024     0.097976\n",
       "1     0.933069     0.066931\n",
       "2     0.955913     0.044087\n",
       "3     0.885062     0.114938\n",
       "4     0.897273     0.102727"
      ]
     },
     "execution_count": 79,
     "metadata": {},
     "output_type": "execute_result"
    }
   ],
   "source": [
    "#Train probabilities\n",
    "x_train_probs_df = pd.DataFrame(x_train_probs_s)\n",
    "x_train_probs_df.columns = ['trainprobs' + str(col) for col in x_train_probs_df.columns]\n",
    "x_train_probs_df.head()"
   ]
  },
  {
   "cell_type": "code",
   "execution_count": 80,
   "metadata": {},
   "outputs": [
    {
     "data": {
      "text/html": [
       "<div>\n",
       "<style scoped>\n",
       "    .dataframe tbody tr th:only-of-type {\n",
       "        vertical-align: middle;\n",
       "    }\n",
       "\n",
       "    .dataframe tbody tr th {\n",
       "        vertical-align: top;\n",
       "    }\n",
       "\n",
       "    .dataframe thead th {\n",
       "        text-align: right;\n",
       "    }\n",
       "</style>\n",
       "<table border=\"1\" class=\"dataframe\">\n",
       "  <thead>\n",
       "    <tr style=\"text-align: right;\">\n",
       "      <th></th>\n",
       "      <th>testprobs0</th>\n",
       "      <th>testprobs1</th>\n",
       "    </tr>\n",
       "  </thead>\n",
       "  <tbody>\n",
       "    <tr>\n",
       "      <td>0</td>\n",
       "      <td>0.900467</td>\n",
       "      <td>0.099533</td>\n",
       "    </tr>\n",
       "    <tr>\n",
       "      <td>1</td>\n",
       "      <td>0.981289</td>\n",
       "      <td>0.018711</td>\n",
       "    </tr>\n",
       "    <tr>\n",
       "      <td>2</td>\n",
       "      <td>0.973705</td>\n",
       "      <td>0.026295</td>\n",
       "    </tr>\n",
       "    <tr>\n",
       "      <td>3</td>\n",
       "      <td>0.885584</td>\n",
       "      <td>0.114416</td>\n",
       "    </tr>\n",
       "    <tr>\n",
       "      <td>4</td>\n",
       "      <td>0.885689</td>\n",
       "      <td>0.114311</td>\n",
       "    </tr>\n",
       "  </tbody>\n",
       "</table>\n",
       "</div>"
      ],
      "text/plain": [
       "   testprobs0  testprobs1\n",
       "0    0.900467    0.099533\n",
       "1    0.981289    0.018711\n",
       "2    0.973705    0.026295\n",
       "3    0.885584    0.114416\n",
       "4    0.885689    0.114311"
      ]
     },
     "execution_count": 80,
     "metadata": {},
     "output_type": "execute_result"
    }
   ],
   "source": [
    "#Test probabilities\n",
    "x_test_probs_df = pd.DataFrame(x_test_probs_s)\n",
    "x_test_probs_df.columns = ['testprobs' + str(col) for col in x_test_probs_df.columns]\n",
    "x_test_probs_df.head()"
   ]
  },
  {
   "cell_type": "code",
   "execution_count": 81,
   "metadata": {},
   "outputs": [
    {
     "data": {
      "text/plain": [
       "0.6371817096525981"
      ]
     },
     "execution_count": 81,
     "metadata": {},
     "output_type": "execute_result"
    }
   ],
   "source": [
    "fpr, tpr, thresholds = metrics.roc_curve(y_train['user_trialist'], x_train_probs_df['trainprobs1'])\n",
    "metrics.auc(fpr, tpr)"
   ]
  },
  {
   "cell_type": "code",
   "execution_count": 82,
   "metadata": {},
   "outputs": [
    {
     "data": {
      "text/plain": [
       "0.6369653346205661"
      ]
     },
     "execution_count": 82,
     "metadata": {},
     "output_type": "execute_result"
    }
   ],
   "source": [
    "fpr, tpr, thresholds = metrics.roc_curve(y_test['user_trialist'], x_test_probs_df['testprobs1'])\n",
    "metrics.auc(fpr, tpr)"
   ]
  },
  {
   "cell_type": "code",
   "execution_count": 83,
   "metadata": {},
   "outputs": [
    {
     "data": {
      "image/png": "[encoded data removed]",
      "text/plain": [
       "<Figure size 720x720 with 1 Axes>"
      ]
     },
     "metadata": {},
     "output_type": "display_data"
    }
   ],
   "source": [
    "from mpl_toolkits.mplot3d import Axes3D\n",
    "from sklearn.metrics import confusion_matrix, roc_curve, roc_auc_score\n",
    "\n",
    "%matplotlib inline\n",
    "sns.set(style='white', rc={'figure.figsize':(10,10)})\n",
    "\n",
    "plt.plot(roc_curve(y_train['user_trialist'], x_train_probs_df['trainprobs1'])[0], roc_curve(y_train['user_trialist'], x_train_probs_df['trainprobs1'])[1], \n",
    "         color = 'blue', label='Train ROC Curve (area = %0.2f)' % roc_auc_score(y_train['user_trialist'], x_train_probs_df['trainprobs1']))\n",
    "\n",
    "plt.plot(roc_curve(y_test['user_trialist'], x_test_probs_df['testprobs1'])[0],roc_curve(y_test['user_trialist'], x_test_probs_df['testprobs1'])[1], \n",
    "         color = 'red', label='Test ROC Curve (area = %0.2f)' % roc_auc_score(y_test['user_trialist'], x_test_probs_df['testprobs1']))\n",
    "\n",
    "plt.plot([0, 1], [0, 1], color='black', linestyle='--')\n",
    "plt.xlim([0.0, 1.0])\n",
    "plt.ylim([0.0, 1.])\n",
    "plt.xlabel('False Positive Rate')\n",
    "plt.ylabel('True Positive Rate')\n",
    "plt.title('MUBI Trialist ROC')\n",
    "plt.legend()\n",
    "plt.show()"
   ]
  },
  {
   "cell_type": "markdown",
   "metadata": {},
   "source": [
    "### Random Forest\n",
    "#### Predicting subscribers"
   ]
  },
  {
   "cell_type": "code",
   "execution_count": 84,
   "metadata": {},
   "outputs": [],
   "source": [
    "from sklearn.ensemble import RandomForestClassifier\n",
    "\n",
    "\n",
    "x_vars_rf = dfuser.drop(['user_subscriber'], axis=1)\n",
    "target_rf = dfuser[['user_subscriber']]"
   ]
  },
  {
   "cell_type": "code",
   "execution_count": 85,
   "metadata": {},
   "outputs": [],
   "source": [
    "x_train, x_test, y_train, y_test = train_test_split(x_vars_rf, \n",
    "                                                    target_rf['user_subscriber'], \n",
    "                                                    test_size=0.2, \n",
    "                                                    random_state=1)"
   ]
  },
  {
   "cell_type": "code",
   "execution_count": 86,
   "metadata": {},
   "outputs": [],
   "source": [
    "rf_clf = RandomForestClassifier(random_state = 0, n_jobs = -1)"
   ]
  },
  {
   "cell_type": "code",
   "execution_count": 88,
   "metadata": {},
   "outputs": [
    {
     "name": "stderr",
     "output_type": "stream",
     "text": [
      "/opt/anaconda3/lib/python3.7/site-packages/sklearn/model_selection/_split.py:1978: FutureWarning: The default value of cv will change from 3 to 5 in version 0.22. Specify it explicitly to silence this warning.\n",
      "  warnings.warn(CV_WARNING, FutureWarning)\n"
     ]
    }
   ],
   "source": [
    "from sklearn.model_selection import GridSearchCV\n",
    "random_params = {'criterion': ['gini', 'entropy'],\n",
    "                 'max_features': [5,10,'auto'],\n",
    "                 'max_depth': [5,10,None],\n",
    "                 'min_samples_leaf': [1,2,4,8],\n",
    "                 'min_samples_split': [2,5,10],\n",
    "                 'min_impurity_decrease': [0.001, 0.01, 0.05, 0.1],\n",
    "                 'n_estimators': [5,10,20]}\n",
    "\n",
    "rf_clf2 = GridSearchCV(estimator=rf_clf, param_grid=random_params)\n",
    "rf_clf_model = rf_clf2.fit(x_train, y_train)"
   ]
  },
  {
   "cell_type": "code",
   "execution_count": 89,
   "metadata": {},
   "outputs": [],
   "source": [
    "rf_train_probs = rf_clf_model.predict_proba(x_train)\n",
    "rf_test_probs = rf_clf_model.predict_proba(x_test)"
   ]
  },
  {
   "cell_type": "code",
   "execution_count": 90,
   "metadata": {},
   "outputs": [],
   "source": [
    "rf_train_prob_cols = ['class', 'proba']"
   ]
  },
  {
   "cell_type": "code",
   "execution_count": 91,
   "metadata": {},
   "outputs": [],
   "source": [
    "rf_preds_train = pd.DataFrame(rf_train_probs, columns=rf_train_prob_cols)\n",
    "rf_preds_test = pd.DataFrame(rf_test_probs, columns=rf_train_prob_cols)"
   ]
  },
  {
   "cell_type": "code",
   "execution_count": 92,
   "metadata": {},
   "outputs": [
    {
     "data": {
      "text/plain": [
       "0.8756750199493556"
      ]
     },
     "execution_count": 92,
     "metadata": {},
     "output_type": "execute_result"
    }
   ],
   "source": [
    "from sklearn import metrics\n",
    "fpr, tpr, thresholds = metrics.roc_curve(y_train, rf_preds_train['proba'])\n",
    "metrics.auc(fpr, tpr)"
   ]
  },
  {
   "cell_type": "code",
   "execution_count": 93,
   "metadata": {},
   "outputs": [
    {
     "data": {
      "text/plain": [
       "0.8725002860244365"
      ]
     },
     "execution_count": 93,
     "metadata": {},
     "output_type": "execute_result"
    }
   ],
   "source": [
    "fpr, tpr, thresholds = metrics.roc_curve(y_test, rf_preds_test['proba'])\n",
    "metrics.auc(fpr, tpr)"
   ]
  },
  {
   "cell_type": "markdown",
   "metadata": {},
   "source": [
    "### Random Forest\n",
    "#### Predicting trialists"
   ]
  },
  {
   "cell_type": "code",
   "execution_count": 94,
   "metadata": {},
   "outputs": [],
   "source": [
    "x_vars_rf_2 = dfuser.drop(['user_subscriber','user_trialist'], axis=1)\n",
    "target_rf_2 = dfuser[['user_trialist']]"
   ]
  },
  {
   "cell_type": "code",
   "execution_count": 95,
   "metadata": {},
   "outputs": [],
   "source": [
    "x_train, x_test, y_train, y_test = train_test_split(x_vars_rf_2, \n",
    "                                                    target_rf_2['user_trialist'], \n",
    "                                                    test_size=0.2, \n",
    "                                                    random_state=1)"
   ]
  },
  {
   "cell_type": "code",
   "execution_count": 96,
   "metadata": {},
   "outputs": [
    {
     "name": "stderr",
     "output_type": "stream",
     "text": [
      "/opt/anaconda3/lib/python3.7/site-packages/sklearn/model_selection/_split.py:1978: FutureWarning: The default value of cv will change from 3 to 5 in version 0.22. Specify it explicitly to silence this warning.\n",
      "  warnings.warn(CV_WARNING, FutureWarning)\n"
     ]
    }
   ],
   "source": [
    "from sklearn.model_selection import GridSearchCV\n",
    "random_params = {'criterion': ['gini', 'entropy'],\n",
    "                 'max_features': [5,10,'auto'],\n",
    "                 'max_depth': [5,10,None],\n",
    "                 'min_samples_leaf': [1,2,4,8],\n",
    "                 'min_samples_split': [2,5,10],\n",
    "                 'min_impurity_decrease': [0.001, 0.01, 0.05, 0.1],\n",
    "                 'n_estimators': [5,10,20]}\n",
    "\n",
    "rf_clf2 = GridSearchCV(estimator=rf_clf, param_grid=random_params)\n",
    "rf_clf_model = rf_clf2.fit(x_train, y_train)"
   ]
  },
  {
   "cell_type": "code",
   "execution_count": 97,
   "metadata": {},
   "outputs": [],
   "source": [
    "rf_train_probs = rf_clf_model.predict_proba(x_train)\n",
    "rf_test_probs = rf_clf_model.predict_proba(x_test)"
   ]
  },
  {
   "cell_type": "code",
   "execution_count": 98,
   "metadata": {},
   "outputs": [],
   "source": [
    "rf_train_prob_cols = ['class', 'proba']"
   ]
  },
  {
   "cell_type": "code",
   "execution_count": 99,
   "metadata": {},
   "outputs": [],
   "source": [
    "rf_preds_train = pd.DataFrame(rf_train_probs, columns=rf_train_prob_cols)\n",
    "rf_preds_test = pd.DataFrame(rf_test_probs, columns=rf_train_prob_cols)"
   ]
  },
  {
   "cell_type": "code",
   "execution_count": 100,
   "metadata": {},
   "outputs": [
    {
     "data": {
      "text/plain": [
       "0.682806204584249"
      ]
     },
     "execution_count": 100,
     "metadata": {},
     "output_type": "execute_result"
    }
   ],
   "source": [
    "fpr, tpr, thresholds = metrics.roc_curve(y_train, rf_preds_train['proba'])\n",
    "metrics.auc(fpr, tpr)"
   ]
  },
  {
   "cell_type": "code",
   "execution_count": 101,
   "metadata": {},
   "outputs": [
    {
     "data": {
      "text/plain": [
       "0.6803598122523401"
      ]
     },
     "execution_count": 101,
     "metadata": {},
     "output_type": "execute_result"
    }
   ],
   "source": [
    "fpr, tpr, thresholds = metrics.roc_curve(y_test, rf_preds_test['proba'])\n",
    "metrics.auc(fpr, tpr)"
   ]
  },
  {
   "cell_type": "markdown",
   "metadata": {},
   "source": [
    "### XGBoost\n",
    "#### Predicting subscribers"
   ]
  },
  {
   "cell_type": "code",
   "execution_count": 102,
   "metadata": {},
   "outputs": [],
   "source": [
    "import xgboost as xgb\n",
    "from sklearn.metrics import confusion_matrix, roc_curve, roc_auc_score\n",
    "\n",
    "xg_vars = dfuser.drop(['user_subscriber'], axis=1)\n",
    "xg_target = dfuser[['user_subscriber']]"
   ]
  },
  {
   "cell_type": "code",
   "execution_count": 103,
   "metadata": {},
   "outputs": [],
   "source": [
    "x_train, x_test, y_train, y_test = train_test_split(xg_vars, \n",
    "                                                    xg_target['user_subscriber'], \n",
    "                                                    test_size=0.2, \n",
    "                                                    random_state=1)\n",
    "\n",
    "x_train, x_val, y_train, y_val = train_test_split(x_train, y_train, test_size = 0.2, random_state = 1)"
   ]
  },
  {
   "cell_type": "code",
   "execution_count": 104,
   "metadata": {},
   "outputs": [],
   "source": [
    "dtrain = xgb.DMatrix(data = x_train, label = y_train)\n",
    "dval = xgb.DMatrix(data = x_val, label = y_val)\n",
    "dtest = xgb.DMatrix(data = x_test, label = y_test)"
   ]
  },
  {
   "cell_type": "code",
   "execution_count": 105,
   "metadata": {},
   "outputs": [],
   "source": [
    "import hyperopt as hp\n",
    "from hyperopt import Trials,fmin,STATUS_OK"
   ]
  },
  {
   "cell_type": "code",
   "execution_count": 106,
   "metadata": {},
   "outputs": [],
   "source": [
    "xgb_space = {\n",
    "    'booster': hp.hp.choice('booster',  ['gbtree']),\n",
    "    'eta': hp.hp.loguniform('learning_rate', -4, 0),\n",
    "    'max_depth':hp.hp.choice('max_depth', np.arange(10, 300,1, dtype=int)),\n",
    "    'subsample':hp.hp.quniform('subsample',0.5,1.0,0.05),\n",
    "    'colsample_bytree':hp.hp.quniform('colsample_bytree',0.5,1.0,0.05),\n",
    "    'min_child_weight':hp.hp.quniform('min_child_weight', 100, 1000,100),\n",
    "    'lambda': hp.hp.uniform('lambda', 0.0, 100.0),\n",
    "    'alpha': hp.hp.uniform('alpha', 0.0, 100.0),\n",
    "    'gamma' : hp.hp.uniform('gamma', 0.0, 100.0),\n",
    "    'scale_pos_weight': hp.hp.uniform('scale_pos_weight', 1.0, 10.0),\n",
    "    'eval_metric' : hp.hp.choice('eval_metric', ['auc'])\n",
    "    }"
   ]
  },
  {
   "cell_type": "code",
   "execution_count": 107,
   "metadata": {},
   "outputs": [
    {
     "name": "stdout",
     "output_type": "stream",
     "text": [
      "100%|██████████| 100/100 [47:30<00:00, 28.51s/trial, best loss: 0.10022860000000011]\n"
     ]
    }
   ],
   "source": [
    "def objective_m(params, n_folds=5):\n",
    "\n",
    "\n",
    "    model = xgb.cv(params = params,\n",
    "              dtrain = dtrain,\n",
    "              num_boost_round = 10,\n",
    "              early_stopping_rounds = 10,\n",
    "             nfold = n_folds)\n",
    "    \n",
    "    loss = 1 - max(model['test-auc-mean'])\n",
    "    \n",
    "    return loss\n",
    "\n",
    "\n",
    "trials = Trials()\n",
    "MAX_EVALS = 100\n",
    "xgb_best_m = fmin(fn = objective_m, space = xgb_space, algo = hp.tpe.suggest, \n",
    "max_evals = MAX_EVALS, trials = trials)"
   ]
  },
  {
   "cell_type": "code",
   "execution_count": 108,
   "metadata": {},
   "outputs": [
    {
     "data": {
      "text/plain": [
       "{'alpha': 9.73403259447976,\n",
       " 'booster': 0,\n",
       " 'colsample_bytree': 0.9500000000000001,\n",
       " 'eval_metric': 0,\n",
       " 'gamma': 3.0053741455927394,\n",
       " 'lambda': 5.008395799239111,\n",
       " 'learning_rate': 0.22504776777886853,\n",
       " 'max_depth': 249,\n",
       " 'min_child_weight': 100.0,\n",
       " 'scale_pos_weight': 6.95092572847277,\n",
       " 'subsample': 0.75}"
      ]
     },
     "execution_count": 108,
     "metadata": {},
     "output_type": "execute_result"
    }
   ],
   "source": [
    "xgb_best_m"
   ]
  },
  {
   "cell_type": "code",
   "execution_count": 109,
   "metadata": {
    "scrolled": true
   },
   "outputs": [
    {
     "name": "stdout",
     "output_type": "stream",
     "text": [
      "[08:58:59] WARNING: /Users/travis/build/dmlc/xgboost/src/learner.cc:516: \n",
      "Parameters: { n_thread, verbose } might not be used.\n",
      "\n",
      "  This may not be accurate due to some parameters are only used in language bindings but\n",
      "  passed down to XGBoost core.  Or some parameters are not used but slip through this\n",
      "  verification. Please open an issue if you find above cases.\n",
      "\n",
      "\n",
      "[0]\ttrain-auc:0.89910\teval-auc:0.89434\n",
      "Multiple eval metrics have been passed: 'eval-auc' will be used for early stopping.\n",
      "\n",
      "Will train until eval-auc hasn't improved in 10 rounds.\n",
      "[1]\ttrain-auc:0.89719\teval-auc:0.89297\n",
      "[2]\ttrain-auc:0.90193\teval-auc:0.89741\n",
      "[3]\ttrain-auc:0.90410\teval-auc:0.89931\n",
      "[4]\ttrain-auc:0.90561\teval-auc:0.90013\n",
      "[5]\ttrain-auc:0.90652\teval-auc:0.90075\n",
      "[6]\ttrain-auc:0.90717\teval-auc:0.90111\n",
      "[7]\ttrain-auc:0.90730\teval-auc:0.90103\n",
      "[8]\ttrain-auc:0.90795\teval-auc:0.90121\n",
      "[9]\ttrain-auc:0.90843\teval-auc:0.90145\n",
      "[10]\ttrain-auc:0.90906\teval-auc:0.90158\n",
      "[11]\ttrain-auc:0.90948\teval-auc:0.90167\n",
      "[12]\ttrain-auc:0.91003\teval-auc:0.90186\n",
      "[13]\ttrain-auc:0.91060\teval-auc:0.90208\n",
      "[14]\ttrain-auc:0.91101\teval-auc:0.90210\n",
      "[15]\ttrain-auc:0.91127\teval-auc:0.90215\n",
      "[16]\ttrain-auc:0.91159\teval-auc:0.90224\n",
      "[17]\ttrain-auc:0.91176\teval-auc:0.90228\n",
      "[18]\ttrain-auc:0.91192\teval-auc:0.90228\n",
      "[19]\ttrain-auc:0.91215\teval-auc:0.90227\n",
      "[20]\ttrain-auc:0.91224\teval-auc:0.90229\n",
      "[21]\ttrain-auc:0.91257\teval-auc:0.90230\n",
      "[22]\ttrain-auc:0.91269\teval-auc:0.90234\n",
      "[23]\ttrain-auc:0.91287\teval-auc:0.90233\n",
      "[24]\ttrain-auc:0.91296\teval-auc:0.90231\n",
      "[25]\ttrain-auc:0.91318\teval-auc:0.90227\n",
      "[26]\ttrain-auc:0.91346\teval-auc:0.90231\n",
      "[27]\ttrain-auc:0.91367\teval-auc:0.90235\n",
      "[28]\ttrain-auc:0.91383\teval-auc:0.90234\n",
      "[29]\ttrain-auc:0.91396\teval-auc:0.90234\n",
      "[30]\ttrain-auc:0.91404\teval-auc:0.90233\n",
      "[31]\ttrain-auc:0.91414\teval-auc:0.90234\n",
      "[32]\ttrain-auc:0.91421\teval-auc:0.90234\n",
      "[33]\ttrain-auc:0.91431\teval-auc:0.90232\n",
      "[34]\ttrain-auc:0.91438\teval-auc:0.90231\n",
      "[35]\ttrain-auc:0.91441\teval-auc:0.90231\n",
      "[36]\ttrain-auc:0.91445\teval-auc:0.90231\n",
      "[37]\ttrain-auc:0.91460\teval-auc:0.90228\n",
      "Stopping. Best iteration:\n",
      "[27]\ttrain-auc:0.91367\teval-auc:0.90235\n",
      "\n"
     ]
    }
   ],
   "source": [
    "param = {\n",
    " 'booster' : 'gbtree',\n",
    " 'eval_metric': 'auc',\n",
    " 'n_thread': -1,\n",
    " 'verbose': -1,\n",
    " 'alpha': 9.73403259447976,\n",
    " 'colsample_bytree': 0.9500000000000001,\n",
    " 'gamma': 3.0053741455927394,\n",
    " 'lambda': 5.008395799239111,\n",
    " 'learning_rate': 0.22504776777886853,\n",
    " 'max_depth': 249,\n",
    " 'min_child_weight': 100.0,\n",
    " 'scale_pos_weight': 6.95092572847277,\n",
    " 'subsample': 0.75\n",
    " }\n",
    "\n",
    "watchlist = [(dtrain, 'train'), (dval, 'eval')]\n",
    "num_round = 200\n",
    "bst = xgb.train(param, dtrain, num_round, evals = watchlist, early_stopping_rounds = 10)"
   ]
  },
  {
   "cell_type": "code",
   "execution_count": 110,
   "metadata": {},
   "outputs": [],
   "source": [
    "train_w_preds = x_train.copy()\n",
    "train_w_preds['xgb_probs'] = bst.predict(dtrain)\n",
    "\n",
    "test_w_preds = x_test.copy()\n",
    "test_w_preds['xgb_probs'] = bst.predict(dtest)"
   ]
  },
  {
   "cell_type": "code",
   "execution_count": 111,
   "metadata": {},
   "outputs": [],
   "source": [
    "y2 = y_train\n",
    "y = y_test\n",
    "scores2 = train_w_preds['xgb_probs']\n",
    "scores = test_w_preds['xgb_probs']"
   ]
  },
  {
   "cell_type": "code",
   "execution_count": 112,
   "metadata": {},
   "outputs": [
    {
     "data": {
      "text/plain": [
       "0.9145971473425927"
      ]
     },
     "execution_count": 112,
     "metadata": {},
     "output_type": "execute_result"
    }
   ],
   "source": [
    "#Train\n",
    "fpr, tpr, thresholds = metrics.roc_curve(y2, scores2)\n",
    "metrics.auc(fpr, tpr)"
   ]
  },
  {
   "cell_type": "code",
   "execution_count": 113,
   "metadata": {},
   "outputs": [
    {
     "data": {
      "text/plain": [
       "0.9000743301609645"
      ]
     },
     "execution_count": 113,
     "metadata": {},
     "output_type": "execute_result"
    }
   ],
   "source": [
    "#Test\n",
    "fpr, tpr, thresholds = metrics.roc_curve(y, scores)\n",
    "metrics.auc(fpr, tpr)"
   ]
  },
  {
   "cell_type": "code",
   "execution_count": 114,
   "metadata": {},
   "outputs": [],
   "source": [
    "import shap"
   ]
  },
  {
   "cell_type": "code",
   "execution_count": 115,
   "metadata": {},
   "outputs": [],
   "source": [
    "model_barr = bst.save_raw()[4:]\n",
    "bst.save_raw = lambda: model_barr"
   ]
  },
  {
   "cell_type": "code",
   "execution_count": 116,
   "metadata": {},
   "outputs": [],
   "source": [
    "xgb_shap_explainer = shap.TreeExplainer(bst)"
   ]
  },
  {
   "cell_type": "code",
   "execution_count": 117,
   "metadata": {},
   "outputs": [],
   "source": [
    "xgb_shap_vals_train = xgb_shap_explainer.shap_values(x_train)"
   ]
  },
  {
   "cell_type": "code",
   "execution_count": 118,
   "metadata": {},
   "outputs": [],
   "source": [
    "xgb_shap_vals_test = xgb_shap_explainer.shap_values(x_test)"
   ]
  },
  {
   "cell_type": "code",
   "execution_count": 119,
   "metadata": {},
   "outputs": [
    {
     "data": {
      "image/png": "[encoded data removed]",
      "text/plain": [
       "<Figure size 576x655.2 with 2 Axes>"
      ]
     },
     "metadata": {},
     "output_type": "display_data"
    }
   ],
   "source": [
    "shap.summary_plot(xgb_shap_vals_train, x_train)"
   ]
  },
  {
   "cell_type": "code",
   "execution_count": 120,
   "metadata": {},
   "outputs": [
    {
     "data": {
      "image/png": "[encoded data removed]",
      "text/plain": [
       "<Figure size 576x655.2 with 2 Axes>"
      ]
     },
     "metadata": {},
     "output_type": "display_data"
    }
   ],
   "source": [
    "shap.summary_plot(xgb_shap_vals_test, x_test)"
   ]
  },
  {
   "cell_type": "markdown",
   "metadata": {},
   "source": [
    "### XGBoost\n",
    "#### Predicting trialists"
   ]
  },
  {
   "cell_type": "code",
   "execution_count": 121,
   "metadata": {},
   "outputs": [],
   "source": [
    "xg_vars_2 = dfuser.drop(['user_trialist','user_subscriber'], axis=1)\n",
    "xg_target_2 = dfuser[['user_trialist']]"
   ]
  },
  {
   "cell_type": "code",
   "execution_count": 122,
   "metadata": {},
   "outputs": [],
   "source": [
    "x_train, x_test, y_train, y_test = train_test_split(xg_vars_2, \n",
    "                                                    xg_target_2['user_trialist'], \n",
    "                                                    test_size=0.2, \n",
    "                                                    random_state=1)\n",
    "\n",
    "x_train, x_val, y_train, y_val = train_test_split(x_train, y_train, test_size = 0.2, random_state = 1)"
   ]
  },
  {
   "cell_type": "code",
   "execution_count": 123,
   "metadata": {},
   "outputs": [],
   "source": [
    "dtrain = xgb.DMatrix(data = x_train, label = y_train)\n",
    "dval = xgb.DMatrix(data = x_val, label = y_val)\n",
    "dtest = xgb.DMatrix(data = x_test, label = y_test)"
   ]
  },
  {
   "cell_type": "code",
   "execution_count": 124,
   "metadata": {},
   "outputs": [],
   "source": [
    "xgb_space = {\n",
    "    'booster': hp.hp.choice('booster',  ['gbtree']),\n",
    "    'eta': hp.hp.loguniform('learning_rate', -4, 0),\n",
    "    'max_depth':hp.hp.choice('max_depth', np.arange(10, 300,1, dtype=int)),\n",
    "    'subsample':hp.hp.quniform('subsample',0.5,1.0,0.05),\n",
    "    'colsample_bytree':hp.hp.quniform('colsample_bytree',0.5,1.0,0.05),\n",
    "    'min_child_weight':hp.hp.quniform('min_child_weight', 100, 1000,100),\n",
    "    'lambda': hp.hp.uniform('lambda', 0.0, 100.0),\n",
    "    'alpha': hp.hp.uniform('alpha', 0.0, 100.0),\n",
    "    'gamma' : hp.hp.uniform('gamma', 0.0, 100.0),\n",
    "    'scale_pos_weight': hp.hp.uniform('scale_pos_weight', 1.0, 10.0),\n",
    "    'eval_metric' : hp.hp.choice('eval_metric', ['auc'])\n",
    "    }"
   ]
  },
  {
   "cell_type": "code",
   "execution_count": 125,
   "metadata": {},
   "outputs": [
    {
     "name": "stdout",
     "output_type": "stream",
     "text": [
      "100%|██████████| 100/100 [42:39<00:00, 25.59s/trial, best loss: 0.20929720000000007]\n"
     ]
    }
   ],
   "source": [
    "def objective_m(params, n_folds=5):\n",
    "\n",
    "\n",
    "    model = xgb.cv(params = params,\n",
    "              dtrain = dtrain,\n",
    "              num_boost_round = 10,\n",
    "              early_stopping_rounds = 10,\n",
    "             nfold = n_folds)\n",
    "    \n",
    "    loss = 1 - max(model['test-auc-mean'])\n",
    "    \n",
    "    return loss\n",
    "\n",
    "\n",
    "trials = Trials()\n",
    "MAX_EVALS = 100\n",
    "xgb_best_m = fmin(fn = objective_m, space = xgb_space, algo = hp.tpe.suggest, \n",
    "max_evals = MAX_EVALS, trials = trials)"
   ]
  },
  {
   "cell_type": "code",
   "execution_count": 126,
   "metadata": {},
   "outputs": [
    {
     "data": {
      "text/plain": [
       "{'alpha': 13.17439157027529,\n",
       " 'booster': 0,\n",
       " 'colsample_bytree': 0.65,\n",
       " 'eval_metric': 0,\n",
       " 'gamma': 0.43029807667408876,\n",
       " 'lambda': 4.616378764332115,\n",
       " 'learning_rate': 0.40835569856416476,\n",
       " 'max_depth': 235,\n",
       " 'min_child_weight': 100.0,\n",
       " 'scale_pos_weight': 4.291057314814259,\n",
       " 'subsample': 1.0}"
      ]
     },
     "execution_count": 126,
     "metadata": {},
     "output_type": "execute_result"
    }
   ],
   "source": [
    "xgb_best_m"
   ]
  },
  {
   "cell_type": "code",
   "execution_count": 150,
   "metadata": {
    "scrolled": true
   },
   "outputs": [
    {
     "name": "stdout",
     "output_type": "stream",
     "text": [
      "[10:14:05] WARNING: /Users/travis/build/dmlc/xgboost/src/learner.cc:516: \n",
      "Parameters: { n_thread, verbose } might not be used.\n",
      "\n",
      "  This may not be accurate due to some parameters are only used in language bindings but\n",
      "  passed down to XGBoost core.  Or some parameters are not used but slip through this\n",
      "  verification. Please open an issue if you find above cases.\n",
      "\n",
      "\n",
      "[0]\ttrain-auc:0.75094\teval-auc:0.74558\n",
      "Multiple eval metrics have been passed: 'eval-auc' will be used for early stopping.\n",
      "\n",
      "Will train until eval-auc hasn't improved in 10 rounds.\n",
      "[1]\ttrain-auc:0.75885\teval-auc:0.75390\n",
      "[2]\ttrain-auc:0.75892\teval-auc:0.75304\n",
      "[3]\ttrain-auc:0.76959\teval-auc:0.76328\n",
      "[4]\ttrain-auc:0.77543\teval-auc:0.76803\n",
      "[5]\ttrain-auc:0.77953\teval-auc:0.77170\n",
      "[6]\ttrain-auc:0.78075\teval-auc:0.77190\n",
      "[7]\ttrain-auc:0.78161\teval-auc:0.77267\n",
      "[8]\ttrain-auc:0.78322\teval-auc:0.77328\n",
      "[9]\ttrain-auc:0.78600\teval-auc:0.77428\n",
      "[10]\ttrain-auc:0.78787\teval-auc:0.77580\n",
      "[11]\ttrain-auc:0.78846\teval-auc:0.77579\n",
      "[12]\ttrain-auc:0.78886\teval-auc:0.77532\n",
      "[13]\ttrain-auc:0.79013\teval-auc:0.77604\n",
      "[14]\ttrain-auc:0.79032\teval-auc:0.77609\n",
      "[15]\ttrain-auc:0.79072\teval-auc:0.77615\n",
      "[16]\ttrain-auc:0.79170\teval-auc:0.77675\n",
      "[17]\ttrain-auc:0.79303\teval-auc:0.77711\n",
      "[18]\ttrain-auc:0.79414\teval-auc:0.77758\n",
      "[19]\ttrain-auc:0.79491\teval-auc:0.77746\n",
      "[20]\ttrain-auc:0.79520\teval-auc:0.77766\n",
      "[21]\ttrain-auc:0.79553\teval-auc:0.77728\n",
      "[22]\ttrain-auc:0.79554\teval-auc:0.77669\n",
      "[23]\ttrain-auc:0.79655\teval-auc:0.77687\n",
      "[24]\ttrain-auc:0.79760\teval-auc:0.77756\n",
      "[25]\ttrain-auc:0.79834\teval-auc:0.77836\n",
      "[26]\ttrain-auc:0.79875\teval-auc:0.77796\n",
      "[27]\ttrain-auc:0.79880\teval-auc:0.77799\n",
      "[28]\ttrain-auc:0.79967\teval-auc:0.77813\n",
      "[29]\ttrain-auc:0.80059\teval-auc:0.77878\n",
      "[30]\ttrain-auc:0.80119\teval-auc:0.77880\n",
      "[31]\ttrain-auc:0.80185\teval-auc:0.77909\n",
      "[32]\ttrain-auc:0.80251\teval-auc:0.77875\n",
      "[33]\ttrain-auc:0.80282\teval-auc:0.77856\n",
      "[34]\ttrain-auc:0.80379\teval-auc:0.77862\n",
      "[35]\ttrain-auc:0.80391\teval-auc:0.77864\n",
      "[36]\ttrain-auc:0.80410\teval-auc:0.77779\n",
      "[37]\ttrain-auc:0.80447\teval-auc:0.77759\n",
      "[38]\ttrain-auc:0.80497\teval-auc:0.77758\n",
      "[39]\ttrain-auc:0.80531\teval-auc:0.77784\n",
      "[40]\ttrain-auc:0.80566\teval-auc:0.77783\n",
      "[41]\ttrain-auc:0.80616\teval-auc:0.77802\n",
      "Stopping. Best iteration:\n",
      "[31]\ttrain-auc:0.80185\teval-auc:0.77909\n",
      "\n"
     ]
    }
   ],
   "source": [
    "param = {\n",
    " 'booster' : 'gbtree',\n",
    " 'eval_metric': 'auc',\n",
    " 'n_thread': -1,\n",
    " 'verbose': -1,\n",
    " 'alpha': 13.17439157027529,\n",
    " 'colsample_bytree': 0.65,\n",
    " 'gamma': 0.43029807667408876,\n",
    " 'lambda': 4.616378764332115,\n",
    " 'learning_rate': 0.40835569856416476,\n",
    " 'max_depth': 235,\n",
    " 'min_child_weight': 200.0,\n",
    " 'scale_pos_weight': 4.291057314814259,\n",
    " 'subsample': 0.2\n",
    " }\n",
    "\n",
    "watchlist = [(dtrain, 'train'), (dval, 'eval')]\n",
    "num_round = 200\n",
    "bst = xgb.train(param, dtrain, num_round, evals = watchlist, early_stopping_rounds = 10)"
   ]
  },
  {
   "cell_type": "code",
   "execution_count": 151,
   "metadata": {},
   "outputs": [],
   "source": [
    "train_w_preds = x_train.copy()\n",
    "train_w_preds['xgb_probs'] = bst.predict(dtrain)\n",
    "\n",
    "test_w_preds = x_test.copy()\n",
    "test_w_preds['xgb_probs'] = bst.predict(dtest)"
   ]
  },
  {
   "cell_type": "code",
   "execution_count": 152,
   "metadata": {},
   "outputs": [],
   "source": [
    "y2 = y_train\n",
    "y = y_test\n",
    "scores2 = train_w_preds['xgb_probs']\n",
    "scores = test_w_preds['xgb_probs']"
   ]
  },
  {
   "cell_type": "code",
   "execution_count": 153,
   "metadata": {},
   "outputs": [
    {
     "data": {
      "text/plain": [
       "0.8061569540928564"
      ]
     },
     "execution_count": 153,
     "metadata": {},
     "output_type": "execute_result"
    }
   ],
   "source": [
    "#Train\n",
    "fpr, tpr, thresholds = metrics.roc_curve(y2, scores2)\n",
    "metrics.auc(fpr, tpr)"
   ]
  },
  {
   "cell_type": "code",
   "execution_count": 154,
   "metadata": {},
   "outputs": [
    {
     "data": {
      "text/plain": [
       "0.7795717498850416"
      ]
     },
     "execution_count": 154,
     "metadata": {},
     "output_type": "execute_result"
    }
   ],
   "source": [
    "#Test\n",
    "fpr, tpr, thresholds = metrics.roc_curve(y, scores)\n",
    "metrics.auc(fpr, tpr)"
   ]
  },
  {
   "cell_type": "code",
   "execution_count": 155,
   "metadata": {},
   "outputs": [],
   "source": [
    "model_barr = bst.save_raw()[4:]\n",
    "bst.save_raw = lambda: model_barr"
   ]
  },
  {
   "cell_type": "code",
   "execution_count": 156,
   "metadata": {},
   "outputs": [],
   "source": [
    "xgb_shap_explainer = shap.TreeExplainer(bst)\n",
    "xgb_shap_vals_train = xgb_shap_explainer.shap_values(x_train)\n",
    "xgb_shap_vals_test = xgb_shap_explainer.shap_values(x_test)"
   ]
  },
  {
   "cell_type": "code",
   "execution_count": 157,
   "metadata": {},
   "outputs": [
    {
     "data": {
      "image/png": "[encoded data removed]",
      "text/plain": [
       "<Figure size 576x626.4 with 2 Axes>"
      ]
     },
     "metadata": {},
     "output_type": "display_data"
    }
   ],
   "source": [
    "shap.summary_plot(xgb_shap_vals_train, x_train)"
   ]
  },
  {
   "cell_type": "code",
   "execution_count": 158,
   "metadata": {},
   "outputs": [
    {
     "data": {
      "image/png": "[encoded data removed]",
      "text/plain": [
       "<Figure size 576x626.4 with 2 Axes>"
      ]
     },
     "metadata": {},
     "output_type": "display_data"
    }
   ],
   "source": [
    "shap.summary_plot(xgb_shap_vals_test, x_test)"
   ]
  },
  {
   "cell_type": "markdown",
   "metadata": {},
   "source": [
    "### LightGBM\n",
    "#### Predicting subscribers"
   ]
  },
  {
   "cell_type": "code",
   "execution_count": 159,
   "metadata": {},
   "outputs": [],
   "source": [
    "lgbm_vars = dfuser.drop(['user_subscriber'], axis=1)\n",
    "lgbm_target = dfuser[['user_subscriber']]"
   ]
  },
  {
   "cell_type": "code",
   "execution_count": 160,
   "metadata": {},
   "outputs": [],
   "source": [
    "x_train, x_test, y_train, y_test = train_test_split(lgbm_vars, \n",
    "                                                    lgbm_target['user_subscriber'], \n",
    "                                                    test_size=0.2, \n",
    "                                                    random_state=1)\n",
    "\n",
    "x_train, x_val, y_train, y_val = train_test_split(x_train, y_train, test_size = 0.2, random_state = 1)"
   ]
  },
  {
   "cell_type": "code",
   "execution_count": 161,
   "metadata": {},
   "outputs": [],
   "source": [
    "import lightgbm as lgb\n",
    "lightgbm_hp_train = lgb.Dataset(x_train, y_train)\n",
    "lightgbm_hp_val = lgb.Dataset(x_val, y_val)"
   ]
  },
  {
   "cell_type": "code",
   "execution_count": 162,
   "metadata": {},
   "outputs": [],
   "source": [
    "lgbm_space = {\n",
    "    'boosting_type': hp.hp.choice('boosting_type',  ['gbdt']),\n",
    "    'num_leaves':hp.hp.choice('num_leaves', np.arange(10, 100,20, dtype=int)),\n",
    "    'subsample':hp.hp.quniform('subsample',0.5,1.0,0.1),\n",
    "    'colsample_bytree':hp.hp.quniform('colsample_bytree',0.5,1.0,0.1),\n",
    "    'min_child_weight':hp.hp.quniform('min_child_weight', 100, 1000,100),\n",
    "    'reg_alpha': hp.hp.uniform('reg_alpha', 0.0, 100.0),\n",
    "    'reg_lambda': hp.hp.uniform('reg_lambda', 0.0, 100.0),\n",
    "    'learning_rate': hp.hp.loguniform('learning_rate', -4, 0),\n",
    "    'feature_fraction': hp.hp.loguniform('feature_fraction', -4, 0),\n",
    "    'bagging_fraction': hp.hp.loguniform('bagging_fraction', -4, 0),\n",
    "    'bagging_freq':hp.hp.choice('bagging_freq', np.arange(10, 100,20, dtype=int)),\n",
    "    'drop_rate': hp.hp.loguniform('drop_rate', -4, 0),\n",
    "    'scale_pos_weight': hp.hp.uniform('scale_pos_weight', 6.0, 10.0),   \n",
    "    'metric' : 'auc',\n",
    "    'max_bin': 512,\n",
    "    'verbose' : -1\n",
    "    }"
   ]
  },
  {
   "cell_type": "code",
   "execution_count": 163,
   "metadata": {},
   "outputs": [
    {
     "name": "stdout",
     "output_type": "stream",
     "text": [
      "[LightGBM] [Warning]                                   \n",
      "feature_fraction is set=0.2820902751315604, colsample_bytree=0.5 will be ignored. Current value: feature_fraction=0.2820902751315604\n",
      "[LightGBM] [Warning]                                   \n",
      "bagging_fraction is set=0.4632082732429255, subsample=0.9 will be ignored. Current value: bagging_fraction=0.4632082732429255\n",
      "100%|██████████| 100/100 [1:09:13<00:00, 41.53s/trial, best loss: 0.10368530635493955]\n"
     ]
    }
   ],
   "source": [
    "def objective_m(params, n_folds=5):\n",
    "\n",
    "\n",
    "    model = lgb.cv(params = params,\n",
    "              train_set = lightgbm_hp_train,\n",
    "              num_boost_round = 10000,\n",
    "              early_stopping_rounds = 10,\n",
    "             nfold = n_folds)\n",
    "    \n",
    "    loss = 1 - (max(model['auc-mean']))\n",
    "    return loss\n",
    "\n",
    "\n",
    "trials = Trials()\n",
    "MAX_EVALS = 100\n",
    "lgbm_best_m = fmin(fn = objective_m, space = lgbm_space, algo = hp.tpe.suggest, \n",
    "max_evals = MAX_EVALS)"
   ]
  },
  {
   "cell_type": "code",
   "execution_count": 164,
   "metadata": {},
   "outputs": [
    {
     "data": {
      "text/plain": [
       "{'bagging_fraction': 0.8685851158594278,\n",
       " 'bagging_freq': 2,\n",
       " 'boosting_type': 0,\n",
       " 'colsample_bytree': 0.5,\n",
       " 'drop_rate': 0.29542323038913776,\n",
       " 'feature_fraction': 0.9986134012515208,\n",
       " 'learning_rate': 0.045718703959723155,\n",
       " 'min_child_weight': 200.0,\n",
       " 'num_leaves': 2,\n",
       " 'reg_alpha': 11.862300075241777,\n",
       " 'reg_lambda': 51.98982574170786,\n",
       " 'scale_pos_weight': 9.333177033777329,\n",
       " 'subsample': 0.6000000000000001}"
      ]
     },
     "execution_count": 164,
     "metadata": {},
     "output_type": "execute_result"
    }
   ],
   "source": [
    "lgbm_best_m"
   ]
  },
  {
   "cell_type": "code",
   "execution_count": 165,
   "metadata": {},
   "outputs": [],
   "source": [
    "lgbm_params = {'bagging_fraction': 0.8685851158594278,\n",
    " 'bagging_freq': 2,\n",
    " 'metric' : 'auc',\n",
    " 'boosting_type': 'gbdt',\n",
    " 'objective' : 'binary',\n",
    " 'colsample_bytree': 0.5,\n",
    " 'drop_rate': 0.29542323038913776,\n",
    " 'feature_fraction': 0.9986134012515208,\n",
    " 'learning_rate': 0.045718703959723155,\n",
    " 'min_child_weight': 200.0,\n",
    " 'num_leaves': 2,\n",
    " 'reg_alpha': 11.862300075241777,\n",
    " 'reg_lambda': 51.98982574170786,\n",
    " 'scale_pos_weight': 9.333177033777329,\n",
    " 'subsample': 0.6000000000000001,\n",
    " 'verbose': -1,\n",
    " 'early_stopping_round': 10}"
   ]
  },
  {
   "cell_type": "code",
   "execution_count": 166,
   "metadata": {
    "scrolled": true
   },
   "outputs": [
    {
     "name": "stderr",
     "output_type": "stream",
     "text": [
      "/opt/anaconda3/lib/python3.7/site-packages/lightgbm/engine.py:156: UserWarning: Found `early_stopping_round` in params. Will use it instead of argument\n",
      "  warnings.warn(\"Found `{}` in params. Will use it instead of argument\".format(alias))\n",
      "/opt/anaconda3/lib/python3.7/site-packages/lightgbm/basic.py:1286: UserWarning: Overriding the parameters from Reference Dataset.\n",
      "  warnings.warn('Overriding the parameters from Reference Dataset.')\n"
     ]
    },
    {
     "name": "stdout",
     "output_type": "stream",
     "text": [
      "[1]\tTrain's auc: 0.64116\tEvaluation's auc: 0.640156\n",
      "Training until validation scores don't improve for 10 rounds\n",
      "[2]\tTrain's auc: 0.643016\tEvaluation's auc: 0.642172\n",
      "[3]\tTrain's auc: 0.756871\tEvaluation's auc: 0.755884\n",
      "[4]\tTrain's auc: 0.758695\tEvaluation's auc: 0.757758\n",
      "[5]\tTrain's auc: 0.76148\tEvaluation's auc: 0.760598\n",
      "[6]\tTrain's auc: 0.760975\tEvaluation's auc: 0.760056\n",
      "[7]\tTrain's auc: 0.761184\tEvaluation's auc: 0.760241\n",
      "[8]\tTrain's auc: 0.761184\tEvaluation's auc: 0.760241\n",
      "[9]\tTrain's auc: 0.764201\tEvaluation's auc: 0.763599\n",
      "[10]\tTrain's auc: 0.764356\tEvaluation's auc: 0.763778\n",
      "[11]\tTrain's auc: 0.831544\tEvaluation's auc: 0.830684\n",
      "[12]\tTrain's auc: 0.835266\tEvaluation's auc: 0.834955\n",
      "[13]\tTrain's auc: 0.831639\tEvaluation's auc: 0.830783\n",
      "[14]\tTrain's auc: 0.833482\tEvaluation's auc: 0.833009\n",
      "[15]\tTrain's auc: 0.833482\tEvaluation's auc: 0.833009\n",
      "[16]\tTrain's auc: 0.835548\tEvaluation's auc: 0.835262\n",
      "[17]\tTrain's auc: 0.835666\tEvaluation's auc: 0.835268\n",
      "[18]\tTrain's auc: 0.837768\tEvaluation's auc: 0.837547\n",
      "[19]\tTrain's auc: 0.837708\tEvaluation's auc: 0.837493\n",
      "[20]\tTrain's auc: 0.837959\tEvaluation's auc: 0.837762\n",
      "[21]\tTrain's auc: 0.837759\tEvaluation's auc: 0.837543\n",
      "[22]\tTrain's auc: 0.837977\tEvaluation's auc: 0.837781\n",
      "[23]\tTrain's auc: 0.837952\tEvaluation's auc: 0.837755\n",
      "[24]\tTrain's auc: 0.838344\tEvaluation's auc: 0.838229\n",
      "[25]\tTrain's auc: 0.838729\tEvaluation's auc: 0.838674\n",
      "[26]\tTrain's auc: 0.838453\tEvaluation's auc: 0.838343\n",
      "[27]\tTrain's auc: 0.838468\tEvaluation's auc: 0.838364\n",
      "[28]\tTrain's auc: 0.83962\tEvaluation's auc: 0.83958\n",
      "[29]\tTrain's auc: 0.839892\tEvaluation's auc: 0.839906\n",
      "[30]\tTrain's auc: 0.840342\tEvaluation's auc: 0.840301\n",
      "[31]\tTrain's auc: 0.840021\tEvaluation's auc: 0.840043\n",
      "[32]\tTrain's auc: 0.840751\tEvaluation's auc: 0.840757\n",
      "[33]\tTrain's auc: 0.842554\tEvaluation's auc: 0.842668\n",
      "[34]\tTrain's auc: 0.84255\tEvaluation's auc: 0.842666\n",
      "[35]\tTrain's auc: 0.842893\tEvaluation's auc: 0.843037\n",
      "[36]\tTrain's auc: 0.843326\tEvaluation's auc: 0.843428\n",
      "[37]\tTrain's auc: 0.843409\tEvaluation's auc: 0.843401\n",
      "[38]\tTrain's auc: 0.846624\tEvaluation's auc: 0.846786\n",
      "[39]\tTrain's auc: 0.843361\tEvaluation's auc: 0.843473\n",
      "[40]\tTrain's auc: 0.846544\tEvaluation's auc: 0.846826\n",
      "[41]\tTrain's auc: 0.846684\tEvaluation's auc: 0.846849\n",
      "[42]\tTrain's auc: 0.846688\tEvaluation's auc: 0.846853\n",
      "[43]\tTrain's auc: 0.846603\tEvaluation's auc: 0.846889\n",
      "[44]\tTrain's auc: 0.846604\tEvaluation's auc: 0.84689\n",
      "[45]\tTrain's auc: 0.846706\tEvaluation's auc: 0.846871\n",
      "[46]\tTrain's auc: 0.846764\tEvaluation's auc: 0.846937\n",
      "[47]\tTrain's auc: 0.84677\tEvaluation's auc: 0.846943\n",
      "[48]\tTrain's auc: 0.846825\tEvaluation's auc: 0.847009\n",
      "[49]\tTrain's auc: 0.846845\tEvaluation's auc: 0.84703\n",
      "[50]\tTrain's auc: 0.846939\tEvaluation's auc: 0.847136\n",
      "[51]\tTrain's auc: 0.846855\tEvaluation's auc: 0.847172\n",
      "[52]\tTrain's auc: 0.846845\tEvaluation's auc: 0.84703\n",
      "[53]\tTrain's auc: 0.846939\tEvaluation's auc: 0.847136\n",
      "[54]\tTrain's auc: 0.846875\tEvaluation's auc: 0.847069\n",
      "[55]\tTrain's auc: 0.84697\tEvaluation's auc: 0.847176\n",
      "[56]\tTrain's auc: 0.848075\tEvaluation's auc: 0.848298\n",
      "[57]\tTrain's auc: 0.848075\tEvaluation's auc: 0.848298\n",
      "[58]\tTrain's auc: 0.848122\tEvaluation's auc: 0.848353\n",
      "[59]\tTrain's auc: 0.848126\tEvaluation's auc: 0.848356\n",
      "[60]\tTrain's auc: 0.848205\tEvaluation's auc: 0.848432\n",
      "[61]\tTrain's auc: 0.848126\tEvaluation's auc: 0.848356\n",
      "[62]\tTrain's auc: 0.848144\tEvaluation's auc: 0.848381\n",
      "[63]\tTrain's auc: 0.848144\tEvaluation's auc: 0.848381\n",
      "[64]\tTrain's auc: 0.848275\tEvaluation's auc: 0.848512\n",
      "[65]\tTrain's auc: 0.848223\tEvaluation's auc: 0.848457\n",
      "[66]\tTrain's auc: 0.848275\tEvaluation's auc: 0.848512\n",
      "[67]\tTrain's auc: 0.848275\tEvaluation's auc: 0.848512\n",
      "[68]\tTrain's auc: 0.855566\tEvaluation's auc: 0.855973\n",
      "[69]\tTrain's auc: 0.855566\tEvaluation's auc: 0.855973\n",
      "[70]\tTrain's auc: 0.855241\tEvaluation's auc: 0.855632\n",
      "[71]\tTrain's auc: 0.85555\tEvaluation's auc: 0.855969\n",
      "[72]\tTrain's auc: 0.855568\tEvaluation's auc: 0.85599\n",
      "[73]\tTrain's auc: 0.856745\tEvaluation's auc: 0.857236\n",
      "[74]\tTrain's auc: 0.855573\tEvaluation's auc: 0.855994\n",
      "[75]\tTrain's auc: 0.85675\tEvaluation's auc: 0.85724\n",
      "[76]\tTrain's auc: 0.856839\tEvaluation's auc: 0.857301\n",
      "[77]\tTrain's auc: 0.855663\tEvaluation's auc: 0.856059\n",
      "[78]\tTrain's auc: 0.85684\tEvaluation's auc: 0.857305\n",
      "[79]\tTrain's auc: 0.85684\tEvaluation's auc: 0.857305\n",
      "[80]\tTrain's auc: 0.85684\tEvaluation's auc: 0.857305\n",
      "[81]\tTrain's auc: 0.85684\tEvaluation's auc: 0.857305\n",
      "[82]\tTrain's auc: 0.859345\tEvaluation's auc: 0.860087\n",
      "[83]\tTrain's auc: 0.859345\tEvaluation's auc: 0.860087\n",
      "[84]\tTrain's auc: 0.859419\tEvaluation's auc: 0.86018\n",
      "[85]\tTrain's auc: 0.859419\tEvaluation's auc: 0.86018\n",
      "[86]\tTrain's auc: 0.859347\tEvaluation's auc: 0.860089\n",
      "[87]\tTrain's auc: 0.859419\tEvaluation's auc: 0.86018\n",
      "[88]\tTrain's auc: 0.863388\tEvaluation's auc: 0.864124\n",
      "[89]\tTrain's auc: 0.863388\tEvaluation's auc: 0.864124\n",
      "[90]\tTrain's auc: 0.863218\tEvaluation's auc: 0.863991\n",
      "[91]\tTrain's auc: 0.863218\tEvaluation's auc: 0.863991\n",
      "[92]\tTrain's auc: 0.864071\tEvaluation's auc: 0.864879\n",
      "[93]\tTrain's auc: 0.864294\tEvaluation's auc: 0.865123\n",
      "[94]\tTrain's auc: 0.864294\tEvaluation's auc: 0.865123\n",
      "[95]\tTrain's auc: 0.86401\tEvaluation's auc: 0.864856\n",
      "[96]\tTrain's auc: 0.86401\tEvaluation's auc: 0.864856\n",
      "[97]\tTrain's auc: 0.864225\tEvaluation's auc: 0.865045\n",
      "[98]\tTrain's auc: 0.865647\tEvaluation's auc: 0.866522\n",
      "[99]\tTrain's auc: 0.865671\tEvaluation's auc: 0.866532\n",
      "[100]\tTrain's auc: 0.865671\tEvaluation's auc: 0.866532\n",
      "[101]\tTrain's auc: 0.86573\tEvaluation's auc: 0.866592\n",
      "[102]\tTrain's auc: 0.86576\tEvaluation's auc: 0.866621\n",
      "[103]\tTrain's auc: 0.86576\tEvaluation's auc: 0.866621\n",
      "[104]\tTrain's auc: 0.865997\tEvaluation's auc: 0.866929\n",
      "[105]\tTrain's auc: 0.866001\tEvaluation's auc: 0.866935\n",
      "[106]\tTrain's auc: 0.865753\tEvaluation's auc: 0.866612\n",
      "[107]\tTrain's auc: 0.865753\tEvaluation's auc: 0.866612\n",
      "[108]\tTrain's auc: 0.865753\tEvaluation's auc: 0.866612\n",
      "[109]\tTrain's auc: 0.865777\tEvaluation's auc: 0.866644\n",
      "[110]\tTrain's auc: 0.865909\tEvaluation's auc: 0.866805\n",
      "[111]\tTrain's auc: 0.866325\tEvaluation's auc: 0.867323\n",
      "[112]\tTrain's auc: 0.866431\tEvaluation's auc: 0.867409\n",
      "[113]\tTrain's auc: 0.866431\tEvaluation's auc: 0.867409\n",
      "[114]\tTrain's auc: 0.866434\tEvaluation's auc: 0.867413\n",
      "[115]\tTrain's auc: 0.86645\tEvaluation's auc: 0.867421\n",
      "[116]\tTrain's auc: 0.86645\tEvaluation's auc: 0.867421\n",
      "[117]\tTrain's auc: 0.866456\tEvaluation's auc: 0.867436\n",
      "[118]\tTrain's auc: 0.866728\tEvaluation's auc: 0.867712\n",
      "[119]\tTrain's auc: 0.867524\tEvaluation's auc: 0.868479\n",
      "[120]\tTrain's auc: 0.867524\tEvaluation's auc: 0.868479\n",
      "[121]\tTrain's auc: 0.867529\tEvaluation's auc: 0.868476\n",
      "[122]\tTrain's auc: 0.867529\tEvaluation's auc: 0.868476\n",
      "[123]\tTrain's auc: 0.867612\tEvaluation's auc: 0.868531\n",
      "[124]\tTrain's auc: 0.867619\tEvaluation's auc: 0.868574\n",
      "[125]\tTrain's auc: 0.867619\tEvaluation's auc: 0.868574\n",
      "[126]\tTrain's auc: 0.868036\tEvaluation's auc: 0.869111\n",
      "[127]\tTrain's auc: 0.86813\tEvaluation's auc: 0.869243\n",
      "[128]\tTrain's auc: 0.868045\tEvaluation's auc: 0.869119\n",
      "[129]\tTrain's auc: 0.868045\tEvaluation's auc: 0.869119\n",
      "[130]\tTrain's auc: 0.868103\tEvaluation's auc: 0.869217\n",
      "[131]\tTrain's auc: 0.868069\tEvaluation's auc: 0.869182\n",
      "[132]\tTrain's auc: 0.868069\tEvaluation's auc: 0.869182\n",
      "[133]\tTrain's auc: 0.86808\tEvaluation's auc: 0.869196\n",
      "[134]\tTrain's auc: 0.8682\tEvaluation's auc: 0.869358\n",
      "[135]\tTrain's auc: 0.8682\tEvaluation's auc: 0.869358\n",
      "[136]\tTrain's auc: 0.868199\tEvaluation's auc: 0.869358\n",
      "[137]\tTrain's auc: 0.868245\tEvaluation's auc: 0.86942\n",
      "[138]\tTrain's auc: 0.868245\tEvaluation's auc: 0.86942\n",
      "[139]\tTrain's auc: 0.868238\tEvaluation's auc: 0.869356\n",
      "[140]\tTrain's auc: 0.868268\tEvaluation's auc: 0.869454\n",
      "[141]\tTrain's auc: 0.868268\tEvaluation's auc: 0.869454\n",
      "[142]\tTrain's auc: 0.868273\tEvaluation's auc: 0.869453\n",
      "[143]\tTrain's auc: 0.868341\tEvaluation's auc: 0.869517\n",
      "[144]\tTrain's auc: 0.868388\tEvaluation's auc: 0.869569\n",
      "[145]\tTrain's auc: 0.868388\tEvaluation's auc: 0.869569\n",
      "[146]\tTrain's auc: 0.86853\tEvaluation's auc: 0.869745\n",
      "[147]\tTrain's auc: 0.86853\tEvaluation's auc: 0.869745\n",
      "[148]\tTrain's auc: 0.868359\tEvaluation's auc: 0.869546\n",
      "[149]\tTrain's auc: 0.868359\tEvaluation's auc: 0.869546\n",
      "[150]\tTrain's auc: 0.868377\tEvaluation's auc: 0.869549\n",
      "[151]\tTrain's auc: 0.868377\tEvaluation's auc: 0.869549\n",
      "[152]\tTrain's auc: 0.868399\tEvaluation's auc: 0.869573\n",
      "[153]\tTrain's auc: 0.868389\tEvaluation's auc: 0.869565\n",
      "[154]\tTrain's auc: 0.868389\tEvaluation's auc: 0.869565\n",
      "[155]\tTrain's auc: 0.868401\tEvaluation's auc: 0.86958\n"
     ]
    },
    {
     "name": "stdout",
     "output_type": "stream",
     "text": [
      "[156]\tTrain's auc: 0.868472\tEvaluation's auc: 0.869728\n",
      "Early stopping, best iteration is:\n",
      "[146]\tTrain's auc: 0.86853\tEvaluation's auc: 0.869745\n"
     ]
    }
   ],
   "source": [
    "lgb_gbm_auc = lgb.train(params = lgbm_params, train_set = lightgbm_hp_train,\n",
    "                num_boost_round = 2000, valid_sets = [lightgbm_hp_val, lightgbm_hp_train],\n",
    "               valid_names = ['Evaluation', 'Train'])"
   ]
  },
  {
   "cell_type": "code",
   "execution_count": 167,
   "metadata": {},
   "outputs": [],
   "source": [
    "y_probs_train = lgb_gbm_auc.predict(x_train)\n",
    "y_probs_test = lgb_gbm_auc.predict(x_test)"
   ]
  },
  {
   "cell_type": "code",
   "execution_count": 168,
   "metadata": {},
   "outputs": [
    {
     "data": {
      "text/plain": [
       "0.8685303073958983"
      ]
     },
     "execution_count": 168,
     "metadata": {},
     "output_type": "execute_result"
    }
   ],
   "source": [
    "fpr, tpr, thresholds = metrics.roc_curve(y_train, y_probs_train)\n",
    "metrics.auc(fpr, tpr)"
   ]
  },
  {
   "cell_type": "code",
   "execution_count": 169,
   "metadata": {},
   "outputs": [
    {
     "data": {
      "text/plain": [
       "0.865774398994341"
      ]
     },
     "execution_count": 169,
     "metadata": {},
     "output_type": "execute_result"
    }
   ],
   "source": [
    "fpr, tpr, thresholds = metrics.roc_curve(y_test, y_probs_test)\n",
    "metrics.auc(fpr, tpr)"
   ]
  },
  {
   "cell_type": "markdown",
   "metadata": {},
   "source": [
    "### LightGBM\n",
    "#### Predicting trialists"
   ]
  },
  {
   "cell_type": "code",
   "execution_count": 170,
   "metadata": {},
   "outputs": [],
   "source": [
    "lgbm_vars_2 = dfuser.drop(['user_subscriber', 'user_trialist'], axis=1)\n",
    "lgbm_target_2 = dfuser[['user_trialist']]"
   ]
  },
  {
   "cell_type": "code",
   "execution_count": 171,
   "metadata": {},
   "outputs": [],
   "source": [
    "x_train, x_test, y_train, y_test = train_test_split(lgbm_vars_2, \n",
    "                                                    lgbm_target_2['user_trialist'], \n",
    "                                                    test_size=0.2, \n",
    "                                                    random_state=1)\n",
    "\n",
    "x_train, x_val, y_train, y_val = train_test_split(x_train, y_train, test_size = 0.2, random_state = 1)"
   ]
  },
  {
   "cell_type": "code",
   "execution_count": 172,
   "metadata": {},
   "outputs": [],
   "source": [
    "lightgbm_hp_train = lgb.Dataset(x_train, y_train)\n",
    "lightgbm_hp_val = lgb.Dataset(x_val, y_val)"
   ]
  },
  {
   "cell_type": "code",
   "execution_count": 173,
   "metadata": {},
   "outputs": [],
   "source": [
    "lgbm_space = {\n",
    "    'boosting_type': hp.hp.choice('boosting_type',  ['gbdt']),\n",
    "    'num_leaves':hp.hp.choice('num_leaves', np.arange(10, 100,20, dtype=int)),\n",
    "    'subsample':hp.hp.quniform('subsample',0.5,1.0,0.1),\n",
    "    'colsample_bytree':hp.hp.quniform('colsample_bytree',0.5,1.0,0.1),\n",
    "    'min_child_weight':hp.hp.quniform('min_child_weight', 100, 1000,100),\n",
    "    'reg_alpha': hp.hp.uniform('reg_alpha', 0.0, 100.0),\n",
    "    'reg_lambda': hp.hp.uniform('reg_lambda', 0.0, 100.0),\n",
    "    'learning_rate': hp.hp.loguniform('learning_rate', -4, 0),\n",
    "    'feature_fraction': hp.hp.loguniform('feature_fraction', -4, 0),\n",
    "    'bagging_fraction': hp.hp.loguniform('bagging_fraction', -4, 0),\n",
    "    'bagging_freq':hp.hp.choice('bagging_freq', np.arange(10, 100,20, dtype=int)),\n",
    "    'drop_rate': hp.hp.loguniform('drop_rate', -4, 0),\n",
    "    'scale_pos_weight': hp.hp.uniform('scale_pos_weight', 6.0, 10.0),   \n",
    "    'metric' : 'auc',\n",
    "    'max_bin': 512,\n",
    "    'verbose' : -1\n",
    "    }"
   ]
  },
  {
   "cell_type": "code",
   "execution_count": 174,
   "metadata": {},
   "outputs": [
    {
     "name": "stdout",
     "output_type": "stream",
     "text": [
      "[LightGBM] [Warning]                                   \n",
      "feature_fraction is set=0.056307154549585556, colsample_bytree=0.9 will be ignored. Current value: feature_fraction=0.056307154549585556\n",
      "[LightGBM] [Warning]                                   \n",
      "bagging_fraction is set=0.48879832726256667, subsample=0.7000000000000001 will be ignored. Current value: bagging_fraction=0.48879832726256667\n",
      "100%|██████████| 100/100 [38:15<00:00, 22.96s/trial, best loss: 0.21520544144807308]\n"
     ]
    }
   ],
   "source": [
    "def objective_m(params, n_folds=5):\n",
    "\n",
    "\n",
    "    model = lgb.cv(params = params,\n",
    "              train_set = lightgbm_hp_train,\n",
    "              num_boost_round = 10000,\n",
    "              early_stopping_rounds = 10,\n",
    "             nfold = n_folds)\n",
    "    \n",
    "    loss = 1 - (max(model['auc-mean']))\n",
    "    return loss\n",
    "\n",
    "\n",
    "trials = Trials()\n",
    "MAX_EVALS = 100\n",
    "lgbm_best_m = fmin(fn = objective_m, space = lgbm_space, algo = hp.tpe.suggest, \n",
    "max_evals = MAX_EVALS)"
   ]
  },
  {
   "cell_type": "code",
   "execution_count": 175,
   "metadata": {},
   "outputs": [
    {
     "data": {
      "text/plain": [
       "{'bagging_fraction': 0.8644732069030372,\n",
       " 'bagging_freq': 4,\n",
       " 'boosting_type': 0,\n",
       " 'colsample_bytree': 0.5,\n",
       " 'drop_rate': 0.8215999334353952,\n",
       " 'feature_fraction': 0.5913874958941221,\n",
       " 'learning_rate': 0.021458371411116096,\n",
       " 'min_child_weight': 200.0,\n",
       " 'num_leaves': 3,\n",
       " 'reg_alpha': 12.571460104634486,\n",
       " 'reg_lambda': 15.857520815755482,\n",
       " 'scale_pos_weight': 8.935812761796052,\n",
       " 'subsample': 0.5}"
      ]
     },
     "execution_count": 175,
     "metadata": {},
     "output_type": "execute_result"
    }
   ],
   "source": [
    "lgbm_best_m"
   ]
  },
  {
   "cell_type": "code",
   "execution_count": 176,
   "metadata": {},
   "outputs": [],
   "source": [
    "lgbm_params = { 'bagging_fraction': 0.8644732069030372,\n",
    " 'bagging_freq': 4,\n",
    " 'metric' : 'auc',\n",
    " 'boosting_type': 'gbdt',\n",
    " 'objective' : 'binary',\n",
    " 'colsample_bytree': 0.5,\n",
    " 'drop_rate': 0.8215999334353952,\n",
    " 'feature_fraction': 0.5913874958941221,\n",
    " 'learning_rate': 0.021458371411116096,\n",
    " 'min_child_weight': 200.0,\n",
    " 'num_leaves': 3,\n",
    " 'reg_alpha': 12.571460104634486,\n",
    " 'reg_lambda': 15.857520815755482,\n",
    " 'scale_pos_weight': 8.935812761796052,\n",
    " 'subsample': 0.5,\n",
    " 'verbose': -1,\n",
    " 'early_stopping_round': 10}"
   ]
  },
  {
   "cell_type": "code",
   "execution_count": 177,
   "metadata": {
    "scrolled": true
   },
   "outputs": [
    {
     "name": "stderr",
     "output_type": "stream",
     "text": [
      "/opt/anaconda3/lib/python3.7/site-packages/lightgbm/engine.py:156: UserWarning: Found `early_stopping_round` in params. Will use it instead of argument\n",
      "  warnings.warn(\"Found `{}` in params. Will use it instead of argument\".format(alias))\n",
      "/opt/anaconda3/lib/python3.7/site-packages/lightgbm/basic.py:1286: UserWarning: Overriding the parameters from Reference Dataset.\n",
      "  warnings.warn('Overriding the parameters from Reference Dataset.')\n"
     ]
    },
    {
     "name": "stdout",
     "output_type": "stream",
     "text": [
      "[1]\tTrain's auc: 0.668959\tEvaluation's auc: 0.668075\n",
      "Training until validation scores don't improve for 10 rounds\n",
      "[2]\tTrain's auc: 0.672504\tEvaluation's auc: 0.67069\n",
      "[3]\tTrain's auc: 0.672512\tEvaluation's auc: 0.670685\n",
      "[4]\tTrain's auc: 0.675476\tEvaluation's auc: 0.673772\n",
      "[5]\tTrain's auc: 0.701676\tEvaluation's auc: 0.699853\n",
      "[6]\tTrain's auc: 0.705687\tEvaluation's auc: 0.704319\n",
      "[7]\tTrain's auc: 0.706258\tEvaluation's auc: 0.704952\n",
      "[8]\tTrain's auc: 0.722918\tEvaluation's auc: 0.722089\n",
      "[9]\tTrain's auc: 0.722956\tEvaluation's auc: 0.72213\n",
      "[10]\tTrain's auc: 0.722987\tEvaluation's auc: 0.72212\n",
      "[11]\tTrain's auc: 0.723968\tEvaluation's auc: 0.723176\n",
      "[12]\tTrain's auc: 0.72397\tEvaluation's auc: 0.723205\n",
      "[13]\tTrain's auc: 0.723649\tEvaluation's auc: 0.723223\n",
      "[14]\tTrain's auc: 0.723661\tEvaluation's auc: 0.723213\n",
      "[15]\tTrain's auc: 0.723451\tEvaluation's auc: 0.723051\n",
      "[16]\tTrain's auc: 0.727654\tEvaluation's auc: 0.726772\n",
      "[17]\tTrain's auc: 0.727518\tEvaluation's auc: 0.726602\n",
      "[18]\tTrain's auc: 0.727538\tEvaluation's auc: 0.726448\n",
      "[19]\tTrain's auc: 0.727737\tEvaluation's auc: 0.726603\n",
      "[20]\tTrain's auc: 0.728798\tEvaluation's auc: 0.727608\n",
      "[21]\tTrain's auc: 0.729056\tEvaluation's auc: 0.727895\n",
      "[22]\tTrain's auc: 0.729056\tEvaluation's auc: 0.727864\n",
      "[23]\tTrain's auc: 0.729372\tEvaluation's auc: 0.728139\n",
      "[24]\tTrain's auc: 0.729789\tEvaluation's auc: 0.728499\n",
      "[25]\tTrain's auc: 0.729797\tEvaluation's auc: 0.728485\n",
      "[26]\tTrain's auc: 0.7302\tEvaluation's auc: 0.728942\n",
      "[27]\tTrain's auc: 0.729968\tEvaluation's auc: 0.72876\n",
      "[28]\tTrain's auc: 0.729999\tEvaluation's auc: 0.728865\n",
      "[29]\tTrain's auc: 0.730404\tEvaluation's auc: 0.729355\n",
      "[30]\tTrain's auc: 0.73037\tEvaluation's auc: 0.729302\n",
      "[31]\tTrain's auc: 0.73064\tEvaluation's auc: 0.72951\n",
      "[32]\tTrain's auc: 0.730514\tEvaluation's auc: 0.729377\n",
      "[33]\tTrain's auc: 0.730793\tEvaluation's auc: 0.729603\n",
      "[34]\tTrain's auc: 0.732689\tEvaluation's auc: 0.730302\n",
      "[35]\tTrain's auc: 0.732688\tEvaluation's auc: 0.730279\n",
      "[36]\tTrain's auc: 0.732947\tEvaluation's auc: 0.730663\n",
      "[37]\tTrain's auc: 0.733489\tEvaluation's auc: 0.731097\n",
      "[38]\tTrain's auc: 0.737971\tEvaluation's auc: 0.73599\n",
      "[39]\tTrain's auc: 0.737605\tEvaluation's auc: 0.735824\n",
      "[40]\tTrain's auc: 0.738144\tEvaluation's auc: 0.735936\n",
      "[41]\tTrain's auc: 0.738474\tEvaluation's auc: 0.736135\n",
      "[42]\tTrain's auc: 0.73857\tEvaluation's auc: 0.736204\n",
      "[43]\tTrain's auc: 0.738652\tEvaluation's auc: 0.736247\n",
      "[44]\tTrain's auc: 0.739313\tEvaluation's auc: 0.737024\n",
      "[45]\tTrain's auc: 0.739252\tEvaluation's auc: 0.73702\n",
      "[46]\tTrain's auc: 0.739324\tEvaluation's auc: 0.736952\n",
      "[47]\tTrain's auc: 0.739088\tEvaluation's auc: 0.736823\n",
      "[48]\tTrain's auc: 0.739562\tEvaluation's auc: 0.737303\n",
      "[49]\tTrain's auc: 0.739632\tEvaluation's auc: 0.737377\n",
      "[50]\tTrain's auc: 0.739809\tEvaluation's auc: 0.73771\n",
      "[51]\tTrain's auc: 0.739852\tEvaluation's auc: 0.73776\n",
      "[52]\tTrain's auc: 0.739912\tEvaluation's auc: 0.737799\n",
      "[53]\tTrain's auc: 0.739853\tEvaluation's auc: 0.737707\n",
      "[54]\tTrain's auc: 0.740072\tEvaluation's auc: 0.737749\n",
      "[55]\tTrain's auc: 0.739891\tEvaluation's auc: 0.737604\n",
      "[56]\tTrain's auc: 0.739969\tEvaluation's auc: 0.737593\n",
      "[57]\tTrain's auc: 0.740276\tEvaluation's auc: 0.737957\n",
      "[58]\tTrain's auc: 0.740391\tEvaluation's auc: 0.738109\n",
      "[59]\tTrain's auc: 0.740507\tEvaluation's auc: 0.738271\n",
      "[60]\tTrain's auc: 0.740569\tEvaluation's auc: 0.738282\n",
      "[61]\tTrain's auc: 0.740537\tEvaluation's auc: 0.738243\n",
      "[62]\tTrain's auc: 0.74045\tEvaluation's auc: 0.738184\n",
      "[63]\tTrain's auc: 0.740494\tEvaluation's auc: 0.738232\n",
      "[64]\tTrain's auc: 0.74061\tEvaluation's auc: 0.738356\n",
      "[65]\tTrain's auc: 0.740718\tEvaluation's auc: 0.738458\n",
      "[66]\tTrain's auc: 0.740727\tEvaluation's auc: 0.738444\n",
      "[67]\tTrain's auc: 0.74087\tEvaluation's auc: 0.738576\n",
      "[68]\tTrain's auc: 0.740981\tEvaluation's auc: 0.738758\n",
      "[69]\tTrain's auc: 0.741213\tEvaluation's auc: 0.739012\n",
      "[70]\tTrain's auc: 0.741187\tEvaluation's auc: 0.738979\n",
      "[71]\tTrain's auc: 0.741253\tEvaluation's auc: 0.738967\n",
      "[72]\tTrain's auc: 0.74127\tEvaluation's auc: 0.739015\n",
      "[73]\tTrain's auc: 0.741224\tEvaluation's auc: 0.739048\n",
      "[74]\tTrain's auc: 0.741264\tEvaluation's auc: 0.739104\n",
      "[75]\tTrain's auc: 0.74123\tEvaluation's auc: 0.739051\n",
      "[76]\tTrain's auc: 0.741336\tEvaluation's auc: 0.739131\n",
      "[77]\tTrain's auc: 0.741533\tEvaluation's auc: 0.739274\n",
      "[78]\tTrain's auc: 0.741524\tEvaluation's auc: 0.739236\n",
      "[79]\tTrain's auc: 0.741569\tEvaluation's auc: 0.739288\n",
      "[80]\tTrain's auc: 0.741597\tEvaluation's auc: 0.73931\n",
      "[81]\tTrain's auc: 0.741644\tEvaluation's auc: 0.739357\n",
      "[82]\tTrain's auc: 0.741705\tEvaluation's auc: 0.739375\n",
      "[83]\tTrain's auc: 0.741681\tEvaluation's auc: 0.739364\n",
      "[84]\tTrain's auc: 0.741755\tEvaluation's auc: 0.739453\n",
      "[85]\tTrain's auc: 0.741696\tEvaluation's auc: 0.739475\n",
      "[86]\tTrain's auc: 0.742063\tEvaluation's auc: 0.739809\n",
      "[87]\tTrain's auc: 0.742176\tEvaluation's auc: 0.739957\n",
      "[88]\tTrain's auc: 0.742616\tEvaluation's auc: 0.740353\n",
      "[89]\tTrain's auc: 0.742638\tEvaluation's auc: 0.740341\n",
      "[90]\tTrain's auc: 0.742642\tEvaluation's auc: 0.740355\n",
      "[91]\tTrain's auc: 0.742673\tEvaluation's auc: 0.740264\n",
      "[92]\tTrain's auc: 0.742688\tEvaluation's auc: 0.740274\n",
      "[93]\tTrain's auc: 0.742718\tEvaluation's auc: 0.740354\n",
      "[94]\tTrain's auc: 0.742781\tEvaluation's auc: 0.740456\n",
      "[95]\tTrain's auc: 0.742845\tEvaluation's auc: 0.74062\n",
      "[96]\tTrain's auc: 0.742894\tEvaluation's auc: 0.740671\n",
      "[97]\tTrain's auc: 0.74294\tEvaluation's auc: 0.740797\n",
      "[98]\tTrain's auc: 0.742978\tEvaluation's auc: 0.740829\n",
      "[99]\tTrain's auc: 0.743099\tEvaluation's auc: 0.741005\n",
      "[100]\tTrain's auc: 0.743183\tEvaluation's auc: 0.741094\n",
      "[101]\tTrain's auc: 0.743212\tEvaluation's auc: 0.741096\n",
      "[102]\tTrain's auc: 0.743235\tEvaluation's auc: 0.741221\n",
      "[103]\tTrain's auc: 0.74333\tEvaluation's auc: 0.741207\n",
      "[104]\tTrain's auc: 0.743416\tEvaluation's auc: 0.74142\n",
      "[105]\tTrain's auc: 0.743543\tEvaluation's auc: 0.741568\n",
      "[106]\tTrain's auc: 0.74365\tEvaluation's auc: 0.741413\n",
      "[107]\tTrain's auc: 0.743746\tEvaluation's auc: 0.741362\n",
      "[108]\tTrain's auc: 0.743883\tEvaluation's auc: 0.741604\n",
      "[109]\tTrain's auc: 0.743886\tEvaluation's auc: 0.741723\n",
      "[110]\tTrain's auc: 0.743841\tEvaluation's auc: 0.741427\n",
      "[111]\tTrain's auc: 0.743938\tEvaluation's auc: 0.741545\n",
      "[112]\tTrain's auc: 0.744163\tEvaluation's auc: 0.741716\n",
      "[113]\tTrain's auc: 0.744172\tEvaluation's auc: 0.741729\n",
      "[114]\tTrain's auc: 0.744222\tEvaluation's auc: 0.741789\n",
      "[115]\tTrain's auc: 0.744548\tEvaluation's auc: 0.742065\n",
      "[116]\tTrain's auc: 0.744575\tEvaluation's auc: 0.742013\n",
      "[117]\tTrain's auc: 0.744613\tEvaluation's auc: 0.742091\n",
      "[118]\tTrain's auc: 0.744996\tEvaluation's auc: 0.742519\n",
      "[119]\tTrain's auc: 0.745051\tEvaluation's auc: 0.742599\n",
      "[120]\tTrain's auc: 0.745154\tEvaluation's auc: 0.74268\n",
      "[121]\tTrain's auc: 0.745183\tEvaluation's auc: 0.742746\n",
      "[122]\tTrain's auc: 0.745257\tEvaluation's auc: 0.742831\n",
      "[123]\tTrain's auc: 0.745339\tEvaluation's auc: 0.74286\n",
      "[124]\tTrain's auc: 0.74541\tEvaluation's auc: 0.742919\n",
      "[125]\tTrain's auc: 0.745412\tEvaluation's auc: 0.742854\n",
      "[126]\tTrain's auc: 0.74541\tEvaluation's auc: 0.742799\n",
      "[127]\tTrain's auc: 0.745415\tEvaluation's auc: 0.742851\n",
      "[128]\tTrain's auc: 0.745335\tEvaluation's auc: 0.74254\n",
      "[129]\tTrain's auc: 0.745405\tEvaluation's auc: 0.742568\n",
      "[130]\tTrain's auc: 0.745645\tEvaluation's auc: 0.742755\n",
      "[131]\tTrain's auc: 0.745685\tEvaluation's auc: 0.742751\n",
      "[132]\tTrain's auc: 0.745753\tEvaluation's auc: 0.742748\n",
      "[133]\tTrain's auc: 0.745771\tEvaluation's auc: 0.742734\n",
      "[134]\tTrain's auc: 0.745952\tEvaluation's auc: 0.742966\n",
      "[135]\tTrain's auc: 0.746009\tEvaluation's auc: 0.743041\n",
      "[136]\tTrain's auc: 0.746132\tEvaluation's auc: 0.743153\n",
      "[137]\tTrain's auc: 0.746257\tEvaluation's auc: 0.743236\n",
      "[138]\tTrain's auc: 0.746393\tEvaluation's auc: 0.743461\n",
      "[139]\tTrain's auc: 0.74654\tEvaluation's auc: 0.743576\n",
      "[140]\tTrain's auc: 0.746537\tEvaluation's auc: 0.743508\n",
      "[141]\tTrain's auc: 0.746542\tEvaluation's auc: 0.743549\n",
      "[142]\tTrain's auc: 0.74657\tEvaluation's auc: 0.743565\n",
      "[143]\tTrain's auc: 0.746762\tEvaluation's auc: 0.743757\n",
      "[144]\tTrain's auc: 0.746829\tEvaluation's auc: 0.743856\n",
      "[145]\tTrain's auc: 0.746914\tEvaluation's auc: 0.743931\n",
      "[146]\tTrain's auc: 0.746924\tEvaluation's auc: 0.743986\n",
      "[147]\tTrain's auc: 0.747001\tEvaluation's auc: 0.744057\n",
      "[148]\tTrain's auc: 0.747085\tEvaluation's auc: 0.744175\n",
      "[149]\tTrain's auc: 0.747161\tEvaluation's auc: 0.744267\n",
      "[150]\tTrain's auc: 0.747284\tEvaluation's auc: 0.744338\n",
      "[151]\tTrain's auc: 0.747301\tEvaluation's auc: 0.744449\n",
      "[152]\tTrain's auc: 0.747292\tEvaluation's auc: 0.744431\n",
      "[153]\tTrain's auc: 0.747372\tEvaluation's auc: 0.744533\n"
     ]
    },
    {
     "name": "stdout",
     "output_type": "stream",
     "text": [
      "[154]\tTrain's auc: 0.747458\tEvaluation's auc: 0.744639\n",
      "[155]\tTrain's auc: 0.747461\tEvaluation's auc: 0.744635\n",
      "[156]\tTrain's auc: 0.747496\tEvaluation's auc: 0.744607\n",
      "[157]\tTrain's auc: 0.747556\tEvaluation's auc: 0.744641\n",
      "[158]\tTrain's auc: 0.747653\tEvaluation's auc: 0.744786\n",
      "[159]\tTrain's auc: 0.747672\tEvaluation's auc: 0.744724\n",
      "[160]\tTrain's auc: 0.747683\tEvaluation's auc: 0.744727\n",
      "[161]\tTrain's auc: 0.747816\tEvaluation's auc: 0.744853\n",
      "[162]\tTrain's auc: 0.747873\tEvaluation's auc: 0.744943\n",
      "[163]\tTrain's auc: 0.7481\tEvaluation's auc: 0.745267\n",
      "[164]\tTrain's auc: 0.748195\tEvaluation's auc: 0.745344\n",
      "[165]\tTrain's auc: 0.748171\tEvaluation's auc: 0.745343\n",
      "[166]\tTrain's auc: 0.748204\tEvaluation's auc: 0.745356\n",
      "[167]\tTrain's auc: 0.74811\tEvaluation's auc: 0.745389\n",
      "[168]\tTrain's auc: 0.748194\tEvaluation's auc: 0.745447\n",
      "[169]\tTrain's auc: 0.748198\tEvaluation's auc: 0.745428\n",
      "[170]\tTrain's auc: 0.748202\tEvaluation's auc: 0.745427\n",
      "[171]\tTrain's auc: 0.748227\tEvaluation's auc: 0.745505\n",
      "[172]\tTrain's auc: 0.748218\tEvaluation's auc: 0.745495\n",
      "[173]\tTrain's auc: 0.748289\tEvaluation's auc: 0.745533\n",
      "[174]\tTrain's auc: 0.748611\tEvaluation's auc: 0.745696\n",
      "[175]\tTrain's auc: 0.748662\tEvaluation's auc: 0.745781\n",
      "[176]\tTrain's auc: 0.748731\tEvaluation's auc: 0.745837\n",
      "[177]\tTrain's auc: 0.748789\tEvaluation's auc: 0.745963\n",
      "[178]\tTrain's auc: 0.748924\tEvaluation's auc: 0.746055\n",
      "[179]\tTrain's auc: 0.748916\tEvaluation's auc: 0.746002\n",
      "[180]\tTrain's auc: 0.748929\tEvaluation's auc: 0.746016\n",
      "[181]\tTrain's auc: 0.748923\tEvaluation's auc: 0.746018\n",
      "[182]\tTrain's auc: 0.748933\tEvaluation's auc: 0.746071\n",
      "[183]\tTrain's auc: 0.748967\tEvaluation's auc: 0.746039\n",
      "[184]\tTrain's auc: 0.749019\tEvaluation's auc: 0.746065\n",
      "[185]\tTrain's auc: 0.749068\tEvaluation's auc: 0.746111\n",
      "[186]\tTrain's auc: 0.749124\tEvaluation's auc: 0.746161\n",
      "[187]\tTrain's auc: 0.749182\tEvaluation's auc: 0.746205\n",
      "[188]\tTrain's auc: 0.749183\tEvaluation's auc: 0.746294\n",
      "[189]\tTrain's auc: 0.749305\tEvaluation's auc: 0.746376\n",
      "[190]\tTrain's auc: 0.7494\tEvaluation's auc: 0.746458\n",
      "[191]\tTrain's auc: 0.749459\tEvaluation's auc: 0.746506\n",
      "[192]\tTrain's auc: 0.74947\tEvaluation's auc: 0.746479\n",
      "[193]\tTrain's auc: 0.749557\tEvaluation's auc: 0.746499\n",
      "[194]\tTrain's auc: 0.749613\tEvaluation's auc: 0.746662\n",
      "[195]\tTrain's auc: 0.749606\tEvaluation's auc: 0.74658\n",
      "[196]\tTrain's auc: 0.749655\tEvaluation's auc: 0.746692\n",
      "[197]\tTrain's auc: 0.749712\tEvaluation's auc: 0.74666\n",
      "[198]\tTrain's auc: 0.749763\tEvaluation's auc: 0.746642\n",
      "[199]\tTrain's auc: 0.749835\tEvaluation's auc: 0.746729\n",
      "[200]\tTrain's auc: 0.749861\tEvaluation's auc: 0.746757\n",
      "[201]\tTrain's auc: 0.749904\tEvaluation's auc: 0.746792\n",
      "[202]\tTrain's auc: 0.749924\tEvaluation's auc: 0.746809\n",
      "[203]\tTrain's auc: 0.749949\tEvaluation's auc: 0.746866\n",
      "[204]\tTrain's auc: 0.749998\tEvaluation's auc: 0.746916\n",
      "[205]\tTrain's auc: 0.750062\tEvaluation's auc: 0.747028\n",
      "[206]\tTrain's auc: 0.750085\tEvaluation's auc: 0.746991\n",
      "[207]\tTrain's auc: 0.750115\tEvaluation's auc: 0.747035\n",
      "[208]\tTrain's auc: 0.750178\tEvaluation's auc: 0.747123\n",
      "[209]\tTrain's auc: 0.750192\tEvaluation's auc: 0.747166\n",
      "[210]\tTrain's auc: 0.75022\tEvaluation's auc: 0.747204\n",
      "[211]\tTrain's auc: 0.750245\tEvaluation's auc: 0.747259\n",
      "[212]\tTrain's auc: 0.750257\tEvaluation's auc: 0.747288\n",
      "[213]\tTrain's auc: 0.750269\tEvaluation's auc: 0.747301\n",
      "[214]\tTrain's auc: 0.750314\tEvaluation's auc: 0.74727\n",
      "[215]\tTrain's auc: 0.750888\tEvaluation's auc: 0.748101\n",
      "[216]\tTrain's auc: 0.750903\tEvaluation's auc: 0.748111\n",
      "[217]\tTrain's auc: 0.751004\tEvaluation's auc: 0.748312\n",
      "[218]\tTrain's auc: 0.751006\tEvaluation's auc: 0.748311\n",
      "[219]\tTrain's auc: 0.750992\tEvaluation's auc: 0.748307\n",
      "[220]\tTrain's auc: 0.751008\tEvaluation's auc: 0.748304\n",
      "[221]\tTrain's auc: 0.750991\tEvaluation's auc: 0.74832\n",
      "[222]\tTrain's auc: 0.751028\tEvaluation's auc: 0.748319\n",
      "[223]\tTrain's auc: 0.751166\tEvaluation's auc: 0.748619\n",
      "[224]\tTrain's auc: 0.751239\tEvaluation's auc: 0.748709\n",
      "[225]\tTrain's auc: 0.751298\tEvaluation's auc: 0.748754\n",
      "[226]\tTrain's auc: 0.751297\tEvaluation's auc: 0.748737\n",
      "[227]\tTrain's auc: 0.751491\tEvaluation's auc: 0.748868\n",
      "[228]\tTrain's auc: 0.751571\tEvaluation's auc: 0.74893\n",
      "[229]\tTrain's auc: 0.75146\tEvaluation's auc: 0.748903\n",
      "[230]\tTrain's auc: 0.751495\tEvaluation's auc: 0.748944\n",
      "[231]\tTrain's auc: 0.751594\tEvaluation's auc: 0.74902\n",
      "[232]\tTrain's auc: 0.751626\tEvaluation's auc: 0.749024\n",
      "[233]\tTrain's auc: 0.751607\tEvaluation's auc: 0.748964\n",
      "[234]\tTrain's auc: 0.751599\tEvaluation's auc: 0.748962\n",
      "[235]\tTrain's auc: 0.751556\tEvaluation's auc: 0.748775\n",
      "[236]\tTrain's auc: 0.751558\tEvaluation's auc: 0.748857\n",
      "[237]\tTrain's auc: 0.751594\tEvaluation's auc: 0.748873\n",
      "[238]\tTrain's auc: 0.751599\tEvaluation's auc: 0.748888\n",
      "[239]\tTrain's auc: 0.751662\tEvaluation's auc: 0.748935\n",
      "[240]\tTrain's auc: 0.75167\tEvaluation's auc: 0.748944\n",
      "[241]\tTrain's auc: 0.751687\tEvaluation's auc: 0.748971\n",
      "[242]\tTrain's auc: 0.751678\tEvaluation's auc: 0.749007\n",
      "Early stopping, best iteration is:\n",
      "[232]\tTrain's auc: 0.751626\tEvaluation's auc: 0.749024\n"
     ]
    }
   ],
   "source": [
    "lgb_gbm_auc = lgb.train(params = lgbm_params, train_set = lightgbm_hp_train,\n",
    "                num_boost_round = 1000, valid_sets = [lightgbm_hp_val, lightgbm_hp_train],\n",
    "               valid_names = ['Evaluation', 'Train'])"
   ]
  },
  {
   "cell_type": "code",
   "execution_count": 178,
   "metadata": {},
   "outputs": [],
   "source": [
    "y_probs_train = lgb_gbm_auc.predict(x_train)\n",
    "y_probs_test = lgb_gbm_auc.predict(x_test)"
   ]
  },
  {
   "cell_type": "code",
   "execution_count": 179,
   "metadata": {},
   "outputs": [
    {
     "data": {
      "text/plain": [
       "0.751625569690298"
      ]
     },
     "execution_count": 179,
     "metadata": {},
     "output_type": "execute_result"
    }
   ],
   "source": [
    "fpr, tpr, thresholds = metrics.roc_curve(y_train, y_probs_train)\n",
    "metrics.auc(fpr, tpr)"
   ]
  },
  {
   "cell_type": "code",
   "execution_count": 180,
   "metadata": {},
   "outputs": [
    {
     "data": {
      "text/plain": [
       "0.7515228650175707"
      ]
     },
     "execution_count": 180,
     "metadata": {},
     "output_type": "execute_result"
    }
   ],
   "source": [
    "fpr, tpr, thresholds = metrics.roc_curve(y_test, y_probs_test)\n",
    "metrics.auc(fpr, tpr)"
   ]
  },
  {
   "cell_type": "markdown",
   "metadata": {},
   "source": [
    "***\n",
    "### Recommendation System\n",
    "***"
   ]
  },
  {
   "cell_type": "code",
   "execution_count": 3,
   "metadata": {},
   "outputs": [],
   "source": [
    "import surprise"
   ]
  },
  {
   "cell_type": "code",
   "execution_count": 4,
   "metadata": {},
   "outputs": [],
   "source": [
    "from surprise import SVD\n",
    "from surprise import Dataset\n",
    "from surprise.model_selection import cross_validate"
   ]
  },
  {
   "cell_type": "code",
   "execution_count": 5,
   "metadata": {},
   "outputs": [
    {
     "data": {
      "text/html": [
       "<div>\n",
       "<style scoped>\n",
       "    .dataframe tbody tr th:only-of-type {\n",
       "        vertical-align: middle;\n",
       "    }\n",
       "\n",
       "    .dataframe tbody tr th {\n",
       "        vertical-align: top;\n",
       "    }\n",
       "\n",
       "    .dataframe thead th {\n",
       "        text-align: right;\n",
       "    }\n",
       "</style>\n",
       "<table border=\"1\" class=\"dataframe\">\n",
       "  <thead>\n",
       "    <tr style=\"text-align: right;\">\n",
       "      <th></th>\n",
       "      <th>movie_id</th>\n",
       "      <th>rating_id</th>\n",
       "      <th>rating_url</th>\n",
       "      <th>rating_score</th>\n",
       "      <th>rating_timestamp_utc</th>\n",
       "      <th>critic</th>\n",
       "      <th>critic_likes</th>\n",
       "      <th>critic_comments</th>\n",
       "      <th>user_id</th>\n",
       "      <th>user_trialist</th>\n",
       "      <th>user_subscriber</th>\n",
       "      <th>user_eligible_for_trial</th>\n",
       "      <th>user_has_payment_method</th>\n",
       "    </tr>\n",
       "  </thead>\n",
       "  <tbody>\n",
       "    <tr>\n",
       "      <td>0</td>\n",
       "      <td>1066</td>\n",
       "      <td>15610495</td>\n",
       "      <td>http://mubi.com/films/pavee-lackeen-the-travel...</td>\n",
       "      <td>3.0</td>\n",
       "      <td>2017-06-10 12:38:33</td>\n",
       "      <td>NaN</td>\n",
       "      <td>0</td>\n",
       "      <td>0</td>\n",
       "      <td>41579158</td>\n",
       "      <td>False</td>\n",
       "      <td>False</td>\n",
       "      <td>True</td>\n",
       "      <td>False</td>\n",
       "    </tr>\n",
       "    <tr>\n",
       "      <td>1</td>\n",
       "      <td>1066</td>\n",
       "      <td>10704606</td>\n",
       "      <td>http://mubi.com/films/pavee-lackeen-the-travel...</td>\n",
       "      <td>2.0</td>\n",
       "      <td>2014-08-15 23:42:31</td>\n",
       "      <td>NaN</td>\n",
       "      <td>0</td>\n",
       "      <td>0</td>\n",
       "      <td>85981819</td>\n",
       "      <td>True</td>\n",
       "      <td>True</td>\n",
       "      <td>False</td>\n",
       "      <td>True</td>\n",
       "    </tr>\n",
       "    <tr>\n",
       "      <td>2</td>\n",
       "      <td>1066</td>\n",
       "      <td>10177114</td>\n",
       "      <td>http://mubi.com/films/pavee-lackeen-the-travel...</td>\n",
       "      <td>2.0</td>\n",
       "      <td>2014-01-30 13:21:57</td>\n",
       "      <td>NaN</td>\n",
       "      <td>0</td>\n",
       "      <td>0</td>\n",
       "      <td>4208563</td>\n",
       "      <td>False</td>\n",
       "      <td>False</td>\n",
       "      <td>True</td>\n",
       "      <td>True</td>\n",
       "    </tr>\n",
       "    <tr>\n",
       "      <td>3</td>\n",
       "      <td>1066</td>\n",
       "      <td>10130280</td>\n",
       "      <td>http://mubi.com/films/pavee-lackeen-the-travel...</td>\n",
       "      <td>3.0</td>\n",
       "      <td>2014-01-19 01:04:23</td>\n",
       "      <td>I am a bit disappointed by this documentary fi...</td>\n",
       "      <td>0</td>\n",
       "      <td>0</td>\n",
       "      <td>9820140</td>\n",
       "      <td>False</td>\n",
       "      <td>False</td>\n",
       "      <td>True</td>\n",
       "      <td>False</td>\n",
       "    </tr>\n",
       "    <tr>\n",
       "      <td>4</td>\n",
       "      <td>1066</td>\n",
       "      <td>8357049</td>\n",
       "      <td>http://mubi.com/films/pavee-lackeen-the-travel...</td>\n",
       "      <td>4.0</td>\n",
       "      <td>2012-10-02 18:28:47</td>\n",
       "      <td>NaN</td>\n",
       "      <td>0</td>\n",
       "      <td>0</td>\n",
       "      <td>68654088</td>\n",
       "      <td>False</td>\n",
       "      <td>False</td>\n",
       "      <td>True</td>\n",
       "      <td>True</td>\n",
       "    </tr>\n",
       "  </tbody>\n",
       "</table>\n",
       "</div>"
      ],
      "text/plain": [
       "   movie_id  rating_id                                         rating_url  \\\n",
       "0      1066   15610495  http://mubi.com/films/pavee-lackeen-the-travel...   \n",
       "1      1066   10704606  http://mubi.com/films/pavee-lackeen-the-travel...   \n",
       "2      1066   10177114  http://mubi.com/films/pavee-lackeen-the-travel...   \n",
       "3      1066   10130280  http://mubi.com/films/pavee-lackeen-the-travel...   \n",
       "4      1066    8357049  http://mubi.com/films/pavee-lackeen-the-travel...   \n",
       "\n",
       "   rating_score rating_timestamp_utc  \\\n",
       "0           3.0  2017-06-10 12:38:33   \n",
       "1           2.0  2014-08-15 23:42:31   \n",
       "2           2.0  2014-01-30 13:21:57   \n",
       "3           3.0  2014-01-19 01:04:23   \n",
       "4           4.0  2012-10-02 18:28:47   \n",
       "\n",
       "                                              critic  critic_likes  \\\n",
       "0                                                NaN             0   \n",
       "1                                                NaN             0   \n",
       "2                                                NaN             0   \n",
       "3  I am a bit disappointed by this documentary fi...             0   \n",
       "4                                                NaN             0   \n",
       "\n",
       "   critic_comments   user_id user_trialist user_subscriber  \\\n",
       "0                0  41579158         False           False   \n",
       "1                0  85981819          True            True   \n",
       "2                0   4208563         False           False   \n",
       "3                0   9820140         False           False   \n",
       "4                0  68654088         False           False   \n",
       "\n",
       "  user_eligible_for_trial user_has_payment_method  \n",
       "0                    True                   False  \n",
       "1                   False                    True  \n",
       "2                    True                    True  \n",
       "3                    True                   False  \n",
       "4                    True                    True  "
      ]
     },
     "execution_count": 5,
     "metadata": {},
     "output_type": "execute_result"
    }
   ],
   "source": [
    "ratingsdf.head()"
   ]
  },
  {
   "cell_type": "code",
   "execution_count": 29,
   "metadata": {},
   "outputs": [],
   "source": [
    "ratings = ratingsdf.loc[:, ['user_id','movie_id','rating_score']]"
   ]
  },
  {
   "cell_type": "code",
   "execution_count": 30,
   "metadata": {},
   "outputs": [
    {
     "data": {
      "text/plain": [
       "user_id             0\n",
       "movie_id            0\n",
       "rating_score    26731\n",
       "dtype: int64"
      ]
     },
     "execution_count": 30,
     "metadata": {},
     "output_type": "execute_result"
    }
   ],
   "source": [
    "ratings.isnull().sum()"
   ]
  },
  {
   "cell_type": "code",
   "execution_count": 31,
   "metadata": {},
   "outputs": [],
   "source": [
    "ratings = ratings.dropna()"
   ]
  },
  {
   "cell_type": "code",
   "execution_count": 32,
   "metadata": {},
   "outputs": [
    {
     "data": {
      "text/plain": [
       "448627"
      ]
     },
     "execution_count": 32,
     "metadata": {},
     "output_type": "execute_result"
    }
   ],
   "source": [
    "ratings['user_id'].nunique()"
   ]
  },
  {
   "cell_type": "code",
   "execution_count": 33,
   "metadata": {},
   "outputs": [
    {
     "data": {
      "text/plain": [
       "count    1.549327e+07\n",
       "mean     3.590377e+00\n",
       "std      1.106302e+00\n",
       "min      1.000000e+00\n",
       "25%      3.000000e+00\n",
       "50%      4.000000e+00\n",
       "75%      4.000000e+00\n",
       "max      5.000000e+00\n",
       "Name: rating_score, dtype: float64"
      ]
     },
     "execution_count": 33,
     "metadata": {},
     "output_type": "execute_result"
    }
   ],
   "source": [
    "ratings['rating_score'].describe()"
   ]
  },
  {
   "cell_type": "code",
   "execution_count": 34,
   "metadata": {},
   "outputs": [
    {
     "data": {
      "text/plain": [
       "142606"
      ]
     },
     "execution_count": 34,
     "metadata": {},
     "output_type": "execute_result"
    }
   ],
   "source": [
    "ratings['movie_id'].nunique()"
   ]
  },
  {
   "cell_type": "code",
   "execution_count": 35,
   "metadata": {},
   "outputs": [],
   "source": [
    "reader = surprise.Reader(line_format='user item rating', rating_scale = (1, 5))\n",
    "mubi_data = surprise.Dataset.load_from_df(ratings, reader)"
   ]
  },
  {
   "cell_type": "code",
   "execution_count": 36,
   "metadata": {},
   "outputs": [],
   "source": [
    "svd_algo = surprise.SVD(biased = False,\n",
    "    n_epochs = 20,\n",
    "    n_factors = 200,\n",
    "    lr_all = 0.1,\n",
    "    lr_bu = 0.05,\n",
    "    lr_bi = 0.05,\n",
    "    lr_pu = 0.05,\n",
    "    lr_qi = 0.05,\n",
    "    reg_all = 0.1\n",
    "                       )"
   ]
  },
  {
   "cell_type": "code",
   "execution_count": 37,
   "metadata": {},
   "outputs": [],
   "source": [
    "from surprise.model_selection import train_test_split\n",
    "trainset, testset = train_test_split(mubi_data, test_size = 0.2)"
   ]
  },
  {
   "cell_type": "code",
   "execution_count": 38,
   "metadata": {},
   "outputs": [
    {
     "name": "stdout",
     "output_type": "stream",
     "text": [
      "Evaluating RMSE, MAE of algorithm SVD on 5 split(s).\n",
      "\n",
      "                  Fold 1  Fold 2  Fold 3  Fold 4  Fold 5  Mean    Std     \n",
      "RMSE (testset)    0.9609  0.9601  0.9621  0.9607  0.9599  0.9608  0.0008  \n",
      "MAE (testset)     0.7352  0.7343  0.7355  0.7345  0.7341  0.7347  0.0006  \n",
      "Fit time          2335.02 1922.28 2041.88 2076.87 1972.52 2069.71 143.11  \n",
      "Test time         2797.03 1719.94 1268.71 707.99  963.61  1491.46 734.68  \n"
     ]
    }
   ],
   "source": [
    "svd_algo_cv = cross_validate(svd_algo, mubi_data, measures = ['RMSE', 'MAE'], cv = 5, verbose = True)"
   ]
  },
  {
   "cell_type": "code",
   "execution_count": 39,
   "metadata": {},
   "outputs": [
    {
     "data": {
      "text/plain": [
       "<surprise.prediction_algorithms.matrix_factorization.SVD at 0x7f9f390dfc50>"
      ]
     },
     "execution_count": 39,
     "metadata": {},
     "output_type": "execute_result"
    }
   ],
   "source": [
    "svd_algo.fit(trainset)"
   ]
  },
  {
   "cell_type": "code",
   "execution_count": 40,
   "metadata": {},
   "outputs": [],
   "source": [
    "predictions = svd_algo.test(testset)"
   ]
  },
  {
   "cell_type": "code",
   "execution_count": 41,
   "metadata": {},
   "outputs": [
    {
     "name": "stdout",
     "output_type": "stream",
     "text": [
      "RMSE: 0.9602\n"
     ]
    },
    {
     "data": {
      "text/plain": [
       "0.9601619131053171"
      ]
     },
     "execution_count": 41,
     "metadata": {},
     "output_type": "execute_result"
    }
   ],
   "source": [
    "from surprise import accuracy\n",
    "accuracy.rmse(predictions)"
   ]
  },
  {
   "cell_type": "code",
   "execution_count": 52,
   "metadata": {},
   "outputs": [
    {
     "name": "stdout",
     "output_type": "stream",
     "text": [
      "1.6522068940429802\n"
     ]
    }
   ],
   "source": [
    "mv_pred_svd = svd_algo.predict(uid = 78977599, iid = 2385)\n",
    "mv_pred_svd_score = mv_pred_svd.est\n",
    "print(mv_pred_svd_score)"
   ]
  },
  {
   "cell_type": "code",
   "execution_count": 53,
   "metadata": {},
   "outputs": [],
   "source": [
    "user_id_list = ratings['user_id'].unique()\n",
    "user_id_l_rated = ratings.loc[ratings['user_id'] == 78977599, 'movie_id']\n",
    "user_id_1_unrated = np.setdiff1d(user_id_list, user_id_l_rated)"
   ]
  },
  {
   "cell_type": "code",
   "execution_count": 59,
   "metadata": {},
   "outputs": [],
   "source": [
    "user_id_testset = [[78977599, movie_id, 4.] for movie_id in user_id_1_unrated]"
   ]
  },
  {
   "cell_type": "code",
   "execution_count": 60,
   "metadata": {},
   "outputs": [
    {
     "data": {
      "text/html": [
       "<div>\n",
       "<style scoped>\n",
       "    .dataframe tbody tr th:only-of-type {\n",
       "        vertical-align: middle;\n",
       "    }\n",
       "\n",
       "    .dataframe tbody tr th {\n",
       "        vertical-align: top;\n",
       "    }\n",
       "\n",
       "    .dataframe thead th {\n",
       "        text-align: right;\n",
       "    }\n",
       "</style>\n",
       "<table border=\"1\" class=\"dataframe\">\n",
       "  <thead>\n",
       "    <tr style=\"text-align: right;\">\n",
       "      <th></th>\n",
       "      <th>uid</th>\n",
       "      <th>iid</th>\n",
       "      <th>r_ui</th>\n",
       "      <th>est</th>\n",
       "      <th>details</th>\n",
       "    </tr>\n",
       "  </thead>\n",
       "  <tbody>\n",
       "    <tr>\n",
       "      <td>0</td>\n",
       "      <td>78977599</td>\n",
       "      <td>57</td>\n",
       "      <td>4.0</td>\n",
       "      <td>2.432456</td>\n",
       "      <td>{'was_impossible': False}</td>\n",
       "    </tr>\n",
       "    <tr>\n",
       "      <td>1</td>\n",
       "      <td>78977599</td>\n",
       "      <td>853</td>\n",
       "      <td>4.0</td>\n",
       "      <td>3.877184</td>\n",
       "      <td>{'was_impossible': False}</td>\n",
       "    </tr>\n",
       "    <tr>\n",
       "      <td>2</td>\n",
       "      <td>78977599</td>\n",
       "      <td>1290</td>\n",
       "      <td>4.0</td>\n",
       "      <td>3.207470</td>\n",
       "      <td>{'was_impossible': False}</td>\n",
       "    </tr>\n",
       "    <tr>\n",
       "      <td>3</td>\n",
       "      <td>78977599</td>\n",
       "      <td>1984</td>\n",
       "      <td>4.0</td>\n",
       "      <td>3.964027</td>\n",
       "      <td>{'was_impossible': False}</td>\n",
       "    </tr>\n",
       "    <tr>\n",
       "      <td>4</td>\n",
       "      <td>78977599</td>\n",
       "      <td>2278</td>\n",
       "      <td>4.0</td>\n",
       "      <td>3.590380</td>\n",
       "      <td>{'was_impossible': True, 'reason': 'User and i...</td>\n",
       "    </tr>\n",
       "    <tr>\n",
       "      <td>...</td>\n",
       "      <td>...</td>\n",
       "      <td>...</td>\n",
       "      <td>...</td>\n",
       "      <td>...</td>\n",
       "      <td>...</td>\n",
       "    </tr>\n",
       "    <tr>\n",
       "      <td>448589</td>\n",
       "      <td>78977599</td>\n",
       "      <td>99999515</td>\n",
       "      <td>4.0</td>\n",
       "      <td>3.590380</td>\n",
       "      <td>{'was_impossible': True, 'reason': 'User and i...</td>\n",
       "    </tr>\n",
       "    <tr>\n",
       "      <td>448590</td>\n",
       "      <td>78977599</td>\n",
       "      <td>99999709</td>\n",
       "      <td>4.0</td>\n",
       "      <td>3.590380</td>\n",
       "      <td>{'was_impossible': True, 'reason': 'User and i...</td>\n",
       "    </tr>\n",
       "    <tr>\n",
       "      <td>448591</td>\n",
       "      <td>78977599</td>\n",
       "      <td>99999735</td>\n",
       "      <td>4.0</td>\n",
       "      <td>3.590380</td>\n",
       "      <td>{'was_impossible': True, 'reason': 'User and i...</td>\n",
       "    </tr>\n",
       "    <tr>\n",
       "      <td>448592</td>\n",
       "      <td>78977599</td>\n",
       "      <td>99999763</td>\n",
       "      <td>4.0</td>\n",
       "      <td>3.590380</td>\n",
       "      <td>{'was_impossible': True, 'reason': 'User and i...</td>\n",
       "    </tr>\n",
       "    <tr>\n",
       "      <td>448593</td>\n",
       "      <td>78977599</td>\n",
       "      <td>99999860</td>\n",
       "      <td>4.0</td>\n",
       "      <td>3.590380</td>\n",
       "      <td>{'was_impossible': True, 'reason': 'User and i...</td>\n",
       "    </tr>\n",
       "  </tbody>\n",
       "</table>\n",
       "<p>448594 rows × 5 columns</p>\n",
       "</div>"
      ],
      "text/plain": [
       "             uid       iid  r_ui       est  \\\n",
       "0       78977599        57   4.0  2.432456   \n",
       "1       78977599       853   4.0  3.877184   \n",
       "2       78977599      1290   4.0  3.207470   \n",
       "3       78977599      1984   4.0  3.964027   \n",
       "4       78977599      2278   4.0  3.590380   \n",
       "...          ...       ...   ...       ...   \n",
       "448589  78977599  99999515   4.0  3.590380   \n",
       "448590  78977599  99999709   4.0  3.590380   \n",
       "448591  78977599  99999735   4.0  3.590380   \n",
       "448592  78977599  99999763   4.0  3.590380   \n",
       "448593  78977599  99999860   4.0  3.590380   \n",
       "\n",
       "                                                  details  \n",
       "0                               {'was_impossible': False}  \n",
       "1                               {'was_impossible': False}  \n",
       "2                               {'was_impossible': False}  \n",
       "3                               {'was_impossible': False}  \n",
       "4       {'was_impossible': True, 'reason': 'User and i...  \n",
       "...                                                   ...  \n",
       "448589  {'was_impossible': True, 'reason': 'User and i...  \n",
       "448590  {'was_impossible': True, 'reason': 'User and i...  \n",
       "448591  {'was_impossible': True, 'reason': 'User and i...  \n",
       "448592  {'was_impossible': True, 'reason': 'User and i...  \n",
       "448593  {'was_impossible': True, 'reason': 'User and i...  \n",
       "\n",
       "[448594 rows x 5 columns]"
      ]
     },
     "execution_count": 60,
     "metadata": {},
     "output_type": "execute_result"
    }
   ],
   "source": [
    "user_id_1_predictions = svd_algo.test(user_id_testset)\n",
    "predictions_df = pd.DataFrame(user_id_1_predictions)\n",
    "predictions_df"
   ]
  }
 ],
 "metadata": {
  "kernelspec": {
   "display_name": "Python 3",
   "language": "python",
   "name": "python3"
  },
  "language_info": {
   "codemirror_mode": {
    "name": "ipython",
    "version": 3
   },
   "file_extension": ".py",
   "mimetype": "text/x-python",
   "name": "python",
   "nbconvert_exporter": "python",
   "pygments_lexer": "ipython3",
   "version": "3.8.6"
  }
 },
 "nbformat": 4,
 "nbformat_minor": 2
}
